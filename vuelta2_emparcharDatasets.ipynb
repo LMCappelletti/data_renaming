{
 "cells": [
  {
   "cell_type": "markdown",
   "id": "aadb99db",
   "metadata": {},
   "source": [
    "###  <font color = \"orangered\">  Emparchar los datasets no resueltos de manera automatizada por v2_renaming </font>"
   ]
  },
  {
   "cell_type": "markdown",
   "id": "bd193733",
   "metadata": {},
   "source": [
    "<b> <font color = \"bisque\"> Emparcho problemas que quedan después de reparar tema con topico DESHUM </font> </b>"
   ]
  },
  {
   "cell_type": "markdown",
   "id": "d4080733",
   "metadata": {},
   "source": [
    "<b> <font color = \"bisque\"> Filtro los problemas ya resueltos sobre el tópico DESHUM que afectaba tanto a dfProblemas_tipo2 como a dfProblemas_tipo3, y dejo los problemas restantes para verlos en una segunda vuelta  </font> </b>"
   ]
  },
  {
   "cell_type": "markdown",
   "id": "579dd0c5",
   "metadata": {},
   "source": [
    "<b> <font color = \"bisque\"> Problemas tipo2  </font> </b>"
   ]
  },
  {
   "cell_type": "code",
   "execution_count": 14,
   "id": "98df3c2b",
   "metadata": {},
   "outputs": [
    {
     "data": {
      "application/vnd.microsoft.datawrangler.viewer.v0+json": {
       "columns": [
        {
         "name": "index",
         "rawType": "int64",
         "type": "integer"
        },
        {
         "name": "TOPICO",
         "rawType": "object",
         "type": "string"
        },
        {
         "name": "csv",
         "rawType": "object",
         "type": "string"
        },
        {
         "name": "problema",
         "rawType": "object",
         "type": "string"
        }
       ],
       "ref": "eb4975d3-46ee-4a64-8333-1b129484304f",
       "rows": [
        [
         "0",
         "ESTPRO",
         "va_sectorial_pais.csv",
         "dataset tiene el codigo 'TZ1' que NO esta incluido en los geocodigos y tiene la string 'TANZANIA (CONTINENTAL)' que NO matchea sin ambiguedad en desc_fundar. Puede implicar modificaciones del geonomenclador (a revisión, para no pisarse con otros casos)."
        ],
        [
         "1",
         "ESTPRO",
         "particip_va_intensivos_id_bys.csv",
         "dataset tiene el codigo 'EU28XEU15' que NO esta incluido en los geocodigos y tiene la string 'UNION EUROPEA (28 PAISES EXCELUYENDO EU15)' que NO matchea sin ambiguedad en desc_fundar. Puede implicar modificaciones del geonomenclador (a revisión, para no pisarse con otros casos)."
        ],
        [
         "2",
         "ESTPRO",
         "particip_va_intensivos_id_bys.csv",
         "dataset tiene el codigo 'NAFTA' que NO esta incluido en los geocodigos y tiene la string 'PAISES NAFTA' que NO matchea sin ambiguedad en desc_fundar. Puede implicar modificaciones del geonomenclador (a revisión, para no pisarse con otros casos)."
        ],
        [
         "3",
         "ESTPRO",
         "particip_va_intensivos_id_bys.csv",
         "dataset tiene el codigo 'S2_S8' que NO esta incluido en los geocodigos y tiene la string 'ASIA DEL ESTE Y SUDESTE' que NO matchea sin ambiguedad en desc_fundar. Puede implicar modificaciones del geonomenclador (a revisión, para no pisarse con otros casos)."
        ],
        [
         "4",
         "ESTPRO",
         "va_sectorial_pais_bys.csv",
         "dataset tiene el codigo 'TZ1' que NO esta incluido en los geocodigos y tiene la string 'TANZANIA (CONTINENTAL)' que NO matchea sin ambiguedad en desc_fundar. Puede implicar modificaciones del geonomenclador (a revisión, para no pisarse con otros casos)."
        ],
        [
         "5",
         "COMEXT",
         "exportaciones_servicios_top_20_destinos.csv",
         "dataset tiene el codigo 'NAN' que NO esta incluido en los geocodigos y tiene la string 'RESTO' que NO matchea sin ambiguedad en desc_fundar. Puede implicar modificaciones del geonomenclador (a revisión, para no pisarse con otros casos)."
        ],
        [
         "55",
         "ACECON",
         "A4_efecto_bs.csv",
         "dataset tiene el codigo 'ZAR' que NO esta incluido en los geocodigos y tiene la string 'RD CONGO' que NO matchea sin ambiguedad en desc_fundar. Puede implicar modificaciones del geonomenclador (a revisión, para no pisarse con otros casos)."
        ],
        [
         "56",
         "ACECON",
         "2_pibpc_salud_edu.csv",
         "dataset tiene el codigo 'ZAR' que NO esta incluido en los geocodigos y tiene la string 'RD CONGO' que NO matchea sin ambiguedad en desc_fundar. Puede implicar modificaciones del geonomenclador (a revisión, para no pisarse con otros casos)."
        ],
        [
         "57",
         "ACECON",
         "A1_inb_pib.csv",
         "dataset tiene el codigo 'TMP' que NO esta incluido en los geocodigos y tiene la string 'TIMOR ORIENTAL' que NO matchea sin ambiguedad en desc_fundar. Puede implicar modificaciones del geonomenclador (a revisión, para no pisarse con otros casos)."
        ],
        [
         "58",
         "ACECON",
         "A5_pibpc_propeeuu_ppa_usd.csv",
         "dataset tiene el codigo 'ZAR' que NO esta incluido en los geocodigos y tiene la string 'RD CONGO' que NO matchea sin ambiguedad en desc_fundar. Puede implicar modificaciones del geonomenclador (a revisión, para no pisarse con otros casos)."
        ]
       ],
       "shape": {
        "columns": 3,
        "rows": 10
       }
      },
      "text/html": [
       "<div>\n",
       "<style scoped>\n",
       "    .dataframe tbody tr th:only-of-type {\n",
       "        vertical-align: middle;\n",
       "    }\n",
       "\n",
       "    .dataframe tbody tr th {\n",
       "        vertical-align: top;\n",
       "    }\n",
       "\n",
       "    .dataframe thead th {\n",
       "        text-align: right;\n",
       "    }\n",
       "</style>\n",
       "<table border=\"1\" class=\"dataframe\">\n",
       "  <thead>\n",
       "    <tr style=\"text-align: right;\">\n",
       "      <th></th>\n",
       "      <th>TOPICO</th>\n",
       "      <th>csv</th>\n",
       "      <th>problema</th>\n",
       "    </tr>\n",
       "  </thead>\n",
       "  <tbody>\n",
       "    <tr>\n",
       "      <th>0</th>\n",
       "      <td>ESTPRO</td>\n",
       "      <td>va_sectorial_pais.csv</td>\n",
       "      <td>dataset tiene el codigo 'TZ1' que NO esta incl...</td>\n",
       "    </tr>\n",
       "    <tr>\n",
       "      <th>1</th>\n",
       "      <td>ESTPRO</td>\n",
       "      <td>particip_va_intensivos_id_bys.csv</td>\n",
       "      <td>dataset tiene el codigo 'EU28XEU15' que NO est...</td>\n",
       "    </tr>\n",
       "    <tr>\n",
       "      <th>2</th>\n",
       "      <td>ESTPRO</td>\n",
       "      <td>particip_va_intensivos_id_bys.csv</td>\n",
       "      <td>dataset tiene el codigo 'NAFTA' que NO esta in...</td>\n",
       "    </tr>\n",
       "    <tr>\n",
       "      <th>3</th>\n",
       "      <td>ESTPRO</td>\n",
       "      <td>particip_va_intensivos_id_bys.csv</td>\n",
       "      <td>dataset tiene el codigo 'S2_S8' que NO esta in...</td>\n",
       "    </tr>\n",
       "    <tr>\n",
       "      <th>4</th>\n",
       "      <td>ESTPRO</td>\n",
       "      <td>va_sectorial_pais_bys.csv</td>\n",
       "      <td>dataset tiene el codigo 'TZ1' que NO esta incl...</td>\n",
       "    </tr>\n",
       "    <tr>\n",
       "      <th>5</th>\n",
       "      <td>COMEXT</td>\n",
       "      <td>exportaciones_servicios_top_20_destinos.csv</td>\n",
       "      <td>dataset tiene el codigo 'NAN' que NO esta incl...</td>\n",
       "    </tr>\n",
       "    <tr>\n",
       "      <th>55</th>\n",
       "      <td>ACECON</td>\n",
       "      <td>A4_efecto_bs.csv</td>\n",
       "      <td>dataset tiene el codigo 'ZAR' que NO esta incl...</td>\n",
       "    </tr>\n",
       "    <tr>\n",
       "      <th>56</th>\n",
       "      <td>ACECON</td>\n",
       "      <td>2_pibpc_salud_edu.csv</td>\n",
       "      <td>dataset tiene el codigo 'ZAR' que NO esta incl...</td>\n",
       "    </tr>\n",
       "    <tr>\n",
       "      <th>57</th>\n",
       "      <td>ACECON</td>\n",
       "      <td>A1_inb_pib.csv</td>\n",
       "      <td>dataset tiene el codigo 'TMP' que NO esta incl...</td>\n",
       "    </tr>\n",
       "    <tr>\n",
       "      <th>58</th>\n",
       "      <td>ACECON</td>\n",
       "      <td>A5_pibpc_propeeuu_ppa_usd.csv</td>\n",
       "      <td>dataset tiene el codigo 'ZAR' que NO esta incl...</td>\n",
       "    </tr>\n",
       "  </tbody>\n",
       "</table>\n",
       "</div>"
      ],
      "text/plain": [
       "    TOPICO                                          csv  \\\n",
       "0   ESTPRO                        va_sectorial_pais.csv   \n",
       "1   ESTPRO            particip_va_intensivos_id_bys.csv   \n",
       "2   ESTPRO            particip_va_intensivos_id_bys.csv   \n",
       "3   ESTPRO            particip_va_intensivos_id_bys.csv   \n",
       "4   ESTPRO                    va_sectorial_pais_bys.csv   \n",
       "5   COMEXT  exportaciones_servicios_top_20_destinos.csv   \n",
       "55  ACECON                             A4_efecto_bs.csv   \n",
       "56  ACECON                        2_pibpc_salud_edu.csv   \n",
       "57  ACECON                               A1_inb_pib.csv   \n",
       "58  ACECON                A5_pibpc_propeeuu_ppa_usd.csv   \n",
       "\n",
       "                                             problema  \n",
       "0   dataset tiene el codigo 'TZ1' que NO esta incl...  \n",
       "1   dataset tiene el codigo 'EU28XEU15' que NO est...  \n",
       "2   dataset tiene el codigo 'NAFTA' que NO esta in...  \n",
       "3   dataset tiene el codigo 'S2_S8' que NO esta in...  \n",
       "4   dataset tiene el codigo 'TZ1' que NO esta incl...  \n",
       "5   dataset tiene el codigo 'NAN' que NO esta incl...  \n",
       "55  dataset tiene el codigo 'ZAR' que NO esta incl...  \n",
       "56  dataset tiene el codigo 'ZAR' que NO esta incl...  \n",
       "57  dataset tiene el codigo 'TMP' que NO esta incl...  \n",
       "58  dataset tiene el codigo 'ZAR' que NO esta incl...  "
      ]
     },
     "execution_count": 14,
     "metadata": {},
     "output_type": "execute_result"
    }
   ],
   "source": [
    "import os\n",
    "import pandas as pd\n",
    "\n",
    "# carpeta con dfProblemas_tipo2 como a dfProblemas_tipo3 y donde guardo los nuevos\n",
    "base_path = '/home/lucia/Desktop/Fundar/data_renaming/problematicas_renaming'\n",
    "\n",
    "# nombres archivos\n",
    "file_tipo2 = os.path.join(base_path, 'dfProblemas_tipo2.csv')\n",
    "\n",
    "# cargar dfProblemas_tipo2 y filtrar filas donde topicos == 'DESHUM', y los guardo como dfProblemas_tipo2_2daVuelta.csv\n",
    "df_tipo2 = pd.read_csv(file_tipo2)\n",
    "df_tipo2_filtrado = df_tipo2[df_tipo2['TOPICO'] != 'DESHUM']\n",
    "\n",
    "output_tipo2 = os.path.join(base_path, 'dfProblemas_tipo2_2daVuelta.csv')\n",
    "df_tipo2_filtrado.to_csv(output_tipo2, index=False, encoding='utf-8', sep=',')\n",
    "\n",
    "df_tipo2_filtrado"
   ]
  },
  {
   "cell_type": "code",
   "execution_count": 15,
   "id": "5e236ed8",
   "metadata": {},
   "outputs": [
    {
     "data": {
      "application/vnd.microsoft.datawrangler.viewer.v0+json": {
       "columns": [
        {
         "name": "index",
         "rawType": "int64",
         "type": "integer"
        },
        {
         "name": "TOPICO",
         "rawType": "object",
         "type": "string"
        },
        {
         "name": "csv",
         "rawType": "object",
         "type": "string"
        },
        {
         "name": "problema",
         "rawType": "object",
         "type": "string"
        }
       ],
       "ref": "e1933529-a9f1-4ff4-a397-5442f29cf132",
       "rows": [
        [
         "0",
         "ESTPRO",
         "va_sectorial_pais.csv",
         "dataset tiene el codigo 'TZ1' que NO esta incluido en los geocodigos y tiene la string 'TANZANIA (CONTINENTAL)' que NO matchea sin ambiguedad en desc_fundar. Puede implicar modificaciones del geonomenclador (a revisión, para no pisarse con otros casos)."
        ],
        [
         "1",
         "ESTPRO",
         "particip_va_intensivos_id_bys.csv",
         "dataset tiene el codigo 'EU28XEU15' que NO esta incluido en los geocodigos y tiene la string 'UNION EUROPEA (28 PAISES EXCELUYENDO EU15)' que NO matchea sin ambiguedad en desc_fundar. Puede implicar modificaciones del geonomenclador (a revisión, para no pisarse con otros casos)."
        ],
        [
         "2",
         "ESTPRO",
         "particip_va_intensivos_id_bys.csv",
         "dataset tiene el codigo 'NAFTA' que NO esta incluido en los geocodigos y tiene la string 'PAISES NAFTA' que NO matchea sin ambiguedad en desc_fundar. Puede implicar modificaciones del geonomenclador (a revisión, para no pisarse con otros casos)."
        ],
        [
         "3",
         "ESTPRO",
         "particip_va_intensivos_id_bys.csv",
         "dataset tiene el codigo 'S2_S8' que NO esta incluido en los geocodigos y tiene la string 'ASIA DEL ESTE Y SUDESTE' que NO matchea sin ambiguedad en desc_fundar. Puede implicar modificaciones del geonomenclador (a revisión, para no pisarse con otros casos)."
        ],
        [
         "5",
         "COMEXT",
         "exportaciones_servicios_top_20_destinos.csv",
         "dataset tiene el codigo 'NAN' que NO esta incluido en los geocodigos y tiene la string 'RESTO' que NO matchea sin ambiguedad en desc_fundar. Puede implicar modificaciones del geonomenclador (a revisión, para no pisarse con otros casos)."
        ],
        [
         "55",
         "ACECON",
         "A4_efecto_bs.csv",
         "dataset tiene el codigo 'ZAR' que NO esta incluido en los geocodigos y tiene la string 'RD CONGO' que NO matchea sin ambiguedad en desc_fundar. Puede implicar modificaciones del geonomenclador (a revisión, para no pisarse con otros casos)."
        ],
        [
         "57",
         "ACECON",
         "A1_inb_pib.csv",
         "dataset tiene el codigo 'TMP' que NO esta incluido en los geocodigos y tiene la string 'TIMOR ORIENTAL' que NO matchea sin ambiguedad en desc_fundar. Puede implicar modificaciones del geonomenclador (a revisión, para no pisarse con otros casos)."
        ]
       ],
       "shape": {
        "columns": 3,
        "rows": 7
       }
      },
      "text/html": [
       "<div>\n",
       "<style scoped>\n",
       "    .dataframe tbody tr th:only-of-type {\n",
       "        vertical-align: middle;\n",
       "    }\n",
       "\n",
       "    .dataframe tbody tr th {\n",
       "        vertical-align: top;\n",
       "    }\n",
       "\n",
       "    .dataframe thead th {\n",
       "        text-align: right;\n",
       "    }\n",
       "</style>\n",
       "<table border=\"1\" class=\"dataframe\">\n",
       "  <thead>\n",
       "    <tr style=\"text-align: right;\">\n",
       "      <th></th>\n",
       "      <th>TOPICO</th>\n",
       "      <th>csv</th>\n",
       "      <th>problema</th>\n",
       "    </tr>\n",
       "  </thead>\n",
       "  <tbody>\n",
       "    <tr>\n",
       "      <th>0</th>\n",
       "      <td>ESTPRO</td>\n",
       "      <td>va_sectorial_pais.csv</td>\n",
       "      <td>dataset tiene el codigo 'TZ1' que NO esta incl...</td>\n",
       "    </tr>\n",
       "    <tr>\n",
       "      <th>1</th>\n",
       "      <td>ESTPRO</td>\n",
       "      <td>particip_va_intensivos_id_bys.csv</td>\n",
       "      <td>dataset tiene el codigo 'EU28XEU15' que NO est...</td>\n",
       "    </tr>\n",
       "    <tr>\n",
       "      <th>2</th>\n",
       "      <td>ESTPRO</td>\n",
       "      <td>particip_va_intensivos_id_bys.csv</td>\n",
       "      <td>dataset tiene el codigo 'NAFTA' que NO esta in...</td>\n",
       "    </tr>\n",
       "    <tr>\n",
       "      <th>3</th>\n",
       "      <td>ESTPRO</td>\n",
       "      <td>particip_va_intensivos_id_bys.csv</td>\n",
       "      <td>dataset tiene el codigo 'S2_S8' que NO esta in...</td>\n",
       "    </tr>\n",
       "    <tr>\n",
       "      <th>5</th>\n",
       "      <td>COMEXT</td>\n",
       "      <td>exportaciones_servicios_top_20_destinos.csv</td>\n",
       "      <td>dataset tiene el codigo 'NAN' que NO esta incl...</td>\n",
       "    </tr>\n",
       "    <tr>\n",
       "      <th>55</th>\n",
       "      <td>ACECON</td>\n",
       "      <td>A4_efecto_bs.csv</td>\n",
       "      <td>dataset tiene el codigo 'ZAR' que NO esta incl...</td>\n",
       "    </tr>\n",
       "    <tr>\n",
       "      <th>57</th>\n",
       "      <td>ACECON</td>\n",
       "      <td>A1_inb_pib.csv</td>\n",
       "      <td>dataset tiene el codigo 'TMP' que NO esta incl...</td>\n",
       "    </tr>\n",
       "  </tbody>\n",
       "</table>\n",
       "</div>"
      ],
      "text/plain": [
       "    TOPICO                                          csv  \\\n",
       "0   ESTPRO                        va_sectorial_pais.csv   \n",
       "1   ESTPRO            particip_va_intensivos_id_bys.csv   \n",
       "2   ESTPRO            particip_va_intensivos_id_bys.csv   \n",
       "3   ESTPRO            particip_va_intensivos_id_bys.csv   \n",
       "5   COMEXT  exportaciones_servicios_top_20_destinos.csv   \n",
       "55  ACECON                             A4_efecto_bs.csv   \n",
       "57  ACECON                               A1_inb_pib.csv   \n",
       "\n",
       "                                             problema  \n",
       "0   dataset tiene el codigo 'TZ1' que NO esta incl...  \n",
       "1   dataset tiene el codigo 'EU28XEU15' que NO est...  \n",
       "2   dataset tiene el codigo 'NAFTA' que NO esta in...  \n",
       "3   dataset tiene el codigo 'S2_S8' que NO esta in...  \n",
       "5   dataset tiene el codigo 'NAN' que NO esta incl...  \n",
       "55  dataset tiene el codigo 'ZAR' que NO esta incl...  \n",
       "57  dataset tiene el codigo 'TMP' que NO esta incl...  "
      ]
     },
     "execution_count": 15,
     "metadata": {},
     "output_type": "execute_result"
    }
   ],
   "source": [
    "# elimino filas duplicadas basadas en la columna 'problema' para sintetizar que problemas tengo, más allá de cada csv en particular en el que ocurra\n",
    "df_tipo2_sin_duplicados = df_tipo2_filtrado.drop_duplicates(subset=['problema'])\n",
    "\n",
    "df_tipo2_sin_duplicados"
   ]
  },
  {
   "cell_type": "markdown",
   "id": "88f3dd1b",
   "metadata": {},
   "source": [
    "<font color = \"gold\"> Problemas particulares de df_tipo2, qué encontré al respecto y que haría </font>"
   ]
  },
  {
   "cell_type": "markdown",
   "id": "a389658e",
   "metadata": {},
   "source": [
    "<b> <font color = \"bisque\"> Problemas tipo3  </font> </b>"
   ]
  },
  {
   "cell_type": "code",
   "execution_count": null,
   "id": "14c7e397",
   "metadata": {},
   "outputs": [
    {
     "data": {
      "application/vnd.microsoft.datawrangler.viewer.v0+json": {
       "columns": [
        {
         "name": "index",
         "rawType": "int64",
         "type": "integer"
        },
        {
         "name": "TOPICO",
         "rawType": "object",
         "type": "string"
        },
        {
         "name": "csv",
         "rawType": "object",
         "type": "string"
        },
        {
         "name": "problema",
         "rawType": "object",
         "type": "string"
        }
       ],
       "ref": "9e242cf8-28b0-4f3d-81a6-f35dcc605154",
       "rows": [
        [
         "0",
         "SEBACO",
         "22_participacion_expo_sbc.csv",
         "dataset tiene el codigo 'CHT' que NO esta incluido en los geocodigos y no existe columna desc_fundar. Puede implicar modificaciones del geonomenclador (a revisión, para no pisarse con otros casos)."
        ],
        [
         "1",
         "SEBACO",
         "22_participacion_expo_sbc.csv",
         "dataset tiene el codigo 'ROM' que NO esta incluido en los geocodigos y no existe columna desc_fundar. Puede implicar modificaciones del geonomenclador (a revisión, para no pisarse con otros casos)."
        ],
        [
         "2",
         "SEBACO",
         "23_participacion_expo_ssi.csv",
         "dataset tiene el codigo 'ROM' que NO esta incluido en los geocodigos y no existe columna desc_fundar. Puede implicar modificaciones del geonomenclador (a revisión, para no pisarse con otros casos)."
        ],
        [
         "3",
         "COMEXT",
         "composicion_exportaciones_bienes_sectores_Brambilla_Porto.csv",
         "dataset tiene el codigo 'S19' que NO esta incluido en los geocodigos y no existe columna desc_fundar. Puede implicar modificaciones del geonomenclador (a revisión, para no pisarse con otros casos)."
        ],
        [
         "4",
         "COMEXT",
         "composicion_importaciones_bienes_sectores_Brambilla_Porto.csv",
         "dataset tiene el codigo 'S19' que NO esta incluido en los geocodigos y no existe columna desc_fundar. Puede implicar modificaciones del geonomenclador (a revisión, para no pisarse con otros casos)."
        ],
        [
         "5",
         "TRANEN",
         "matriz_prim_mundo_historic.csv",
         "dataset tiene el codigo 'OWID_WRL' que NO esta incluido en los geocodigos y no existe columna desc_fundar. Puede implicar modificaciones del geonomenclador (a revisión, para no pisarse con otros casos)."
        ],
        [
         "6",
         "TRANEN",
         "intensidad_energ_mundo.csv",
         "dataset tiene el codigo 'OWID_WRL' que NO esta incluido en los geocodigos y no existe columna desc_fundar. Puede implicar modificaciones del geonomenclador (a revisión, para no pisarse con otros casos)."
        ],
        [
         "7",
         "TRANEN",
         "intensidad_energ_mundo.csv",
         "dataset tiene el codigo 'OWID_CZS' que NO esta incluido en los geocodigos y no existe columna desc_fundar. Puede implicar modificaciones del geonomenclador (a revisión, para no pisarse con otros casos)."
        ],
        [
         "8",
         "TRANEN",
         "intensidad_energ_mundo.csv",
         "dataset tiene el codigo 'OWID_YGS' que NO esta incluido en los geocodigos y no existe columna desc_fundar. Puede implicar modificaciones del geonomenclador (a revisión, para no pisarse con otros casos)."
        ],
        [
         "9",
         "TRANEN",
         "generacion_nuclear_twh.csv",
         "dataset tiene el codigo 'OWID_WRL' que NO esta incluido en los geocodigos y no existe columna desc_fundar. Puede implicar modificaciones del geonomenclador (a revisión, para no pisarse con otros casos)."
        ],
        [
         "10",
         "TRANEN",
         "generacion_nuclear_twh.csv",
         "dataset tiene el codigo 'OWID_KOS' que NO esta incluido en los geocodigos y no existe columna desc_fundar. Puede implicar modificaciones del geonomenclador (a revisión, para no pisarse con otros casos)."
        ],
        [
         "11",
         "TRANEN",
         "energia_baja_carbono.csv",
         "dataset tiene el codigo 'OWID_WRL' que NO esta incluido en los geocodigos y no existe columna desc_fundar. Puede implicar modificaciones del geonomenclador (a revisión, para no pisarse con otros casos)."
        ],
        [
         "12",
         "TRANEN",
         "capacidad_instalada_eolica_gw.csv",
         "dataset tiene el codigo 'OWID_KOS' que NO esta incluido en los geocodigos y no existe columna desc_fundar. Puede implicar modificaciones del geonomenclador (a revisión, para no pisarse con otros casos)."
        ],
        [
         "13",
         "TRANEN",
         "capacidad_instalada_eolica_gw.csv",
         "dataset tiene el codigo 'OWID_WRL' que NO esta incluido en los geocodigos y no existe columna desc_fundar. Puede implicar modificaciones del geonomenclador (a revisión, para no pisarse con otros casos)."
        ],
        [
         "14",
         "TRANEN",
         "capacidad_instalada_fv_gw.csv",
         "dataset tiene el codigo 'OWID_KOS' que NO esta incluido en los geocodigos y no existe columna desc_fundar. Puede implicar modificaciones del geonomenclador (a revisión, para no pisarse con otros casos)."
        ],
        [
         "15",
         "TRANEN",
         "capacidad_instalada_fv_gw.csv",
         "dataset tiene el codigo 'OWID_WRL' que NO esta incluido en los geocodigos y no existe columna desc_fundar. Puede implicar modificaciones del geonomenclador (a revisión, para no pisarse con otros casos)."
        ],
        [
         "16",
         "TRANEN",
         "produc_electricidad_fuente_mundo_twh.csv",
         "dataset tiene el codigo 'OWID_WRL' que NO esta incluido en los geocodigos y no existe columna desc_fundar. Puede implicar modificaciones del geonomenclador (a revisión, para no pisarse con otros casos)."
        ],
        [
         "17",
         "TRANEN",
         "produc_electricidad_fuente_mundo_twh.csv",
         "dataset tiene el codigo 'OWID_KOS' que NO esta incluido en los geocodigos y no existe columna desc_fundar. Puede implicar modificaciones del geonomenclador (a revisión, para no pisarse con otros casos)."
        ],
        [
         "18",
         "TRANEN",
         "identidad_kaya_mundo.csv",
         "dataset tiene el codigo 'OWID_WRL' que NO esta incluido en los geocodigos y no existe columna desc_fundar. Puede implicar modificaciones del geonomenclador (a revisión, para no pisarse con otros casos)."
        ],
        [
         "19",
         "TRANEN",
         "identidad_kaya_mundo.csv",
         "dataset tiene el codigo 'OWID_KOS' que NO esta incluido en los geocodigos y no existe columna desc_fundar. Puede implicar modificaciones del geonomenclador (a revisión, para no pisarse con otros casos)."
        ],
        [
         "20",
         "TRANEN",
         "identidad_kaya_mundo.csv",
         "dataset tiene el codigo 'OWID_CZS' que NO esta incluido en los geocodigos y no existe columna desc_fundar. Puede implicar modificaciones del geonomenclador (a revisión, para no pisarse con otros casos)."
        ],
        [
         "21",
         "TRANEN",
         "identidad_kaya_mundo.csv",
         "dataset tiene el codigo 'OWID_YGS' que NO esta incluido en los geocodigos y no existe columna desc_fundar. Puede implicar modificaciones del geonomenclador (a revisión, para no pisarse con otros casos)."
        ],
        [
         "22",
         "TRANEN",
         "identidad_kaya_mundo.csv",
         "dataset tiene el codigo 'OWID_ERE' que NO esta incluido en los geocodigos y no existe columna desc_fundar. Puede implicar modificaciones del geonomenclador (a revisión, para no pisarse con otros casos)."
        ],
        [
         "23",
         "TRANEN",
         "identidad_kaya_mundo.csv",
         "dataset tiene el codigo 'OWID_GFR' que NO esta incluido en los geocodigos y no existe columna desc_fundar. Puede implicar modificaciones del geonomenclador (a revisión, para no pisarse con otros casos)."
        ],
        [
         "24",
         "TRANEN",
         "identidad_kaya_mundo.csv",
         "dataset tiene el codigo 'OWID_GDR' que NO esta incluido en los geocodigos y no existe columna desc_fundar. Puede implicar modificaciones del geonomenclador (a revisión, para no pisarse con otros casos)."
        ],
        [
         "25",
         "TRANEN",
         "identidad_kaya_mundo.csv",
         "dataset tiene el codigo 'OWID_SRM' que NO esta incluido en los geocodigos y no existe columna desc_fundar. Puede implicar modificaciones del geonomenclador (a revisión, para no pisarse con otros casos)."
        ],
        [
         "26",
         "TRANEN",
         "identidad_kaya_mundo.csv",
         "dataset tiene el codigo 'OWID_YAR' que NO esta incluido en los geocodigos y no existe columna desc_fundar. Puede implicar modificaciones del geonomenclador (a revisión, para no pisarse con otros casos)."
        ],
        [
         "27",
         "TRANEN",
         "identidad_kaya_mundo.csv",
         "dataset tiene el codigo 'OWID_YPR' que NO esta incluido en los geocodigos y no existe columna desc_fundar. Puede implicar modificaciones del geonomenclador (a revisión, para no pisarse con otros casos)."
        ],
        [
         "28",
         "TRANEN",
         "produccion_biocomb.csv",
         "dataset tiene el codigo 'OWID_WRL' que NO esta incluido en los geocodigos y no existe columna desc_fundar. Puede implicar modificaciones del geonomenclador (a revisión, para no pisarse con otros casos)."
        ],
        [
         "29",
         "TRANEN",
         "intensidad_carbono_electri_mundo.csv",
         "dataset tiene el codigo 'OWID_KOS' que NO esta incluido en los geocodigos y no existe columna desc_fundar. Puede implicar modificaciones del geonomenclador (a revisión, para no pisarse con otros casos)."
        ],
        [
         "30",
         "TRANEN",
         "intensidad_carbono_electri_mundo.csv",
         "dataset tiene el codigo 'OWID_WRL' que NO esta incluido en los geocodigos y no existe columna desc_fundar. Puede implicar modificaciones del geonomenclador (a revisión, para no pisarse con otros casos)."
        ],
        [
         "31",
         "TRANEN",
         "generacion_hidro_twh.csv",
         "dataset tiene el codigo 'OWID_WRL' que NO esta incluido en los geocodigos y no existe columna desc_fundar. Puede implicar modificaciones del geonomenclador (a revisión, para no pisarse con otros casos)."
        ],
        [
         "32",
         "TRANEN",
         "generacion_hidro_twh.csv",
         "dataset tiene el codigo 'OWID_KOS' que NO esta incluido en los geocodigos y no existe columna desc_fundar. Puede implicar modificaciones del geonomenclador (a revisión, para no pisarse con otros casos)."
        ],
        [
         "33",
         "SALING",
         "ISA_salarios_mundo_i1.csv",
         "dataset tiene el codigo 'ELS' que NO esta incluido en los geocodigos y no existe columna desc_fundar. Puede implicar modificaciones del geonomenclador (a revisión, para no pisarse con otros casos)."
        ],
        [
         "34",
         "SALING",
         "ISA_salarios_mundo_i1.csv",
         "dataset tiene el codigo 'PAR' que NO esta incluido en los geocodigos y no existe columna desc_fundar. Puede implicar modificaciones del geonomenclador (a revisión, para no pisarse con otros casos)."
        ]
       ],
       "shape": {
        "columns": 3,
        "rows": 35
       }
      },
      "text/html": [
       "<div>\n",
       "<style scoped>\n",
       "    .dataframe tbody tr th:only-of-type {\n",
       "        vertical-align: middle;\n",
       "    }\n",
       "\n",
       "    .dataframe tbody tr th {\n",
       "        vertical-align: top;\n",
       "    }\n",
       "\n",
       "    .dataframe thead th {\n",
       "        text-align: right;\n",
       "    }\n",
       "</style>\n",
       "<table border=\"1\" class=\"dataframe\">\n",
       "  <thead>\n",
       "    <tr style=\"text-align: right;\">\n",
       "      <th></th>\n",
       "      <th>TOPICO</th>\n",
       "      <th>csv</th>\n",
       "      <th>problema</th>\n",
       "    </tr>\n",
       "  </thead>\n",
       "  <tbody>\n",
       "    <tr>\n",
       "      <th>0</th>\n",
       "      <td>SEBACO</td>\n",
       "      <td>22_participacion_expo_sbc.csv</td>\n",
       "      <td>dataset tiene el codigo 'CHT' que NO esta incl...</td>\n",
       "    </tr>\n",
       "    <tr>\n",
       "      <th>1</th>\n",
       "      <td>SEBACO</td>\n",
       "      <td>22_participacion_expo_sbc.csv</td>\n",
       "      <td>dataset tiene el codigo 'ROM' que NO esta incl...</td>\n",
       "    </tr>\n",
       "    <tr>\n",
       "      <th>2</th>\n",
       "      <td>SEBACO</td>\n",
       "      <td>23_participacion_expo_ssi.csv</td>\n",
       "      <td>dataset tiene el codigo 'ROM' que NO esta incl...</td>\n",
       "    </tr>\n",
       "    <tr>\n",
       "      <th>3</th>\n",
       "      <td>COMEXT</td>\n",
       "      <td>composicion_exportaciones_bienes_sectores_Bram...</td>\n",
       "      <td>dataset tiene el codigo 'S19' que NO esta incl...</td>\n",
       "    </tr>\n",
       "    <tr>\n",
       "      <th>4</th>\n",
       "      <td>COMEXT</td>\n",
       "      <td>composicion_importaciones_bienes_sectores_Bram...</td>\n",
       "      <td>dataset tiene el codigo 'S19' que NO esta incl...</td>\n",
       "    </tr>\n",
       "    <tr>\n",
       "      <th>5</th>\n",
       "      <td>TRANEN</td>\n",
       "      <td>matriz_prim_mundo_historic.csv</td>\n",
       "      <td>dataset tiene el codigo 'OWID_WRL' que NO esta...</td>\n",
       "    </tr>\n",
       "    <tr>\n",
       "      <th>6</th>\n",
       "      <td>TRANEN</td>\n",
       "      <td>intensidad_energ_mundo.csv</td>\n",
       "      <td>dataset tiene el codigo 'OWID_WRL' que NO esta...</td>\n",
       "    </tr>\n",
       "    <tr>\n",
       "      <th>7</th>\n",
       "      <td>TRANEN</td>\n",
       "      <td>intensidad_energ_mundo.csv</td>\n",
       "      <td>dataset tiene el codigo 'OWID_CZS' que NO esta...</td>\n",
       "    </tr>\n",
       "    <tr>\n",
       "      <th>8</th>\n",
       "      <td>TRANEN</td>\n",
       "      <td>intensidad_energ_mundo.csv</td>\n",
       "      <td>dataset tiene el codigo 'OWID_YGS' que NO esta...</td>\n",
       "    </tr>\n",
       "    <tr>\n",
       "      <th>9</th>\n",
       "      <td>TRANEN</td>\n",
       "      <td>generacion_nuclear_twh.csv</td>\n",
       "      <td>dataset tiene el codigo 'OWID_WRL' que NO esta...</td>\n",
       "    </tr>\n",
       "    <tr>\n",
       "      <th>10</th>\n",
       "      <td>TRANEN</td>\n",
       "      <td>generacion_nuclear_twh.csv</td>\n",
       "      <td>dataset tiene el codigo 'OWID_KOS' que NO esta...</td>\n",
       "    </tr>\n",
       "    <tr>\n",
       "      <th>11</th>\n",
       "      <td>TRANEN</td>\n",
       "      <td>energia_baja_carbono.csv</td>\n",
       "      <td>dataset tiene el codigo 'OWID_WRL' que NO esta...</td>\n",
       "    </tr>\n",
       "    <tr>\n",
       "      <th>12</th>\n",
       "      <td>TRANEN</td>\n",
       "      <td>capacidad_instalada_eolica_gw.csv</td>\n",
       "      <td>dataset tiene el codigo 'OWID_KOS' que NO esta...</td>\n",
       "    </tr>\n",
       "    <tr>\n",
       "      <th>13</th>\n",
       "      <td>TRANEN</td>\n",
       "      <td>capacidad_instalada_eolica_gw.csv</td>\n",
       "      <td>dataset tiene el codigo 'OWID_WRL' que NO esta...</td>\n",
       "    </tr>\n",
       "    <tr>\n",
       "      <th>14</th>\n",
       "      <td>TRANEN</td>\n",
       "      <td>capacidad_instalada_fv_gw.csv</td>\n",
       "      <td>dataset tiene el codigo 'OWID_KOS' que NO esta...</td>\n",
       "    </tr>\n",
       "    <tr>\n",
       "      <th>15</th>\n",
       "      <td>TRANEN</td>\n",
       "      <td>capacidad_instalada_fv_gw.csv</td>\n",
       "      <td>dataset tiene el codigo 'OWID_WRL' que NO esta...</td>\n",
       "    </tr>\n",
       "    <tr>\n",
       "      <th>16</th>\n",
       "      <td>TRANEN</td>\n",
       "      <td>produc_electricidad_fuente_mundo_twh.csv</td>\n",
       "      <td>dataset tiene el codigo 'OWID_WRL' que NO esta...</td>\n",
       "    </tr>\n",
       "    <tr>\n",
       "      <th>17</th>\n",
       "      <td>TRANEN</td>\n",
       "      <td>produc_electricidad_fuente_mundo_twh.csv</td>\n",
       "      <td>dataset tiene el codigo 'OWID_KOS' que NO esta...</td>\n",
       "    </tr>\n",
       "    <tr>\n",
       "      <th>18</th>\n",
       "      <td>TRANEN</td>\n",
       "      <td>identidad_kaya_mundo.csv</td>\n",
       "      <td>dataset tiene el codigo 'OWID_WRL' que NO esta...</td>\n",
       "    </tr>\n",
       "    <tr>\n",
       "      <th>19</th>\n",
       "      <td>TRANEN</td>\n",
       "      <td>identidad_kaya_mundo.csv</td>\n",
       "      <td>dataset tiene el codigo 'OWID_KOS' que NO esta...</td>\n",
       "    </tr>\n",
       "    <tr>\n",
       "      <th>20</th>\n",
       "      <td>TRANEN</td>\n",
       "      <td>identidad_kaya_mundo.csv</td>\n",
       "      <td>dataset tiene el codigo 'OWID_CZS' que NO esta...</td>\n",
       "    </tr>\n",
       "    <tr>\n",
       "      <th>21</th>\n",
       "      <td>TRANEN</td>\n",
       "      <td>identidad_kaya_mundo.csv</td>\n",
       "      <td>dataset tiene el codigo 'OWID_YGS' que NO esta...</td>\n",
       "    </tr>\n",
       "    <tr>\n",
       "      <th>22</th>\n",
       "      <td>TRANEN</td>\n",
       "      <td>identidad_kaya_mundo.csv</td>\n",
       "      <td>dataset tiene el codigo 'OWID_ERE' que NO esta...</td>\n",
       "    </tr>\n",
       "    <tr>\n",
       "      <th>23</th>\n",
       "      <td>TRANEN</td>\n",
       "      <td>identidad_kaya_mundo.csv</td>\n",
       "      <td>dataset tiene el codigo 'OWID_GFR' que NO esta...</td>\n",
       "    </tr>\n",
       "    <tr>\n",
       "      <th>24</th>\n",
       "      <td>TRANEN</td>\n",
       "      <td>identidad_kaya_mundo.csv</td>\n",
       "      <td>dataset tiene el codigo 'OWID_GDR' que NO esta...</td>\n",
       "    </tr>\n",
       "    <tr>\n",
       "      <th>25</th>\n",
       "      <td>TRANEN</td>\n",
       "      <td>identidad_kaya_mundo.csv</td>\n",
       "      <td>dataset tiene el codigo 'OWID_SRM' que NO esta...</td>\n",
       "    </tr>\n",
       "    <tr>\n",
       "      <th>26</th>\n",
       "      <td>TRANEN</td>\n",
       "      <td>identidad_kaya_mundo.csv</td>\n",
       "      <td>dataset tiene el codigo 'OWID_YAR' que NO esta...</td>\n",
       "    </tr>\n",
       "    <tr>\n",
       "      <th>27</th>\n",
       "      <td>TRANEN</td>\n",
       "      <td>identidad_kaya_mundo.csv</td>\n",
       "      <td>dataset tiene el codigo 'OWID_YPR' que NO esta...</td>\n",
       "    </tr>\n",
       "    <tr>\n",
       "      <th>28</th>\n",
       "      <td>TRANEN</td>\n",
       "      <td>produccion_biocomb.csv</td>\n",
       "      <td>dataset tiene el codigo 'OWID_WRL' que NO esta...</td>\n",
       "    </tr>\n",
       "    <tr>\n",
       "      <th>29</th>\n",
       "      <td>TRANEN</td>\n",
       "      <td>intensidad_carbono_electri_mundo.csv</td>\n",
       "      <td>dataset tiene el codigo 'OWID_KOS' que NO esta...</td>\n",
       "    </tr>\n",
       "    <tr>\n",
       "      <th>30</th>\n",
       "      <td>TRANEN</td>\n",
       "      <td>intensidad_carbono_electri_mundo.csv</td>\n",
       "      <td>dataset tiene el codigo 'OWID_WRL' que NO esta...</td>\n",
       "    </tr>\n",
       "    <tr>\n",
       "      <th>31</th>\n",
       "      <td>TRANEN</td>\n",
       "      <td>generacion_hidro_twh.csv</td>\n",
       "      <td>dataset tiene el codigo 'OWID_WRL' que NO esta...</td>\n",
       "    </tr>\n",
       "    <tr>\n",
       "      <th>32</th>\n",
       "      <td>TRANEN</td>\n",
       "      <td>generacion_hidro_twh.csv</td>\n",
       "      <td>dataset tiene el codigo 'OWID_KOS' que NO esta...</td>\n",
       "    </tr>\n",
       "    <tr>\n",
       "      <th>33</th>\n",
       "      <td>SALING</td>\n",
       "      <td>ISA_salarios_mundo_i1.csv</td>\n",
       "      <td>dataset tiene el codigo 'ELS' que NO esta incl...</td>\n",
       "    </tr>\n",
       "    <tr>\n",
       "      <th>34</th>\n",
       "      <td>SALING</td>\n",
       "      <td>ISA_salarios_mundo_i1.csv</td>\n",
       "      <td>dataset tiene el codigo 'PAR' que NO esta incl...</td>\n",
       "    </tr>\n",
       "  </tbody>\n",
       "</table>\n",
       "</div>"
      ],
      "text/plain": [
       "    TOPICO                                                csv  \\\n",
       "0   SEBACO                      22_participacion_expo_sbc.csv   \n",
       "1   SEBACO                      22_participacion_expo_sbc.csv   \n",
       "2   SEBACO                      23_participacion_expo_ssi.csv   \n",
       "3   COMEXT  composicion_exportaciones_bienes_sectores_Bram...   \n",
       "4   COMEXT  composicion_importaciones_bienes_sectores_Bram...   \n",
       "5   TRANEN                     matriz_prim_mundo_historic.csv   \n",
       "6   TRANEN                         intensidad_energ_mundo.csv   \n",
       "7   TRANEN                         intensidad_energ_mundo.csv   \n",
       "8   TRANEN                         intensidad_energ_mundo.csv   \n",
       "9   TRANEN                         generacion_nuclear_twh.csv   \n",
       "10  TRANEN                         generacion_nuclear_twh.csv   \n",
       "11  TRANEN                           energia_baja_carbono.csv   \n",
       "12  TRANEN                  capacidad_instalada_eolica_gw.csv   \n",
       "13  TRANEN                  capacidad_instalada_eolica_gw.csv   \n",
       "14  TRANEN                      capacidad_instalada_fv_gw.csv   \n",
       "15  TRANEN                      capacidad_instalada_fv_gw.csv   \n",
       "16  TRANEN           produc_electricidad_fuente_mundo_twh.csv   \n",
       "17  TRANEN           produc_electricidad_fuente_mundo_twh.csv   \n",
       "18  TRANEN                           identidad_kaya_mundo.csv   \n",
       "19  TRANEN                           identidad_kaya_mundo.csv   \n",
       "20  TRANEN                           identidad_kaya_mundo.csv   \n",
       "21  TRANEN                           identidad_kaya_mundo.csv   \n",
       "22  TRANEN                           identidad_kaya_mundo.csv   \n",
       "23  TRANEN                           identidad_kaya_mundo.csv   \n",
       "24  TRANEN                           identidad_kaya_mundo.csv   \n",
       "25  TRANEN                           identidad_kaya_mundo.csv   \n",
       "26  TRANEN                           identidad_kaya_mundo.csv   \n",
       "27  TRANEN                           identidad_kaya_mundo.csv   \n",
       "28  TRANEN                             produccion_biocomb.csv   \n",
       "29  TRANEN               intensidad_carbono_electri_mundo.csv   \n",
       "30  TRANEN               intensidad_carbono_electri_mundo.csv   \n",
       "31  TRANEN                           generacion_hidro_twh.csv   \n",
       "32  TRANEN                           generacion_hidro_twh.csv   \n",
       "33  SALING                          ISA_salarios_mundo_i1.csv   \n",
       "34  SALING                          ISA_salarios_mundo_i1.csv   \n",
       "\n",
       "                                             problema  \n",
       "0   dataset tiene el codigo 'CHT' que NO esta incl...  \n",
       "1   dataset tiene el codigo 'ROM' que NO esta incl...  \n",
       "2   dataset tiene el codigo 'ROM' que NO esta incl...  \n",
       "3   dataset tiene el codigo 'S19' que NO esta incl...  \n",
       "4   dataset tiene el codigo 'S19' que NO esta incl...  \n",
       "5   dataset tiene el codigo 'OWID_WRL' que NO esta...  \n",
       "6   dataset tiene el codigo 'OWID_WRL' que NO esta...  \n",
       "7   dataset tiene el codigo 'OWID_CZS' que NO esta...  \n",
       "8   dataset tiene el codigo 'OWID_YGS' que NO esta...  \n",
       "9   dataset tiene el codigo 'OWID_WRL' que NO esta...  \n",
       "10  dataset tiene el codigo 'OWID_KOS' que NO esta...  \n",
       "11  dataset tiene el codigo 'OWID_WRL' que NO esta...  \n",
       "12  dataset tiene el codigo 'OWID_KOS' que NO esta...  \n",
       "13  dataset tiene el codigo 'OWID_WRL' que NO esta...  \n",
       "14  dataset tiene el codigo 'OWID_KOS' que NO esta...  \n",
       "15  dataset tiene el codigo 'OWID_WRL' que NO esta...  \n",
       "16  dataset tiene el codigo 'OWID_WRL' que NO esta...  \n",
       "17  dataset tiene el codigo 'OWID_KOS' que NO esta...  \n",
       "18  dataset tiene el codigo 'OWID_WRL' que NO esta...  \n",
       "19  dataset tiene el codigo 'OWID_KOS' que NO esta...  \n",
       "20  dataset tiene el codigo 'OWID_CZS' que NO esta...  \n",
       "21  dataset tiene el codigo 'OWID_YGS' que NO esta...  \n",
       "22  dataset tiene el codigo 'OWID_ERE' que NO esta...  \n",
       "23  dataset tiene el codigo 'OWID_GFR' que NO esta...  \n",
       "24  dataset tiene el codigo 'OWID_GDR' que NO esta...  \n",
       "25  dataset tiene el codigo 'OWID_SRM' que NO esta...  \n",
       "26  dataset tiene el codigo 'OWID_YAR' que NO esta...  \n",
       "27  dataset tiene el codigo 'OWID_YPR' que NO esta...  \n",
       "28  dataset tiene el codigo 'OWID_WRL' que NO esta...  \n",
       "29  dataset tiene el codigo 'OWID_KOS' que NO esta...  \n",
       "30  dataset tiene el codigo 'OWID_WRL' que NO esta...  \n",
       "31  dataset tiene el codigo 'OWID_WRL' que NO esta...  \n",
       "32  dataset tiene el codigo 'OWID_KOS' que NO esta...  \n",
       "33  dataset tiene el codigo 'ELS' que NO esta incl...  \n",
       "34  dataset tiene el codigo 'PAR' que NO esta incl...  "
      ]
     },
     "execution_count": 7,
     "metadata": {},
     "output_type": "execute_result"
    }
   ],
   "source": [
    "# carpeta con dfProblemas_tipo3 y donde guardo los nuevos\n",
    "base_path = '/home/lucia/Desktop/Fundar/data_renaming/problematicas_renaming'\n",
    "\n",
    "# nombres archivos\n",
    "file_tipo3 = os.path.join(base_path, 'dfProblemas_tipo3.csv')\n",
    "\n",
    "# cargar dfProblemas_tipo3 y filtrar filas donde topicos == 'DESHUM', y los guardo como dfProblemas_tipo3_2daVuelta.csv\n",
    "df_tipo3 = pd.read_csv(file_tipo3)\n",
    "df_tipo3_filtrado = df_tipo3[df_tipo3['TOPICO'] != 'DESHUM']\n",
    "\n",
    "output_tipo3 = os.path.join(base_path, 'dfProblemas_tipo3_2daVuelta.csv')\n",
    "df_tipo3_filtrado.to_csv(output_tipo3, index=False, encoding='utf-8', sep=',')\n",
    "\n",
    "df_tipo3_filtrado"
   ]
  },
  {
   "cell_type": "code",
   "execution_count": 10,
   "id": "46cbe29f",
   "metadata": {},
   "outputs": [
    {
     "data": {
      "application/vnd.microsoft.datawrangler.viewer.v0+json": {
       "columns": [
        {
         "name": "index",
         "rawType": "int64",
         "type": "integer"
        },
        {
         "name": "TOPICO",
         "rawType": "object",
         "type": "string"
        },
        {
         "name": "csv",
         "rawType": "object",
         "type": "string"
        },
        {
         "name": "problema",
         "rawType": "object",
         "type": "string"
        }
       ],
       "ref": "ee6793c3-250b-4800-8c84-ee1179a1fe90",
       "rows": [
        [
         "0",
         "SEBACO",
         "22_participacion_expo_sbc.csv",
         "dataset tiene el codigo 'CHT' que NO esta incluido en los geocodigos y no existe columna desc_fundar. Puede implicar modificaciones del geonomenclador (a revisión, para no pisarse con otros casos)."
        ],
        [
         "1",
         "SEBACO",
         "22_participacion_expo_sbc.csv",
         "dataset tiene el codigo 'ROM' que NO esta incluido en los geocodigos y no existe columna desc_fundar. Puede implicar modificaciones del geonomenclador (a revisión, para no pisarse con otros casos)."
        ],
        [
         "3",
         "COMEXT",
         "composicion_exportaciones_bienes_sectores_Brambilla_Porto.csv",
         "dataset tiene el codigo 'S19' que NO esta incluido en los geocodigos y no existe columna desc_fundar. Puede implicar modificaciones del geonomenclador (a revisión, para no pisarse con otros casos)."
        ],
        [
         "5",
         "TRANEN",
         "matriz_prim_mundo_historic.csv",
         "dataset tiene el codigo 'OWID_WRL' que NO esta incluido en los geocodigos y no existe columna desc_fundar. Puede implicar modificaciones del geonomenclador (a revisión, para no pisarse con otros casos)."
        ],
        [
         "7",
         "TRANEN",
         "intensidad_energ_mundo.csv",
         "dataset tiene el codigo 'OWID_CZS' que NO esta incluido en los geocodigos y no existe columna desc_fundar. Puede implicar modificaciones del geonomenclador (a revisión, para no pisarse con otros casos)."
        ],
        [
         "8",
         "TRANEN",
         "intensidad_energ_mundo.csv",
         "dataset tiene el codigo 'OWID_YGS' que NO esta incluido en los geocodigos y no existe columna desc_fundar. Puede implicar modificaciones del geonomenclador (a revisión, para no pisarse con otros casos)."
        ],
        [
         "10",
         "TRANEN",
         "generacion_nuclear_twh.csv",
         "dataset tiene el codigo 'OWID_KOS' que NO esta incluido en los geocodigos y no existe columna desc_fundar. Puede implicar modificaciones del geonomenclador (a revisión, para no pisarse con otros casos)."
        ],
        [
         "22",
         "TRANEN",
         "identidad_kaya_mundo.csv",
         "dataset tiene el codigo 'OWID_ERE' que NO esta incluido en los geocodigos y no existe columna desc_fundar. Puede implicar modificaciones del geonomenclador (a revisión, para no pisarse con otros casos)."
        ],
        [
         "23",
         "TRANEN",
         "identidad_kaya_mundo.csv",
         "dataset tiene el codigo 'OWID_GFR' que NO esta incluido en los geocodigos y no existe columna desc_fundar. Puede implicar modificaciones del geonomenclador (a revisión, para no pisarse con otros casos)."
        ],
        [
         "24",
         "TRANEN",
         "identidad_kaya_mundo.csv",
         "dataset tiene el codigo 'OWID_GDR' que NO esta incluido en los geocodigos y no existe columna desc_fundar. Puede implicar modificaciones del geonomenclador (a revisión, para no pisarse con otros casos)."
        ],
        [
         "25",
         "TRANEN",
         "identidad_kaya_mundo.csv",
         "dataset tiene el codigo 'OWID_SRM' que NO esta incluido en los geocodigos y no existe columna desc_fundar. Puede implicar modificaciones del geonomenclador (a revisión, para no pisarse con otros casos)."
        ],
        [
         "26",
         "TRANEN",
         "identidad_kaya_mundo.csv",
         "dataset tiene el codigo 'OWID_YAR' que NO esta incluido en los geocodigos y no existe columna desc_fundar. Puede implicar modificaciones del geonomenclador (a revisión, para no pisarse con otros casos)."
        ],
        [
         "27",
         "TRANEN",
         "identidad_kaya_mundo.csv",
         "dataset tiene el codigo 'OWID_YPR' que NO esta incluido en los geocodigos y no existe columna desc_fundar. Puede implicar modificaciones del geonomenclador (a revisión, para no pisarse con otros casos)."
        ],
        [
         "33",
         "SALING",
         "ISA_salarios_mundo_i1.csv",
         "dataset tiene el codigo 'ELS' que NO esta incluido en los geocodigos y no existe columna desc_fundar. Puede implicar modificaciones del geonomenclador (a revisión, para no pisarse con otros casos)."
        ],
        [
         "34",
         "SALING",
         "ISA_salarios_mundo_i1.csv",
         "dataset tiene el codigo 'PAR' que NO esta incluido en los geocodigos y no existe columna desc_fundar. Puede implicar modificaciones del geonomenclador (a revisión, para no pisarse con otros casos)."
        ]
       ],
       "shape": {
        "columns": 3,
        "rows": 15
       }
      },
      "text/html": [
       "<div>\n",
       "<style scoped>\n",
       "    .dataframe tbody tr th:only-of-type {\n",
       "        vertical-align: middle;\n",
       "    }\n",
       "\n",
       "    .dataframe tbody tr th {\n",
       "        vertical-align: top;\n",
       "    }\n",
       "\n",
       "    .dataframe thead th {\n",
       "        text-align: right;\n",
       "    }\n",
       "</style>\n",
       "<table border=\"1\" class=\"dataframe\">\n",
       "  <thead>\n",
       "    <tr style=\"text-align: right;\">\n",
       "      <th></th>\n",
       "      <th>TOPICO</th>\n",
       "      <th>csv</th>\n",
       "      <th>problema</th>\n",
       "    </tr>\n",
       "  </thead>\n",
       "  <tbody>\n",
       "    <tr>\n",
       "      <th>0</th>\n",
       "      <td>SEBACO</td>\n",
       "      <td>22_participacion_expo_sbc.csv</td>\n",
       "      <td>dataset tiene el codigo 'CHT' que NO esta incl...</td>\n",
       "    </tr>\n",
       "    <tr>\n",
       "      <th>1</th>\n",
       "      <td>SEBACO</td>\n",
       "      <td>22_participacion_expo_sbc.csv</td>\n",
       "      <td>dataset tiene el codigo 'ROM' que NO esta incl...</td>\n",
       "    </tr>\n",
       "    <tr>\n",
       "      <th>3</th>\n",
       "      <td>COMEXT</td>\n",
       "      <td>composicion_exportaciones_bienes_sectores_Bram...</td>\n",
       "      <td>dataset tiene el codigo 'S19' que NO esta incl...</td>\n",
       "    </tr>\n",
       "    <tr>\n",
       "      <th>5</th>\n",
       "      <td>TRANEN</td>\n",
       "      <td>matriz_prim_mundo_historic.csv</td>\n",
       "      <td>dataset tiene el codigo 'OWID_WRL' que NO esta...</td>\n",
       "    </tr>\n",
       "    <tr>\n",
       "      <th>7</th>\n",
       "      <td>TRANEN</td>\n",
       "      <td>intensidad_energ_mundo.csv</td>\n",
       "      <td>dataset tiene el codigo 'OWID_CZS' que NO esta...</td>\n",
       "    </tr>\n",
       "    <tr>\n",
       "      <th>8</th>\n",
       "      <td>TRANEN</td>\n",
       "      <td>intensidad_energ_mundo.csv</td>\n",
       "      <td>dataset tiene el codigo 'OWID_YGS' que NO esta...</td>\n",
       "    </tr>\n",
       "    <tr>\n",
       "      <th>10</th>\n",
       "      <td>TRANEN</td>\n",
       "      <td>generacion_nuclear_twh.csv</td>\n",
       "      <td>dataset tiene el codigo 'OWID_KOS' que NO esta...</td>\n",
       "    </tr>\n",
       "    <tr>\n",
       "      <th>22</th>\n",
       "      <td>TRANEN</td>\n",
       "      <td>identidad_kaya_mundo.csv</td>\n",
       "      <td>dataset tiene el codigo 'OWID_ERE' que NO esta...</td>\n",
       "    </tr>\n",
       "    <tr>\n",
       "      <th>23</th>\n",
       "      <td>TRANEN</td>\n",
       "      <td>identidad_kaya_mundo.csv</td>\n",
       "      <td>dataset tiene el codigo 'OWID_GFR' que NO esta...</td>\n",
       "    </tr>\n",
       "    <tr>\n",
       "      <th>24</th>\n",
       "      <td>TRANEN</td>\n",
       "      <td>identidad_kaya_mundo.csv</td>\n",
       "      <td>dataset tiene el codigo 'OWID_GDR' que NO esta...</td>\n",
       "    </tr>\n",
       "    <tr>\n",
       "      <th>25</th>\n",
       "      <td>TRANEN</td>\n",
       "      <td>identidad_kaya_mundo.csv</td>\n",
       "      <td>dataset tiene el codigo 'OWID_SRM' que NO esta...</td>\n",
       "    </tr>\n",
       "    <tr>\n",
       "      <th>26</th>\n",
       "      <td>TRANEN</td>\n",
       "      <td>identidad_kaya_mundo.csv</td>\n",
       "      <td>dataset tiene el codigo 'OWID_YAR' que NO esta...</td>\n",
       "    </tr>\n",
       "    <tr>\n",
       "      <th>27</th>\n",
       "      <td>TRANEN</td>\n",
       "      <td>identidad_kaya_mundo.csv</td>\n",
       "      <td>dataset tiene el codigo 'OWID_YPR' que NO esta...</td>\n",
       "    </tr>\n",
       "    <tr>\n",
       "      <th>33</th>\n",
       "      <td>SALING</td>\n",
       "      <td>ISA_salarios_mundo_i1.csv</td>\n",
       "      <td>dataset tiene el codigo 'ELS' que NO esta incl...</td>\n",
       "    </tr>\n",
       "    <tr>\n",
       "      <th>34</th>\n",
       "      <td>SALING</td>\n",
       "      <td>ISA_salarios_mundo_i1.csv</td>\n",
       "      <td>dataset tiene el codigo 'PAR' que NO esta incl...</td>\n",
       "    </tr>\n",
       "  </tbody>\n",
       "</table>\n",
       "</div>"
      ],
      "text/plain": [
       "    TOPICO                                                csv  \\\n",
       "0   SEBACO                      22_participacion_expo_sbc.csv   \n",
       "1   SEBACO                      22_participacion_expo_sbc.csv   \n",
       "3   COMEXT  composicion_exportaciones_bienes_sectores_Bram...   \n",
       "5   TRANEN                     matriz_prim_mundo_historic.csv   \n",
       "7   TRANEN                         intensidad_energ_mundo.csv   \n",
       "8   TRANEN                         intensidad_energ_mundo.csv   \n",
       "10  TRANEN                         generacion_nuclear_twh.csv   \n",
       "22  TRANEN                           identidad_kaya_mundo.csv   \n",
       "23  TRANEN                           identidad_kaya_mundo.csv   \n",
       "24  TRANEN                           identidad_kaya_mundo.csv   \n",
       "25  TRANEN                           identidad_kaya_mundo.csv   \n",
       "26  TRANEN                           identidad_kaya_mundo.csv   \n",
       "27  TRANEN                           identidad_kaya_mundo.csv   \n",
       "33  SALING                          ISA_salarios_mundo_i1.csv   \n",
       "34  SALING                          ISA_salarios_mundo_i1.csv   \n",
       "\n",
       "                                             problema  \n",
       "0   dataset tiene el codigo 'CHT' que NO esta incl...  \n",
       "1   dataset tiene el codigo 'ROM' que NO esta incl...  \n",
       "3   dataset tiene el codigo 'S19' que NO esta incl...  \n",
       "5   dataset tiene el codigo 'OWID_WRL' que NO esta...  \n",
       "7   dataset tiene el codigo 'OWID_CZS' que NO esta...  \n",
       "8   dataset tiene el codigo 'OWID_YGS' que NO esta...  \n",
       "10  dataset tiene el codigo 'OWID_KOS' que NO esta...  \n",
       "22  dataset tiene el codigo 'OWID_ERE' que NO esta...  \n",
       "23  dataset tiene el codigo 'OWID_GFR' que NO esta...  \n",
       "24  dataset tiene el codigo 'OWID_GDR' que NO esta...  \n",
       "25  dataset tiene el codigo 'OWID_SRM' que NO esta...  \n",
       "26  dataset tiene el codigo 'OWID_YAR' que NO esta...  \n",
       "27  dataset tiene el codigo 'OWID_YPR' que NO esta...  \n",
       "33  dataset tiene el codigo 'ELS' que NO esta incl...  \n",
       "34  dataset tiene el codigo 'PAR' que NO esta incl...  "
      ]
     },
     "execution_count": 10,
     "metadata": {},
     "output_type": "execute_result"
    }
   ],
   "source": [
    "# elimino filas duplicadas basadas en la columna 'problema' para sintetizar que problemas tengo, más allá de cada csv en particular en el que ocurra\n",
    "df_tipo3_sin_duplicados = df_tipo3_filtrado.drop_duplicates(subset=['problema'])\n",
    "\n",
    "df_tipo3_sin_duplicados"
   ]
  },
  {
   "cell_type": "markdown",
   "id": "d4b9c783",
   "metadata": {},
   "source": [
    "<font color = \"gold\"> Problemas particulares de df_tipo3, qué encontré al respecto y que haría </font>"
   ]
  },
  {
   "cell_type": "markdown",
   "id": "e498daf1",
   "metadata": {},
   "source": [
    "<b> <font color = \"bisque\"> Problemas tipo4  </font> </b>"
   ]
  },
  {
   "cell_type": "code",
   "execution_count": 12,
   "id": "93bcaed3",
   "metadata": {},
   "outputs": [
    {
     "data": {
      "application/vnd.microsoft.datawrangler.viewer.v0+json": {
       "columns": [
        {
         "name": "index",
         "rawType": "int64",
         "type": "integer"
        },
        {
         "name": "TOPICO",
         "rawType": "object",
         "type": "string"
        },
        {
         "name": "csv",
         "rawType": "object",
         "type": "string"
        },
        {
         "name": "problema",
         "rawType": "object",
         "type": "string"
        }
       ],
       "ref": "6d4b049f-4e52-4b5d-b1e5-9bc1e46328d1",
       "rows": [
        [
         "0",
         "SEBACO",
         "06_empleo_sbc_provincia.csv",
         "Para la string 'CABA' se debería generar un codigo nuevo. Puede implicar modificaciones del geonomenclador (a revisión, para no pisarse con otros casos)."
        ],
        [
         "1",
         "SEBACO",
         "06_empleo_sbc_provincia.csv",
         "Para la string 'GBA' se debería generar un codigo nuevo. Puede implicar modificaciones del geonomenclador (a revisión, para no pisarse con otros casos)."
        ],
        [
         "2",
         "ESTPRO",
         "densidad_empresarial_depto.csv",
         "Para la string 'CIUDAD DE BUENOS AIRES' se debería generar un codigo nuevo. Puede implicar modificaciones del geonomenclador (a revisión, para no pisarse con otros casos)."
        ],
        [
         "3",
         "ESTPRO",
         "densidad_empresarial_depto.csv",
         "Para la string 'NAN' se debería generar un codigo nuevo. Puede implicar modificaciones del geonomenclador (a revisión, para no pisarse con otros casos)."
        ],
        [
         "4",
         "ESTPRO",
         "densidad_nbi.csv",
         "Para la string 'CIUDAD DE BUENOS AIRES' se debería generar un codigo nuevo. Puede implicar modificaciones del geonomenclador (a revisión, para no pisarse con otros casos)."
        ],
        [
         "5",
         "ESTPRO",
         "densidad_nbi.csv",
         "Para la string 'NAN' se debería generar un codigo nuevo. Puede implicar modificaciones del geonomenclador (a revisión, para no pisarse con otros casos)."
        ],
        [
         "6",
         "MERTRA",
         "tasa_empleo_por_franja_etaria_anio_provincia.csv",
         "Para la string 'CABA' se debería generar un codigo nuevo. Puede implicar modificaciones del geonomenclador (a revisión, para no pisarse con otros casos)."
        ],
        [
         "7",
         "MERTRA",
         "tasa_empleo_por_franja_etaria_anio_provincia.csv",
         "Para la string 'TOTAL' se debería generar un codigo nuevo. Puede implicar modificaciones del geonomenclador (a revisión, para no pisarse con otros casos)."
        ],
        [
         "8",
         "MERTRA",
         "tasa_empleo_menores_provincia.csv",
         "Para la string 'CIUDAD DE BUENOS AIRES' se debería generar un codigo nuevo. Puede implicar modificaciones del geonomenclador (a revisión, para no pisarse con otros casos)."
        ],
        [
         "9",
         "MERTRA",
         "tasa_empleo_menores_provincia.csv",
         "Para la string 'TOTAL' se debería generar un codigo nuevo. Puede implicar modificaciones del geonomenclador (a revisión, para no pisarse con otros casos)."
        ],
        [
         "10",
         "MERTRA",
         "tasa_empleo_provincia_nivel_educativo.csv",
         "Para la string 'CIUDAD DE BUENOS AIRES' se debería generar un codigo nuevo. Puede implicar modificaciones del geonomenclador (a revisión, para no pisarse con otros casos)."
        ],
        [
         "11",
         "MERTRA",
         "tasa_empleo_anio_provincia_sexo.csv",
         "Para la string 'CABA' se debería generar un codigo nuevo. Puede implicar modificaciones del geonomenclador (a revisión, para no pisarse con otros casos)."
        ],
        [
         "12",
         "MERTRA",
         "tasa_empleo_anio_provincia_sexo.csv",
         "Para la string 'TODAS' se debería generar un codigo nuevo. Puede implicar modificaciones del geonomenclador (a revisión, para no pisarse con otros casos)."
        ],
        [
         "13",
         "MERTRA",
         "tasa_empleo_anio_provincia.csv",
         "Para la string 'CABA' se debería generar un codigo nuevo. Puede implicar modificaciones del geonomenclador (a revisión, para no pisarse con otros casos)."
        ],
        [
         "14",
         "MERTRA",
         "tasa_empleo_anio_provincia.csv",
         "Para la string 'TOTAL PAIS' se debería generar un codigo nuevo. Puede implicar modificaciones del geonomenclador (a revisión, para no pisarse con otros casos)."
        ],
        [
         "15",
         "MERTRA",
         "establecimientos_tasa_empleo_provincia.csv",
         "Para la string 'CABA' se debería generar un codigo nuevo. Puede implicar modificaciones del geonomenclador (a revisión, para no pisarse con otros casos)."
        ],
        [
         "16",
         "MERTRA",
         "lavarropas_tasa_empleo_fem_provincia.csv",
         "Para la string 'CABA' se debería generar un codigo nuevo. Puede implicar modificaciones del geonomenclador (a revisión, para no pisarse con otros casos)."
        ],
        [
         "17",
         "MERTRA",
         "tasa_empleo_mujer_salario_provincia_anio.csv",
         "Para la string 'CIUDAD DE BUENOS AIRES' se debería generar un codigo nuevo. Puede implicar modificaciones del geonomenclador (a revisión, para no pisarse con otros casos)."
        ],
        [
         "18",
         "SALING",
         "ISA_tipo_empleo_i3.csv",
         "Para la string 'REP. DOMINICANA' se debería generar un codigo nuevo. Puede implicar modificaciones del geonomenclador (a revisión, para no pisarse con otros casos)."
        ],
        [
         "19",
         "AGROPE",
         "stock_bovina_regiones_argentina.csv",
         "Para la string 'NEA' se debería generar un codigo nuevo. Puede implicar modificaciones del geonomenclador (a revisión, para no pisarse con otros casos)."
        ],
        [
         "20",
         "AGROPE",
         "stock_bovina_regiones_argentina.csv",
         "Para la string 'NOA' se debería generar un codigo nuevo. Puede implicar modificaciones del geonomenclador (a revisión, para no pisarse con otros casos)."
        ],
        [
         "21",
         "AGROPE",
         "PBG_participacion_agro_provincia_evolucion.csv",
         "Para la string 'CIUDAD DE BUENOS AIRES' se debería generar un codigo nuevo. Puede implicar modificaciones del geonomenclador (a revisión, para no pisarse con otros casos)."
        ],
        [
         "22",
         "ACECON",
         "9_pibpc_ppa_log_1950.csv",
         "Para la string 'TIGRES ASIATICOS' se debería generar un codigo nuevo. Puede implicar modificaciones del geonomenclador (a revisión, para no pisarse con otros casos)."
        ],
        [
         "23",
         "INFDES",
         "tasa_informalidad_provincia_definicion_productiva_legal.csv",
         "Para la string 'CABA' se debería generar un codigo nuevo. Puede implicar modificaciones del geonomenclador (a revisión, para no pisarse con otros casos)."
        ],
        [
         "24",
         "INFDES",
         "tasa_informalidad_provincia_definicion_productiva_legal.csv",
         "Para la string 'TOTAL PAIS' se debería generar un codigo nuevo. Puede implicar modificaciones del geonomenclador (a revisión, para no pisarse con otros casos)."
        ],
        [
         "25",
         "MINERI",
         "exportaciones_mineras_provinciales.csv",
         "Para la string 'SAN_JUAN' se debería generar un codigo nuevo. Puede implicar modificaciones del geonomenclador (a revisión, para no pisarse con otros casos)."
        ],
        [
         "26",
         "MINERI",
         "exportaciones_mineras_provinciales.csv",
         "Para la string 'SANTA_CRUZ' se debería generar un codigo nuevo. Puede implicar modificaciones del geonomenclador (a revisión, para no pisarse con otros casos)."
        ]
       ],
       "shape": {
        "columns": 3,
        "rows": 27
       }
      },
      "text/html": [
       "<div>\n",
       "<style scoped>\n",
       "    .dataframe tbody tr th:only-of-type {\n",
       "        vertical-align: middle;\n",
       "    }\n",
       "\n",
       "    .dataframe tbody tr th {\n",
       "        vertical-align: top;\n",
       "    }\n",
       "\n",
       "    .dataframe thead th {\n",
       "        text-align: right;\n",
       "    }\n",
       "</style>\n",
       "<table border=\"1\" class=\"dataframe\">\n",
       "  <thead>\n",
       "    <tr style=\"text-align: right;\">\n",
       "      <th></th>\n",
       "      <th>TOPICO</th>\n",
       "      <th>csv</th>\n",
       "      <th>problema</th>\n",
       "    </tr>\n",
       "  </thead>\n",
       "  <tbody>\n",
       "    <tr>\n",
       "      <th>0</th>\n",
       "      <td>SEBACO</td>\n",
       "      <td>06_empleo_sbc_provincia.csv</td>\n",
       "      <td>Para la string 'CABA' se debería generar un co...</td>\n",
       "    </tr>\n",
       "    <tr>\n",
       "      <th>1</th>\n",
       "      <td>SEBACO</td>\n",
       "      <td>06_empleo_sbc_provincia.csv</td>\n",
       "      <td>Para la string 'GBA' se debería generar un cod...</td>\n",
       "    </tr>\n",
       "    <tr>\n",
       "      <th>2</th>\n",
       "      <td>ESTPRO</td>\n",
       "      <td>densidad_empresarial_depto.csv</td>\n",
       "      <td>Para la string 'CIUDAD DE BUENOS AIRES' se deb...</td>\n",
       "    </tr>\n",
       "    <tr>\n",
       "      <th>3</th>\n",
       "      <td>ESTPRO</td>\n",
       "      <td>densidad_empresarial_depto.csv</td>\n",
       "      <td>Para la string 'NAN' se debería generar un cod...</td>\n",
       "    </tr>\n",
       "    <tr>\n",
       "      <th>4</th>\n",
       "      <td>ESTPRO</td>\n",
       "      <td>densidad_nbi.csv</td>\n",
       "      <td>Para la string 'CIUDAD DE BUENOS AIRES' se deb...</td>\n",
       "    </tr>\n",
       "    <tr>\n",
       "      <th>5</th>\n",
       "      <td>ESTPRO</td>\n",
       "      <td>densidad_nbi.csv</td>\n",
       "      <td>Para la string 'NAN' se debería generar un cod...</td>\n",
       "    </tr>\n",
       "    <tr>\n",
       "      <th>6</th>\n",
       "      <td>MERTRA</td>\n",
       "      <td>tasa_empleo_por_franja_etaria_anio_provincia.csv</td>\n",
       "      <td>Para la string 'CABA' se debería generar un co...</td>\n",
       "    </tr>\n",
       "    <tr>\n",
       "      <th>7</th>\n",
       "      <td>MERTRA</td>\n",
       "      <td>tasa_empleo_por_franja_etaria_anio_provincia.csv</td>\n",
       "      <td>Para la string 'TOTAL' se debería generar un c...</td>\n",
       "    </tr>\n",
       "    <tr>\n",
       "      <th>8</th>\n",
       "      <td>MERTRA</td>\n",
       "      <td>tasa_empleo_menores_provincia.csv</td>\n",
       "      <td>Para la string 'CIUDAD DE BUENOS AIRES' se deb...</td>\n",
       "    </tr>\n",
       "    <tr>\n",
       "      <th>9</th>\n",
       "      <td>MERTRA</td>\n",
       "      <td>tasa_empleo_menores_provincia.csv</td>\n",
       "      <td>Para la string 'TOTAL' se debería generar un c...</td>\n",
       "    </tr>\n",
       "    <tr>\n",
       "      <th>10</th>\n",
       "      <td>MERTRA</td>\n",
       "      <td>tasa_empleo_provincia_nivel_educativo.csv</td>\n",
       "      <td>Para la string 'CIUDAD DE BUENOS AIRES' se deb...</td>\n",
       "    </tr>\n",
       "    <tr>\n",
       "      <th>11</th>\n",
       "      <td>MERTRA</td>\n",
       "      <td>tasa_empleo_anio_provincia_sexo.csv</td>\n",
       "      <td>Para la string 'CABA' se debería generar un co...</td>\n",
       "    </tr>\n",
       "    <tr>\n",
       "      <th>12</th>\n",
       "      <td>MERTRA</td>\n",
       "      <td>tasa_empleo_anio_provincia_sexo.csv</td>\n",
       "      <td>Para la string 'TODAS' se debería generar un c...</td>\n",
       "    </tr>\n",
       "    <tr>\n",
       "      <th>13</th>\n",
       "      <td>MERTRA</td>\n",
       "      <td>tasa_empleo_anio_provincia.csv</td>\n",
       "      <td>Para la string 'CABA' se debería generar un co...</td>\n",
       "    </tr>\n",
       "    <tr>\n",
       "      <th>14</th>\n",
       "      <td>MERTRA</td>\n",
       "      <td>tasa_empleo_anio_provincia.csv</td>\n",
       "      <td>Para la string 'TOTAL PAIS' se debería generar...</td>\n",
       "    </tr>\n",
       "    <tr>\n",
       "      <th>15</th>\n",
       "      <td>MERTRA</td>\n",
       "      <td>establecimientos_tasa_empleo_provincia.csv</td>\n",
       "      <td>Para la string 'CABA' se debería generar un co...</td>\n",
       "    </tr>\n",
       "    <tr>\n",
       "      <th>16</th>\n",
       "      <td>MERTRA</td>\n",
       "      <td>lavarropas_tasa_empleo_fem_provincia.csv</td>\n",
       "      <td>Para la string 'CABA' se debería generar un co...</td>\n",
       "    </tr>\n",
       "    <tr>\n",
       "      <th>17</th>\n",
       "      <td>MERTRA</td>\n",
       "      <td>tasa_empleo_mujer_salario_provincia_anio.csv</td>\n",
       "      <td>Para la string 'CIUDAD DE BUENOS AIRES' se deb...</td>\n",
       "    </tr>\n",
       "    <tr>\n",
       "      <th>18</th>\n",
       "      <td>SALING</td>\n",
       "      <td>ISA_tipo_empleo_i3.csv</td>\n",
       "      <td>Para la string 'REP. DOMINICANA' se debería ge...</td>\n",
       "    </tr>\n",
       "    <tr>\n",
       "      <th>19</th>\n",
       "      <td>AGROPE</td>\n",
       "      <td>stock_bovina_regiones_argentina.csv</td>\n",
       "      <td>Para la string 'NEA' se debería generar un cod...</td>\n",
       "    </tr>\n",
       "    <tr>\n",
       "      <th>20</th>\n",
       "      <td>AGROPE</td>\n",
       "      <td>stock_bovina_regiones_argentina.csv</td>\n",
       "      <td>Para la string 'NOA' se debería generar un cod...</td>\n",
       "    </tr>\n",
       "    <tr>\n",
       "      <th>21</th>\n",
       "      <td>AGROPE</td>\n",
       "      <td>PBG_participacion_agro_provincia_evolucion.csv</td>\n",
       "      <td>Para la string 'CIUDAD DE BUENOS AIRES' se deb...</td>\n",
       "    </tr>\n",
       "    <tr>\n",
       "      <th>22</th>\n",
       "      <td>ACECON</td>\n",
       "      <td>9_pibpc_ppa_log_1950.csv</td>\n",
       "      <td>Para la string 'TIGRES ASIATICOS' se debería g...</td>\n",
       "    </tr>\n",
       "    <tr>\n",
       "      <th>23</th>\n",
       "      <td>INFDES</td>\n",
       "      <td>tasa_informalidad_provincia_definicion_product...</td>\n",
       "      <td>Para la string 'CABA' se debería generar un co...</td>\n",
       "    </tr>\n",
       "    <tr>\n",
       "      <th>24</th>\n",
       "      <td>INFDES</td>\n",
       "      <td>tasa_informalidad_provincia_definicion_product...</td>\n",
       "      <td>Para la string 'TOTAL PAIS' se debería generar...</td>\n",
       "    </tr>\n",
       "    <tr>\n",
       "      <th>25</th>\n",
       "      <td>MINERI</td>\n",
       "      <td>exportaciones_mineras_provinciales.csv</td>\n",
       "      <td>Para la string 'SAN_JUAN' se debería generar u...</td>\n",
       "    </tr>\n",
       "    <tr>\n",
       "      <th>26</th>\n",
       "      <td>MINERI</td>\n",
       "      <td>exportaciones_mineras_provinciales.csv</td>\n",
       "      <td>Para la string 'SANTA_CRUZ' se debería generar...</td>\n",
       "    </tr>\n",
       "  </tbody>\n",
       "</table>\n",
       "</div>"
      ],
      "text/plain": [
       "    TOPICO                                                csv  \\\n",
       "0   SEBACO                        06_empleo_sbc_provincia.csv   \n",
       "1   SEBACO                        06_empleo_sbc_provincia.csv   \n",
       "2   ESTPRO                     densidad_empresarial_depto.csv   \n",
       "3   ESTPRO                     densidad_empresarial_depto.csv   \n",
       "4   ESTPRO                                   densidad_nbi.csv   \n",
       "5   ESTPRO                                   densidad_nbi.csv   \n",
       "6   MERTRA   tasa_empleo_por_franja_etaria_anio_provincia.csv   \n",
       "7   MERTRA   tasa_empleo_por_franja_etaria_anio_provincia.csv   \n",
       "8   MERTRA                  tasa_empleo_menores_provincia.csv   \n",
       "9   MERTRA                  tasa_empleo_menores_provincia.csv   \n",
       "10  MERTRA          tasa_empleo_provincia_nivel_educativo.csv   \n",
       "11  MERTRA                tasa_empleo_anio_provincia_sexo.csv   \n",
       "12  MERTRA                tasa_empleo_anio_provincia_sexo.csv   \n",
       "13  MERTRA                     tasa_empleo_anio_provincia.csv   \n",
       "14  MERTRA                     tasa_empleo_anio_provincia.csv   \n",
       "15  MERTRA         establecimientos_tasa_empleo_provincia.csv   \n",
       "16  MERTRA           lavarropas_tasa_empleo_fem_provincia.csv   \n",
       "17  MERTRA       tasa_empleo_mujer_salario_provincia_anio.csv   \n",
       "18  SALING                             ISA_tipo_empleo_i3.csv   \n",
       "19  AGROPE                stock_bovina_regiones_argentina.csv   \n",
       "20  AGROPE                stock_bovina_regiones_argentina.csv   \n",
       "21  AGROPE     PBG_participacion_agro_provincia_evolucion.csv   \n",
       "22  ACECON                           9_pibpc_ppa_log_1950.csv   \n",
       "23  INFDES  tasa_informalidad_provincia_definicion_product...   \n",
       "24  INFDES  tasa_informalidad_provincia_definicion_product...   \n",
       "25  MINERI             exportaciones_mineras_provinciales.csv   \n",
       "26  MINERI             exportaciones_mineras_provinciales.csv   \n",
       "\n",
       "                                             problema  \n",
       "0   Para la string 'CABA' se debería generar un co...  \n",
       "1   Para la string 'GBA' se debería generar un cod...  \n",
       "2   Para la string 'CIUDAD DE BUENOS AIRES' se deb...  \n",
       "3   Para la string 'NAN' se debería generar un cod...  \n",
       "4   Para la string 'CIUDAD DE BUENOS AIRES' se deb...  \n",
       "5   Para la string 'NAN' se debería generar un cod...  \n",
       "6   Para la string 'CABA' se debería generar un co...  \n",
       "7   Para la string 'TOTAL' se debería generar un c...  \n",
       "8   Para la string 'CIUDAD DE BUENOS AIRES' se deb...  \n",
       "9   Para la string 'TOTAL' se debería generar un c...  \n",
       "10  Para la string 'CIUDAD DE BUENOS AIRES' se deb...  \n",
       "11  Para la string 'CABA' se debería generar un co...  \n",
       "12  Para la string 'TODAS' se debería generar un c...  \n",
       "13  Para la string 'CABA' se debería generar un co...  \n",
       "14  Para la string 'TOTAL PAIS' se debería generar...  \n",
       "15  Para la string 'CABA' se debería generar un co...  \n",
       "16  Para la string 'CABA' se debería generar un co...  \n",
       "17  Para la string 'CIUDAD DE BUENOS AIRES' se deb...  \n",
       "18  Para la string 'REP. DOMINICANA' se debería ge...  \n",
       "19  Para la string 'NEA' se debería generar un cod...  \n",
       "20  Para la string 'NOA' se debería generar un cod...  \n",
       "21  Para la string 'CIUDAD DE BUENOS AIRES' se deb...  \n",
       "22  Para la string 'TIGRES ASIATICOS' se debería g...  \n",
       "23  Para la string 'CABA' se debería generar un co...  \n",
       "24  Para la string 'TOTAL PAIS' se debería generar...  \n",
       "25  Para la string 'SAN_JUAN' se debería generar u...  \n",
       "26  Para la string 'SANTA_CRUZ' se debería generar...  "
      ]
     },
     "execution_count": 12,
     "metadata": {},
     "output_type": "execute_result"
    }
   ],
   "source": [
    "# veamos como son los dfProblemas_tipo4.csv\n",
    "\n",
    "# carpeta donde con dfProblemas_tipo4 \n",
    "base_path = '/home/lucia/Desktop/Fundar/data_renaming/problematicas_renaming'\n",
    "\n",
    "file_tipo4 = os.path.join(base_path, 'dfProblemas_tipo4.csv')\n",
    "\n",
    "# cargar dfProblemas_tipo4 \n",
    "df_tipo4 = pd.read_csv(file_tipo4)\n",
    "\n",
    "df_tipo4"
   ]
  },
  {
   "cell_type": "code",
   "execution_count": 13,
   "id": "1364ec52",
   "metadata": {},
   "outputs": [
    {
     "data": {
      "application/vnd.microsoft.datawrangler.viewer.v0+json": {
       "columns": [
        {
         "name": "index",
         "rawType": "int64",
         "type": "integer"
        },
        {
         "name": "TOPICO",
         "rawType": "object",
         "type": "string"
        },
        {
         "name": "csv",
         "rawType": "object",
         "type": "string"
        },
        {
         "name": "problema",
         "rawType": "object",
         "type": "string"
        }
       ],
       "ref": "1d40c455-7ad4-465d-92d1-4ffc4d19bf33",
       "rows": [
        [
         "0",
         "SEBACO",
         "06_empleo_sbc_provincia.csv",
         "Para la string 'CABA' se debería generar un codigo nuevo. Puede implicar modificaciones del geonomenclador (a revisión, para no pisarse con otros casos)."
        ],
        [
         "1",
         "SEBACO",
         "06_empleo_sbc_provincia.csv",
         "Para la string 'GBA' se debería generar un codigo nuevo. Puede implicar modificaciones del geonomenclador (a revisión, para no pisarse con otros casos)."
        ],
        [
         "2",
         "ESTPRO",
         "densidad_empresarial_depto.csv",
         "Para la string 'CIUDAD DE BUENOS AIRES' se debería generar un codigo nuevo. Puede implicar modificaciones del geonomenclador (a revisión, para no pisarse con otros casos)."
        ],
        [
         "3",
         "ESTPRO",
         "densidad_empresarial_depto.csv",
         "Para la string 'NAN' se debería generar un codigo nuevo. Puede implicar modificaciones del geonomenclador (a revisión, para no pisarse con otros casos)."
        ],
        [
         "7",
         "MERTRA",
         "tasa_empleo_por_franja_etaria_anio_provincia.csv",
         "Para la string 'TOTAL' se debería generar un codigo nuevo. Puede implicar modificaciones del geonomenclador (a revisión, para no pisarse con otros casos)."
        ],
        [
         "12",
         "MERTRA",
         "tasa_empleo_anio_provincia_sexo.csv",
         "Para la string 'TODAS' se debería generar un codigo nuevo. Puede implicar modificaciones del geonomenclador (a revisión, para no pisarse con otros casos)."
        ],
        [
         "14",
         "MERTRA",
         "tasa_empleo_anio_provincia.csv",
         "Para la string 'TOTAL PAIS' se debería generar un codigo nuevo. Puede implicar modificaciones del geonomenclador (a revisión, para no pisarse con otros casos)."
        ],
        [
         "18",
         "SALING",
         "ISA_tipo_empleo_i3.csv",
         "Para la string 'REP. DOMINICANA' se debería generar un codigo nuevo. Puede implicar modificaciones del geonomenclador (a revisión, para no pisarse con otros casos)."
        ],
        [
         "19",
         "AGROPE",
         "stock_bovina_regiones_argentina.csv",
         "Para la string 'NEA' se debería generar un codigo nuevo. Puede implicar modificaciones del geonomenclador (a revisión, para no pisarse con otros casos)."
        ],
        [
         "20",
         "AGROPE",
         "stock_bovina_regiones_argentina.csv",
         "Para la string 'NOA' se debería generar un codigo nuevo. Puede implicar modificaciones del geonomenclador (a revisión, para no pisarse con otros casos)."
        ],
        [
         "22",
         "ACECON",
         "9_pibpc_ppa_log_1950.csv",
         "Para la string 'TIGRES ASIATICOS' se debería generar un codigo nuevo. Puede implicar modificaciones del geonomenclador (a revisión, para no pisarse con otros casos)."
        ],
        [
         "25",
         "MINERI",
         "exportaciones_mineras_provinciales.csv",
         "Para la string 'SAN_JUAN' se debería generar un codigo nuevo. Puede implicar modificaciones del geonomenclador (a revisión, para no pisarse con otros casos)."
        ],
        [
         "26",
         "MINERI",
         "exportaciones_mineras_provinciales.csv",
         "Para la string 'SANTA_CRUZ' se debería generar un codigo nuevo. Puede implicar modificaciones del geonomenclador (a revisión, para no pisarse con otros casos)."
        ]
       ],
       "shape": {
        "columns": 3,
        "rows": 13
       }
      },
      "text/html": [
       "<div>\n",
       "<style scoped>\n",
       "    .dataframe tbody tr th:only-of-type {\n",
       "        vertical-align: middle;\n",
       "    }\n",
       "\n",
       "    .dataframe tbody tr th {\n",
       "        vertical-align: top;\n",
       "    }\n",
       "\n",
       "    .dataframe thead th {\n",
       "        text-align: right;\n",
       "    }\n",
       "</style>\n",
       "<table border=\"1\" class=\"dataframe\">\n",
       "  <thead>\n",
       "    <tr style=\"text-align: right;\">\n",
       "      <th></th>\n",
       "      <th>TOPICO</th>\n",
       "      <th>csv</th>\n",
       "      <th>problema</th>\n",
       "    </tr>\n",
       "  </thead>\n",
       "  <tbody>\n",
       "    <tr>\n",
       "      <th>0</th>\n",
       "      <td>SEBACO</td>\n",
       "      <td>06_empleo_sbc_provincia.csv</td>\n",
       "      <td>Para la string 'CABA' se debería generar un co...</td>\n",
       "    </tr>\n",
       "    <tr>\n",
       "      <th>1</th>\n",
       "      <td>SEBACO</td>\n",
       "      <td>06_empleo_sbc_provincia.csv</td>\n",
       "      <td>Para la string 'GBA' se debería generar un cod...</td>\n",
       "    </tr>\n",
       "    <tr>\n",
       "      <th>2</th>\n",
       "      <td>ESTPRO</td>\n",
       "      <td>densidad_empresarial_depto.csv</td>\n",
       "      <td>Para la string 'CIUDAD DE BUENOS AIRES' se deb...</td>\n",
       "    </tr>\n",
       "    <tr>\n",
       "      <th>3</th>\n",
       "      <td>ESTPRO</td>\n",
       "      <td>densidad_empresarial_depto.csv</td>\n",
       "      <td>Para la string 'NAN' se debería generar un cod...</td>\n",
       "    </tr>\n",
       "    <tr>\n",
       "      <th>7</th>\n",
       "      <td>MERTRA</td>\n",
       "      <td>tasa_empleo_por_franja_etaria_anio_provincia.csv</td>\n",
       "      <td>Para la string 'TOTAL' se debería generar un c...</td>\n",
       "    </tr>\n",
       "    <tr>\n",
       "      <th>12</th>\n",
       "      <td>MERTRA</td>\n",
       "      <td>tasa_empleo_anio_provincia_sexo.csv</td>\n",
       "      <td>Para la string 'TODAS' se debería generar un c...</td>\n",
       "    </tr>\n",
       "    <tr>\n",
       "      <th>14</th>\n",
       "      <td>MERTRA</td>\n",
       "      <td>tasa_empleo_anio_provincia.csv</td>\n",
       "      <td>Para la string 'TOTAL PAIS' se debería generar...</td>\n",
       "    </tr>\n",
       "    <tr>\n",
       "      <th>18</th>\n",
       "      <td>SALING</td>\n",
       "      <td>ISA_tipo_empleo_i3.csv</td>\n",
       "      <td>Para la string 'REP. DOMINICANA' se debería ge...</td>\n",
       "    </tr>\n",
       "    <tr>\n",
       "      <th>19</th>\n",
       "      <td>AGROPE</td>\n",
       "      <td>stock_bovina_regiones_argentina.csv</td>\n",
       "      <td>Para la string 'NEA' se debería generar un cod...</td>\n",
       "    </tr>\n",
       "    <tr>\n",
       "      <th>20</th>\n",
       "      <td>AGROPE</td>\n",
       "      <td>stock_bovina_regiones_argentina.csv</td>\n",
       "      <td>Para la string 'NOA' se debería generar un cod...</td>\n",
       "    </tr>\n",
       "    <tr>\n",
       "      <th>22</th>\n",
       "      <td>ACECON</td>\n",
       "      <td>9_pibpc_ppa_log_1950.csv</td>\n",
       "      <td>Para la string 'TIGRES ASIATICOS' se debería g...</td>\n",
       "    </tr>\n",
       "    <tr>\n",
       "      <th>25</th>\n",
       "      <td>MINERI</td>\n",
       "      <td>exportaciones_mineras_provinciales.csv</td>\n",
       "      <td>Para la string 'SAN_JUAN' se debería generar u...</td>\n",
       "    </tr>\n",
       "    <tr>\n",
       "      <th>26</th>\n",
       "      <td>MINERI</td>\n",
       "      <td>exportaciones_mineras_provinciales.csv</td>\n",
       "      <td>Para la string 'SANTA_CRUZ' se debería generar...</td>\n",
       "    </tr>\n",
       "  </tbody>\n",
       "</table>\n",
       "</div>"
      ],
      "text/plain": [
       "    TOPICO                                               csv  \\\n",
       "0   SEBACO                       06_empleo_sbc_provincia.csv   \n",
       "1   SEBACO                       06_empleo_sbc_provincia.csv   \n",
       "2   ESTPRO                    densidad_empresarial_depto.csv   \n",
       "3   ESTPRO                    densidad_empresarial_depto.csv   \n",
       "7   MERTRA  tasa_empleo_por_franja_etaria_anio_provincia.csv   \n",
       "12  MERTRA               tasa_empleo_anio_provincia_sexo.csv   \n",
       "14  MERTRA                    tasa_empleo_anio_provincia.csv   \n",
       "18  SALING                            ISA_tipo_empleo_i3.csv   \n",
       "19  AGROPE               stock_bovina_regiones_argentina.csv   \n",
       "20  AGROPE               stock_bovina_regiones_argentina.csv   \n",
       "22  ACECON                          9_pibpc_ppa_log_1950.csv   \n",
       "25  MINERI            exportaciones_mineras_provinciales.csv   \n",
       "26  MINERI            exportaciones_mineras_provinciales.csv   \n",
       "\n",
       "                                             problema  \n",
       "0   Para la string 'CABA' se debería generar un co...  \n",
       "1   Para la string 'GBA' se debería generar un cod...  \n",
       "2   Para la string 'CIUDAD DE BUENOS AIRES' se deb...  \n",
       "3   Para la string 'NAN' se debería generar un cod...  \n",
       "7   Para la string 'TOTAL' se debería generar un c...  \n",
       "12  Para la string 'TODAS' se debería generar un c...  \n",
       "14  Para la string 'TOTAL PAIS' se debería generar...  \n",
       "18  Para la string 'REP. DOMINICANA' se debería ge...  \n",
       "19  Para la string 'NEA' se debería generar un cod...  \n",
       "20  Para la string 'NOA' se debería generar un cod...  \n",
       "22  Para la string 'TIGRES ASIATICOS' se debería g...  \n",
       "25  Para la string 'SAN_JUAN' se debería generar u...  \n",
       "26  Para la string 'SANTA_CRUZ' se debería generar...  "
      ]
     },
     "execution_count": 13,
     "metadata": {},
     "output_type": "execute_result"
    }
   ],
   "source": [
    "# elimino filas duplicadas basadas en la columna 'problema' para sintetizar que problemas tengo, más allá de cada csv en particular en el que ocurra\n",
    "df_tipo4_sin_duplicados = df_tipo4.drop_duplicates(subset=['problema'])\n",
    "\n",
    "df_tipo4_sin_duplicados"
   ]
  },
  {
   "cell_type": "markdown",
   "id": "af96da91",
   "metadata": {},
   "source": [
    "<font color = \"gold\"> Problemas particulares de df_tipo4, qué encontré al respecto y que haría </font>"
   ]
  },
  {
   "cell_type": "markdown",
   "id": "7c0b7c2d",
   "metadata": {},
   "source": []
  }
 ],
 "metadata": {
  "kernelspec": {
   "display_name": "Python 3",
   "language": "python",
   "name": "python3"
  },
  "language_info": {
   "codemirror_mode": {
    "name": "ipython",
    "version": 3
   },
   "file_extension": ".py",
   "mimetype": "text/x-python",
   "name": "python",
   "nbconvert_exporter": "python",
   "pygments_lexer": "ipython3",
   "version": "3.10.12"
  }
 },
 "nbformat": 4,
 "nbformat_minor": 5
}
