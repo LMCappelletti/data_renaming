{
 "cells": [
  {
   "cell_type": "markdown",
   "id": "3e1300c8",
   "metadata": {},
   "source": [
    "### <font color = \"gold\"> Problemas particulares de df_tipo5, encontrados y que hacer </font>"
   ]
  },
  {
   "cell_type": "markdown",
   "id": "93f57207",
   "metadata": {},
   "source": [
    "dfProblema_tipo5: algunos csvs tienen columnas ‘departamento’ y ‘provincia’ y para el geocodigoFundar y geonombreFundar se basa en ‘provincia’ y no en ‘departamento’\n",
    "\n",
    "Del TOPICO ESTPRO, los csvs densidad_empresarial_depto.csv y densidad_nbi.csv tienen este problema.\n",
    "\n",
    "geonombreFundar y geocodigoFundar los completa segun columnas que no no son la de departamento.\n",
    "\n",
    "A estos csvs  se les hará el proceso de renaming de la siguiente manera: geocodigoFundar con las filas de la columna id_departamento de los csv y geonombreFundar con las filas de la columna departamento de los csvsNO SE USA GEONOMENCLADOR: son geocodigos y geonombres propios de cada csv\n",
    "\n",
    "NO SE USA GEONOMENCLADOR: son geocodigos y geonombres propios de cada csv"
   ]
  },
  {
   "cell_type": "code",
   "execution_count": 8,
   "id": "21fca989",
   "metadata": {},
   "outputs": [],
   "source": [
    "import os\n",
    "import pandas as pd\n",
    "\n",
    "base_new = '/home/capuccino/Desktop/TrabajoFundar/data_renaming/new_data_argendataJunio'\n",
    "topic = 'ESTPRO'\n",
    "topic_dir = os.path.join(base_new, topic)\n",
    "\n",
    "# csvs a procesar\n",
    "files = ['densidad_empresarial_depto.csv', 'densidad_nbi.csv']\n",
    "\n",
    "for archivo in files:\n",
    "    path_csv = os.path.join(topic_dir, archivo)\n",
    "    if not os.path.exists(path_csv):\n",
    "        print(f\"No existe {path_csv}\")\n",
    "        continue\n",
    "\n",
    "    df = pd.read_csv(path_csv, encoding = 'utf-8', sep = ',')\n",
    "\n",
    "    # verifico columnas de interes\n",
    "    required = ['id_depto', 'departamento', 'geocodigoFundar', 'geonombreFundar']\n",
    "    if not all(col in df.columns for col in required):\n",
    "        print(f\"{archivo}: falta alguna de las columnas necesarias\")\n",
    "        continue\n",
    "\n",
    "    # asignar los valores directamente\n",
    "    df['geocodigoFundar'] = df['id_depto']\n",
    "    df['geonombreFundar'] = df['departamento']\n",
    "\n",
    "    # guardo los csvs modificados\n",
    "    df.to_csv(path_csv, index = False, encoding = 'utf-8', sep = ',')"
   ]
  }
 ],
 "metadata": {
  "kernelspec": {
   "display_name": "Python 3",
   "language": "python",
   "name": "python3"
  },
  "language_info": {
   "codemirror_mode": {
    "name": "ipython",
    "version": 3
   },
   "file_extension": ".py",
   "mimetype": "text/x-python",
   "name": "python",
   "nbconvert_exporter": "python",
   "pygments_lexer": "ipython3",
   "version": "3.10.12"
  }
 },
 "nbformat": 4,
 "nbformat_minor": 5
}
