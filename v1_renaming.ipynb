{
 "cells": [
  {
   "cell_type": "markdown",
   "metadata": {},
   "source": [
    "<font color = \"gold\"> <i> Code is read much more often than it is written, so plan accordingly </i> </font> \n",
    "\n",
    "https://devblogs.microsoft.com/oldnewthing/20070406-00/?p=27343 \n",
    "\n",
    "espero que me salga :)"
   ]
  },
  {
   "cell_type": "markdown",
   "metadata": {},
   "source": [
    "# <u> <font color = \"bisque\"> Tareas:</font> </u>\n",
    "## <font color = \"bisque\"> * Detectar archivos con problemas de georrefercia </font> \n",
    "## <font color = \"bisque\"> * Implementar procesos de renombre </font> \n",
    "\n",
    "---\n",
    "\n",
    "<b> <font color = \"orangered\"> MODO DE TRABAJO PROCESO DE RENOMBRE - v1 </font> </b>\n",
    "\n",
    "Voy a trabajar sobre argendata/data que esté hasta ahora, en un fork propio.\n",
    "\n",
    "<b> Sobre argendata/data lo que voy a hacer es tomar los .csv  originales y hacer lo siguiente (dependiendo el caso), generando .csv actualizados:</b>\n",
    "\n",
    "- a los csv que tengan solo código geo (tipo iso3) agregarle columna name_long correspondiente a cada código según el geonomeclador. Además de fijarme si los códigos que tienen son coherentes al geonomeclador. Los que no los sean, los cambio\n",
    "\n",
    "- a los csv que tienen un tipo de columna que refiere a georef (que no es geo_codigo) agrego columna correspondiente a lo que sea long_name del geonomeclador, y otra columna del geo_codigo \n",
    "\n",
    "- variaciones de lo anterior\n",
    "\n",
    "<b> <font color = \"orangered\"> Entonces la columna original con data geo_ref NO LA TOCO, sumo columnas: geo_codigo + long_name del geonomenclador </font> </b>\n",
    "\n",
    "<font color = \"lightseagreen\"> Los códigos/nombres que no estén considerados en el geonomeclador, si es que aparecen, los voy a documentar en un .csv del tipo: csv | topico | columna csv | problema | arreglo </font>\n",
    "\n",
    "- Por ejemplo, si encuentro que una columna que sería de georef, y todo su contenido está en el geonomenclador salvo una fila, guardarlo como .csv con problema\n",
    "- Por ejemplo si una columna es de georef que está en otro idioma y no tiene iso_3 (geo_codigo) \n",
    "\n",
    "\n",
    "<b> ¿Cómo considero si una columna es de georef en esta 1ra iteración? </b>\n",
    "- considerar el input country_keys: nombres de columnas que refieren a algo geo referencial ➡️ https://github.com/argendatafundar/geonomencladores-interno/blob/main/cosas/country_keys.txt \n",
    "- 80% del contenido esa columna es parte de alguna de las columnas del geoneomenclador\n",
    "- Por el momento solo código que esté en el geonomenclador en español\n",
    "\n",
    "Observaciones: \n",
    "- PARA ESTE LABURO ARMÉ MI PROPIO BLOQUE DE ENCODERs, DELIMITERs\n",
    "- Para esta versión de la tarea, en principio, solo consideraría contenido en español. \n",
    "\n",
    "<b> <font color = \"orangered\"> Productos: \n",
    "- .csv argendata con agregado de columnas para implementar renombres correspondientes\n",
    "- .csv con lo que mencioné antes con .csv de argendata que presentarían problemas </font> </b>\n",
    "\n",
    "Con lo implementado en mi fork de esta v1 y lo ya realizado, evaluamos próximos pasos a realizar.\n",
    "\n",
    "---"
   ]
  },
  {
   "cell_type": "markdown",
   "metadata": {},
   "source": [
    "#  <u> <font color = \"orangered\"> En cuanto a detectar archivos con probleas de georreferencia: </font> </u>"
   ]
  },
  {
   "cell_type": "markdown",
   "metadata": {},
   "source": [
    "<font color = \"gold\"> Cada .csv de Argendata tiene su propio encodings y delimiters </font>. \n",
    "\n",
    "No todos los .csv que contempla Argendata tienen el mismo enconding y delimiter. Por eso antes de comenzar a trabajar voy a armar el siguiente input para la tarea: dataframe que contenga 4 columnas que sean 'TOPICO', 'archivo_csv', 'encoding' y delimiter'."
   ]
  },
  {
   "cell_type": "code",
   "execution_count": 5,
   "metadata": {},
   "outputs": [
    {
     "name": "stdout",
     "output_type": "stream",
     "text": [
      "     TOPICO                                       archivo_csv encoding  \\\n",
      "0    SALING                      ISA_composicion-ipcf_it4.csv    ascii   \n",
      "1    SALING                            ISA_tipo_empleo_i1.csv    utf-8   \n",
      "2    SALING                        ISA_salarios_region_i2.csv    ascii   \n",
      "3    SALING                           ISA_salario_real_i1.csv    ascii   \n",
      "4    SALING                                  ISA_ipcf_it1.csv    ascii   \n",
      "..      ...                                               ...      ...   \n",
      "332  MERTRA                  tasa_actividad_por_pais_anio.csv    utf-8   \n",
      "333  MERTRA                     tasa_participacion_censos.csv    ascii   \n",
      "334  MERTRA     tiempo_social_trabajo_sexo_niveleducativo.csv    utf-8   \n",
      "335  MERTRA  tasa_empleo_por_franja_etaria_anio_provincia.csv    utf-8   \n",
      "336  MERTRA                      tipo_trabajo_no_rem_sexo.csv    utf-8   \n",
      "\n",
      "    delimiter  \n",
      "0           ,  \n",
      "1           ,  \n",
      "2           ,  \n",
      "3           ,  \n",
      "4           ,  \n",
      "..        ...  \n",
      "332         ,  \n",
      "333         ,  \n",
      "334         ,  \n",
      "335         ,  \n",
      "336         ,  \n",
      "\n",
      "[337 rows x 4 columns]\n"
     ]
    }
   ],
   "source": [
    "import os\n",
    "import glob\n",
    "import chardet\n",
    "import csv\n",
    "import pandas as pd\n",
    "\n",
    "# ruta de tabajo donde estan los topicos con sus csv \n",
    "base_dir = '/home/capuccino/Desktop/TrabajoFundar/Argendata_renaming/data/data_argendata' #'/home/lucia/Desktop/Fundar/Argendata_renaming/data/data_argendata'\n",
    "\n",
    "# lista para recolectar los datos\n",
    "data = []\n",
    "\n",
    "# tamanio del fragmento a leer (en este caso 100000 bytes)\n",
    "sample_size = 100000\n",
    "\n",
    "for topico in os.listdir(base_dir): # ejemplo SEBACO\n",
    "    topico_path = os.path.join(base_dir, topico) #ejemplo /home/lucia/Desktop/Fundar/Argendata_renaming/data/data_argendata/SEBACO\n",
    "\n",
    "    # ignorar archivos sueltos como LICENSE y README.md\n",
    "    if not os.path.isdir(topico_path):\n",
    "        continue\n",
    "\n",
    "    for archivo in os.listdir(topico_path):\n",
    "        if archivo.endswith('.csv'):\n",
    "            archivo_path = os.path.join(topico_path, archivo)\n",
    "\n",
    "            # leer un fragmento del .csv para análisis\n",
    "            with open(archivo_path, 'rb') as f:\n",
    "                raw_sample = f.read(sample_size)\n",
    "\n",
    "            # detectar encoding\n",
    "            encoding_detected = 'utf-8'  # por defecto\n",
    "            try:\n",
    "                encoding_info = chardet.detect(raw_sample)\n",
    "                if encoding_info and encoding_info['encoding']:\n",
    "                    encoding_detected = encoding_info['encoding']\n",
    "            except:\n",
    "                pass\n",
    "\n",
    "            # decodificar el fragmento\n",
    "            try:\n",
    "                sample = raw_sample.decode(encoding_detected, errors = 'replace')\n",
    "            except:\n",
    "                sample = raw_sample.decode('utf-8', errors = 'replace') \n",
    "\n",
    "            # detectar delimitador\n",
    "            delimiter_detected = ','\n",
    "            try:\n",
    "                sniffer = csv.Sniffer()\n",
    "                dialect = sniffer.sniff(sample)\n",
    "                delimiter_detected = dialect.delimiter\n",
    "            except:\n",
    "                pass\n",
    "\n",
    "            # agregar al resultado\n",
    "            data.append({\n",
    "                'TOPICO': topico,\n",
    "                'archivo_csv': archivo,\n",
    "                'encoding': encoding_detected,\n",
    "                'delimiter': delimiter_detected\n",
    "            })\n",
    "\n",
    "\n",
    "df_resultado = pd.DataFrame(data)\n",
    "df_codificacion = df_resultado\n",
    "\n",
    "print(df_codificacion)\n",
    "\n",
    "# guardar como csv el archivo csvTopicoArgendata_encoding_and_delimiters\n",
    "# path_df_encoding_delimiters = '/home/lucia/Desktop/Fundar/Argendata_renaming/data/'\n",
    "# df_resultado.to_csv(path_df_encoding_delimiters + 'csvTopicosArgendata_codificacion_y_delimitadores.csv', index = False)\n"
   ]
  },
  {
   "cell_type": "markdown",
   "metadata": {},
   "source": [
    "<font color = \"gold\">  Ahora que tengo 'csvTopicosArgendata_codificacion_y_delimitadores.csv, voy a enfocarme en aquellas columnas que tengan datos de georreferencia </font> \n",
    "\n",
    "---"
   ]
  },
  {
   "cell_type": "markdown",
   "metadata": {},
   "source": [
    "<font color = \"gold\"> De los .csv de todos los tópicos de Argendata/data voy a enfocarme en aquellos que tengan información de georreferencia. Para eso voy a usar dos inputs dados y algunas consideraciones: </font> \n",
    "- me pasaron un .txt con columnas que hasta el momento se sabe que son de georef -> georef_keys.txt\n",
    "- voy a usar el geonomeclador de argendata, la pestaña curada export (geonomeclador_export.csv)\n",
    "- de las columnas a investigar y buscar si corresponden a georeferencia, voy a quedarme con aquellas que: el 80% de su contenido aparezca en cada csv que busco\n",
    "\n",
    "Puede que pase (a investigar en los siguientes pasos):\n",
    "- aquellas columnas, de sus respectivos .csv y tópicos que no estén en español\n",
    "- aquellos nombres/códigos que deberían ser cierta \"nombre/codigo\" y no lo son\n",
    "\n",
    "---"
   ]
  },
  {
   "cell_type": "markdown",
   "metadata": {},
   "source": [
    "<font color = \"gold\"> Primero trabajo con el archivo 'georef_keys.txt': </font> "
   ]
  },
  {
   "cell_type": "code",
   "execution_count": 12,
   "metadata": {},
   "outputs": [
    {
     "name": "stdout",
     "output_type": "stream",
     "text": [
      "['country_name_abbreviation', 'pais', 'partner_name_short_en', 'region', 'iso3_desc', 'partner_region_name_short_es', 'region_code', 'partner_region_id', 'pais_o_region', 'pais_o_grupo_de_paises', 'iso3', 'codigo_pais', 'country_code', 'partner_code', 'iso3c', 'countryname', 'nombre_pais', 'region_name', 'iso3_desc_fundar', 'pais_nombre']\n"
     ]
    },
    {
     "data": {
      "application/vnd.microsoft.datawrangler.viewer.v0+json": {
       "columns": [
        {
         "name": "index",
         "rawType": "int64",
         "type": "integer"
        },
        {
         "name": "TOPICO",
         "rawType": "object",
         "type": "string"
        },
        {
         "name": "archivo_csv",
         "rawType": "object",
         "type": "string"
        },
        {
         "name": "columna_georeferrencia",
         "rawType": "object",
         "type": "string"
        }
       ],
       "conversionMethod": "pd.DataFrame",
       "ref": "f91d1876-a17f-457f-a984-ea29aac735e1",
       "rows": [
        [
         "0",
         "SALING",
         "ISA_regiones-ipcf_it1.csv",
         "region"
        ],
        [
         "1",
         "SALING",
         "salario_real_ppa2017_ceped.csv",
         "iso3"
        ],
        [
         "2",
         "SALING",
         "ISA_salarios_mundo_i1.csv",
         "pais"
        ],
        [
         "3",
         "SALING",
         "ISA_salarios_region_i1.csv",
         "region"
        ],
        [
         "4",
         "SALING",
         "ISA_regiones-ipcf_it2.csv",
         "region"
        ],
        [
         "5",
         "SALING",
         "ISA_tipo_empleo_i3.csv",
         "pais"
        ],
        [
         "6",
         "SALING",
         "ISA_ipcf-LAC_it2.csv",
         "country_code"
        ],
        [
         "7",
         "SALING",
         "ISA_ipcf-LAC_it1.csv",
         "country_code"
        ],
        [
         "8",
         "INFDES",
         "anios_educacion_genero_por_pais.csv",
         "iso3"
        ],
        [
         "9",
         "INFDES",
         "anios_educacion_genero_por_pais.csv",
         "pais"
        ],
        [
         "10",
         "INFDES",
         "satisfaccion_vida_desempleo_pais.csv",
         "iso3"
        ],
        [
         "11",
         "INFDES",
         "tasa_informalidad_legal_latam.csv",
         "iso3"
        ],
        [
         "12",
         "INFDES",
         "tasa_informalidad_legal_latam.csv",
         "pais"
        ],
        [
         "13",
         "INFDES",
         "tasa_informalidad_productive_legal_ultimo_anio_latam.csv",
         "iso3"
        ],
        [
         "14",
         "INFDES",
         "tasa_informalidad_productive_legal_ultimo_anio_latam.csv",
         "pais"
        ],
        [
         "15",
         "INFDES",
         "tasa_formalidad_productiva_pib_per_capita.csv",
         "iso3"
        ],
        [
         "16",
         "INFDES",
         "tasa_formalidad_productiva_pib_per_capita.csv",
         "pais"
        ],
        [
         "17",
         "INFDES",
         "tasa_desempleo_sexo_paises_modelada.csv",
         "iso3"
        ],
        [
         "18",
         "INFDES",
         "tasa_desempleo_arg_mundial_modelada.csv",
         "iso3"
        ],
        [
         "19",
         "INFDES",
         "composicion_empleo_ultimo_anio_latam.csv",
         "iso3"
        ],
        [
         "20",
         "INFDES",
         "composicion_empleo_ultimo_anio_latam.csv",
         "pais"
        ],
        [
         "21",
         "INFDES",
         "brecha_tasa_informalidad_genero_latam_2000_2021.csv",
         "iso3"
        ],
        [
         "22",
         "INFDES",
         "brecha_tasa_informalidad_genero_latam_2000_2021.csv",
         "pais"
        ],
        [
         "23",
         "PRECIO",
         "7_comparacion_inflacion_mediana_argentina_latam_1992_2022.csv",
         "pais_o_grupo_de_paises"
        ],
        [
         "24",
         "PRECIO",
         "4_tasa_de_inflacion_anual_paises_promedio_2007_2022.csv",
         "iso3"
        ],
        [
         "25",
         "PRECIO",
         "5_tasa_de_inflacion_anual_paises_2000_2022.csv",
         "iso3"
        ],
        [
         "26",
         "PRECIO",
         "2_composicion_ipc_por_regiones_argentinas.csv",
         "region"
        ],
        [
         "27",
         "ESTPRO",
         "va_sectorial_pais.csv",
         "iso3"
        ],
        [
         "28",
         "ESTPRO",
         "va_sectorial_pais.csv",
         "iso3_desc_fundar"
        ],
        [
         "29",
         "ESTPRO",
         "empleo_invdes_tim_ocde.csv",
         "iso3"
        ],
        [
         "30",
         "ESTPRO",
         "pib_por_ocupado.csv",
         "iso3"
        ],
        [
         "31",
         "ESTPRO",
         "pib_por_ocupado.csv",
         "pais_nombre"
        ],
        [
         "32",
         "ESTPRO",
         "particip_va_intensivos_id_bys.csv",
         "iso3"
        ],
        [
         "33",
         "ESTPRO",
         "particip_va_intensivos_id_bys.csv",
         "iso3_desc_fundar"
        ],
        [
         "34",
         "ESTPRO",
         "empn_tim_ocde.csv",
         "iso3"
        ],
        [
         "35",
         "ESTPRO",
         "productividad_internacional.csv",
         "iso3"
        ],
        [
         "36",
         "ESTPRO",
         "va_por_trabajador_pais.csv",
         "iso3"
        ],
        [
         "37",
         "ESTPRO",
         "va_por_trabajador_pais.csv",
         "iso3_desc_fundar"
        ],
        [
         "38",
         "ESTPRO",
         "densidad_nbi.csv",
         "region"
        ],
        [
         "39",
         "ESTPRO",
         "va_sectorial_pais_bys.csv",
         "iso3"
        ],
        [
         "40",
         "ESTPRO",
         "va_sectorial_pais_bys.csv",
         "iso3_desc_fundar"
        ],
        [
         "41",
         "ESTPRO",
         "empleo_sectores_ggdc_1950_2018.csv",
         "iso3"
        ],
        [
         "42",
         "ACECON",
         "A5_pibpc_propeeuu_ppa_usd.csv",
         "pais"
        ],
        [
         "43",
         "ACECON",
         "A5_pibpc_propeeuu_ppa_usd.csv",
         "iso3"
        ],
        [
         "44",
         "ACECON",
         "2_pibpc_salud_edu.csv",
         "pais"
        ],
        [
         "45",
         "ACECON",
         "2_pibpc_salud_edu.csv",
         "iso3"
        ],
        [
         "46",
         "ACECON",
         "5_pibpc_prop_arg.csv",
         "pais"
        ],
        [
         "47",
         "ACECON",
         "5_pibpc_prop_arg.csv",
         "iso3"
        ],
        [
         "48",
         "ACECON",
         "9_pibpc_ppa_log_1950.csv",
         "pais_o_region"
        ],
        [
         "49",
         "ACECON",
         "A1_inb_pib.csv",
         "pais"
        ]
       ],
       "shape": {
        "columns": 3,
        "rows": 206
       }
      },
      "text/html": [
       "<div>\n",
       "<style scoped>\n",
       "    .dataframe tbody tr th:only-of-type {\n",
       "        vertical-align: middle;\n",
       "    }\n",
       "\n",
       "    .dataframe tbody tr th {\n",
       "        vertical-align: top;\n",
       "    }\n",
       "\n",
       "    .dataframe thead th {\n",
       "        text-align: right;\n",
       "    }\n",
       "</style>\n",
       "<table border=\"1\" class=\"dataframe\">\n",
       "  <thead>\n",
       "    <tr style=\"text-align: right;\">\n",
       "      <th></th>\n",
       "      <th>TOPICO</th>\n",
       "      <th>archivo_csv</th>\n",
       "      <th>columna_georeferrencia</th>\n",
       "    </tr>\n",
       "  </thead>\n",
       "  <tbody>\n",
       "    <tr>\n",
       "      <th>0</th>\n",
       "      <td>SALING</td>\n",
       "      <td>ISA_regiones-ipcf_it1.csv</td>\n",
       "      <td>region</td>\n",
       "    </tr>\n",
       "    <tr>\n",
       "      <th>1</th>\n",
       "      <td>SALING</td>\n",
       "      <td>salario_real_ppa2017_ceped.csv</td>\n",
       "      <td>iso3</td>\n",
       "    </tr>\n",
       "    <tr>\n",
       "      <th>2</th>\n",
       "      <td>SALING</td>\n",
       "      <td>ISA_salarios_mundo_i1.csv</td>\n",
       "      <td>pais</td>\n",
       "    </tr>\n",
       "    <tr>\n",
       "      <th>3</th>\n",
       "      <td>SALING</td>\n",
       "      <td>ISA_salarios_region_i1.csv</td>\n",
       "      <td>region</td>\n",
       "    </tr>\n",
       "    <tr>\n",
       "      <th>4</th>\n",
       "      <td>SALING</td>\n",
       "      <td>ISA_regiones-ipcf_it2.csv</td>\n",
       "      <td>region</td>\n",
       "    </tr>\n",
       "    <tr>\n",
       "      <th>...</th>\n",
       "      <td>...</td>\n",
       "      <td>...</td>\n",
       "      <td>...</td>\n",
       "    </tr>\n",
       "    <tr>\n",
       "      <th>201</th>\n",
       "      <td>MERTRA</td>\n",
       "      <td>ratio_tasa_actividad_mujer_varon_por_pais_anio...</td>\n",
       "      <td>iso3</td>\n",
       "    </tr>\n",
       "    <tr>\n",
       "      <th>202</th>\n",
       "      <td>MERTRA</td>\n",
       "      <td>ratio_tasa_actividad_mujer_varon_por_pais_anio...</td>\n",
       "      <td>iso3_desc</td>\n",
       "    </tr>\n",
       "    <tr>\n",
       "      <th>203</th>\n",
       "      <td>MERTRA</td>\n",
       "      <td>puestos_percapita_anio_pais.csv</td>\n",
       "      <td>iso3</td>\n",
       "    </tr>\n",
       "    <tr>\n",
       "      <th>204</th>\n",
       "      <td>MERTRA</td>\n",
       "      <td>tasa_actividad_por_pais_anio.csv</td>\n",
       "      <td>iso3</td>\n",
       "    </tr>\n",
       "    <tr>\n",
       "      <th>205</th>\n",
       "      <td>MERTRA</td>\n",
       "      <td>tasa_actividad_por_pais_anio.csv</td>\n",
       "      <td>iso3_desc</td>\n",
       "    </tr>\n",
       "  </tbody>\n",
       "</table>\n",
       "<p>206 rows × 3 columns</p>\n",
       "</div>"
      ],
      "text/plain": [
       "     TOPICO                                        archivo_csv  \\\n",
       "0    SALING                          ISA_regiones-ipcf_it1.csv   \n",
       "1    SALING                     salario_real_ppa2017_ceped.csv   \n",
       "2    SALING                          ISA_salarios_mundo_i1.csv   \n",
       "3    SALING                         ISA_salarios_region_i1.csv   \n",
       "4    SALING                          ISA_regiones-ipcf_it2.csv   \n",
       "..      ...                                                ...   \n",
       "201  MERTRA  ratio_tasa_actividad_mujer_varon_por_pais_anio...   \n",
       "202  MERTRA  ratio_tasa_actividad_mujer_varon_por_pais_anio...   \n",
       "203  MERTRA                    puestos_percapita_anio_pais.csv   \n",
       "204  MERTRA                   tasa_actividad_por_pais_anio.csv   \n",
       "205  MERTRA                   tasa_actividad_por_pais_anio.csv   \n",
       "\n",
       "    columna_georeferrencia  \n",
       "0                   region  \n",
       "1                     iso3  \n",
       "2                     pais  \n",
       "3                   region  \n",
       "4                   region  \n",
       "..                     ...  \n",
       "201                   iso3  \n",
       "202              iso3_desc  \n",
       "203                   iso3  \n",
       "204                   iso3  \n",
       "205              iso3_desc  \n",
       "\n",
       "[206 rows x 3 columns]"
      ]
     },
     "execution_count": 12,
     "metadata": {},
     "output_type": "execute_result"
    }
   ],
   "source": [
    "# primero trabajemos con el archivo 'georef_keys.txt':\n",
    "\n",
    "ruta_txt = '/home/capuccino/Desktop/TrabajoFundar/Argendata_renaming/data/input/georef_keys.txt' #'/home/lucia/Desktop/Fundar/Argendata_renaming/data/input/georef_keys.txt' # \n",
    "\n",
    "# genero la lista con columnas que son de interés según 'georef_keys.txt'\n",
    "input_TituloColumnas_geoRef = []\n",
    "\n",
    "# abro el .txt y leo línea por línea\n",
    "with open(ruta_txt, 'r', encoding = 'utf-8') as archivo:\n",
    "    for linea in archivo:\n",
    "        linea_limpia = linea.strip()  # acá saco espacios y saltos de línea, clave\n",
    "        if linea_limpia != '':\n",
    "            input_TituloColumnas_geoRef.append(linea_limpia)\n",
    "\n",
    "print(input_TituloColumnas_geoRef)\n",
    "\n",
    "# ahora voy a buscar en cuáles .csv de argendata aparecen los nombres que figuran en input_TituloColumnas_geoRef (georef_keys.txt)\n",
    "\n",
    "coincidencias = []\n",
    "\n",
    "# recorro y abro los csv segun la info de df_codificacion\n",
    "for i in range(len(df_codificacion)):\n",
    "    topico = df_codificacion.loc[i, 'TOPICO']\n",
    "    archivo_csv = df_codificacion.loc[i, 'archivo_csv']\n",
    "    encoding = df_codificacion.loc[i, 'encoding']\n",
    "    delimiter = df_codificacion.loc[i, 'delimiter']\n",
    "\n",
    "    ruta_csv = os.path.join(base_dir, topico, archivo_csv)\n",
    "\n",
    "    try:\n",
    "        df = pd.read_csv(ruta_csv, encoding = encoding, delimiter = delimiter)\n",
    "    except Exception as e:\n",
    "        print(f'Error leyendo {ruta_csv}: {e}')\n",
    "        continue\n",
    "\n",
    "    # verifico si alguna columna coincide con algun elemento de input_TituloColumnas_geoRef (georef_keys.txt)\n",
    "    for columna in df.columns:\n",
    "        if columna in input_TituloColumnas_geoRef:\n",
    "            coincidencias.append({\n",
    "                'TOPICO': topico,\n",
    "                'archivo_csv': archivo_csv,\n",
    "                'columna_georeferrencia': columna\n",
    "            })\n",
    "\n",
    "# crear df con las coincidencias encontradas\n",
    "df_coincidencias_geoRefKeys = pd.DataFrame(coincidencias)\n",
    "\n",
    "df_coincidencias_geoRefKeys\n",
    "\n",
    "# por si necesitamos guardar en .csv es: TOPICO |archivo_csv | columna_georeferrencia\n",
    "# df_coincidencias.to_csv('coincidencias_georef.csv', index=False)\n"
   ]
  },
  {
   "cell_type": "markdown",
   "metadata": {},
   "source": [
    "<font color = \"lightgreen\"> El total de los csv en argendata con los que se arranca esta implementación tiene 337 .csv, de ese total 206 .csv (como mucho) tienen columnas georeferencia. La aclaración <i>como mucho</i> viene porque un mismo csv podría tener más de una columna asociada a información georreferencia. </font> \n",
    "\n",
    "----"
   ]
  },
  {
   "cell_type": "markdown",
   "metadata": {},
   "source": [
    "### <font color = \"gold\"> Ahora trabajo con el geonomenglador dado, de la siguiente manera: </font> \n",
    "\n",
    "1. Para cada .csv Argendata (ubicado en la carpeta correspondiente de acuerdo al TOPICO), se abre  (con sus encoding y delimiter específicos) y se recorre cada una de sus columnas.\n",
    "\n",
    "2. Para cada columna del .cvs Argendata, compara, por cada columna del geonomenclador, si al menos el 80% de los valores (después de eliminar los nulos) están contenidos en el conjunto de valores de la columna del geonomenclador.\n",
    "\n",
    "3. Si se cumple la condición para alguna columna del geonomenclador, se registra una fila en el df_output con las columnas:\n",
    "\n",
    "    • TOPICO\n",
    "\n",
    "    • archivo_csv argendata\n",
    "    \n",
    "    • columnaGeorreferencia_80percGeoNom (el nombre de la columna del .csv argendata que cumple la condición)"
   ]
  },
  {
   "cell_type": "code",
   "execution_count": 13,
   "metadata": {},
   "outputs": [
    {
     "data": {
      "application/vnd.microsoft.datawrangler.viewer.v0+json": {
       "columns": [
        {
         "name": "index",
         "rawType": "int64",
         "type": "integer"
        },
        {
         "name": "geocodigo",
         "rawType": "object",
         "type": "string"
        },
        {
         "name": "name_long",
         "rawType": "object",
         "type": "string"
        },
        {
         "name": "name_short",
         "rawType": "object",
         "type": "string"
        },
        {
         "name": "iso_2",
         "rawType": "object",
         "type": "unknown"
        }
       ],
       "conversionMethod": "pd.DataFrame",
       "ref": "20dc0d3d-9292-4fcd-88e2-4d14f526b3c8",
       "rows": [
        [
         "0",
         "ABW",
         "Aruba",
         "Aruba",
         "AW"
        ],
        [
         "1",
         "AFE",
         "África Oriental y Meridional",
         "África Oriental y Meridional",
         null
        ],
        [
         "2",
         "AFG",
         "Afganistán",
         "Afganistán",
         "AF"
        ],
        [
         "3",
         "AFW",
         "África Occidental y Central",
         "África Occidental y Central",
         null
        ],
        [
         "4",
         "AGO",
         "Angola",
         "Angola",
         "AO"
        ],
        [
         "5",
         "AIA",
         "Anguila",
         "Anguila",
         "AI"
        ],
        [
         "6",
         "ALA",
         "Islas Åland",
         "Islas Åland",
         "AX"
        ],
        [
         "7",
         "ALB",
         "Albania",
         "Albania",
         "AL"
        ],
        [
         "8",
         "AND",
         "Andorra",
         "Andorra",
         "AD"
        ],
        [
         "9",
         "ANT",
         "Antillas Holandesas",
         "Antillas Holandesas",
         null
        ],
        [
         "10",
         "ARB",
         "Mundo árabe",
         "Mundo árabe",
         null
        ],
        [
         "11",
         "ARE",
         "Emiratos Árabes Unidos",
         "Emiratos Árabes Unidos",
         "AE"
        ],
        [
         "12",
         "ARG",
         "Argentina",
         "Argentina",
         "AR"
        ],
        [
         "13",
         "ARM",
         "Armenia",
         "Armenia",
         "AM"
        ],
        [
         "14",
         "ASM",
         "Samoa Americana",
         "Samoa Americana",
         "AS"
        ],
        [
         "15",
         "ATA",
         "Antártida",
         "Antártida",
         "AQ"
        ],
        [
         "16",
         "ATF",
         "Tierras Australes Francesas",
         "Tierras Australes Francesas",
         "TF"
        ],
        [
         "17",
         "ATG",
         "Antigua y Barbuda",
         "Antigua y Barbuda",
         "AG"
        ],
        [
         "18",
         "AUS",
         "Australia",
         "Australia",
         "AU"
        ],
        [
         "19",
         "AUT",
         "Austria",
         "Austria",
         "AT"
        ],
        [
         "20",
         "AZE",
         "Azerbaiyán",
         "Azerbaiyán",
         "AZ"
        ],
        [
         "21",
         "BAT",
         "Antártida Británica",
         "Antártida Británica",
         null
        ],
        [
         "22",
         "BDI",
         "Burundi",
         "Burundi",
         "BI"
        ],
        [
         "23",
         "BEL",
         "Bélgica",
         "Bélgica",
         "BE"
        ],
        [
         "24",
         "BEN",
         "Benin",
         "Benin",
         "BJ"
        ],
        [
         "25",
         "BES",
         "Bonaire",
         "Bonaire",
         "BQ"
        ],
        [
         "26",
         "BFA",
         "Burkina Faso",
         "Burkina Faso",
         "BF"
        ],
        [
         "27",
         "BGD",
         "Bangladesh",
         "Bangladesh",
         "BD"
        ],
        [
         "28",
         "BGR",
         "Bulgaria",
         "Bulgaria",
         "BG"
        ],
        [
         "29",
         "BHR",
         "Bahrein",
         "Bahrein",
         "BH"
        ],
        [
         "30",
         "BHS",
         "Bahamas",
         "Bahamas",
         "BS"
        ],
        [
         "31",
         "BIH",
         "Bosnia y Herzegovina",
         "Bosnia y Herzegovina",
         "BA"
        ],
        [
         "32",
         "BLM",
         "San Barthélemy",
         "San Barthélemy",
         "BL"
        ],
        [
         "33",
         "BLR",
         "Belarús",
         "Belarús",
         "BY"
        ],
        [
         "34",
         "BLX",
         "Bélgica-Luxemburgo",
         "Bélgica-Luxemburgo",
         null
        ],
        [
         "35",
         "BLZ",
         "Belice",
         "Belice",
         "BZ"
        ],
        [
         "36",
         "BMU",
         "Bermuda",
         "Bermuda",
         "BM"
        ],
        [
         "37",
         "BOL",
         "Bolivia",
         "Bolivia",
         "BO"
        ],
        [
         "38",
         "BRA",
         "Brasil",
         "Brasil",
         "BR"
        ],
        [
         "39",
         "BRB",
         "Barbados",
         "Barbados",
         "BB"
        ],
        [
         "40",
         "BRN",
         "Brunei",
         "Brunei",
         "BN"
        ],
        [
         "41",
         "BTN",
         "Bhután",
         "Bhután",
         "BT"
        ],
        [
         "42",
         "BVT",
         "Bouvet",
         "Bouvet",
         "BV"
        ],
        [
         "43",
         "BWA",
         "Botswana",
         "Botswana",
         "BW"
        ],
        [
         "44",
         "CAF",
         "Rep. Centroafricana",
         "Rep. Centroafricana",
         "CF"
        ],
        [
         "45",
         "CAN",
         "Canadá",
         "Canadá",
         "CA"
        ],
        [
         "46",
         "CCK",
         "Islas Cocos",
         "Islas Cocos",
         "CC"
        ],
        [
         "47",
         "CEB",
         "Europa Central y Bálticos",
         "Europa Central y Bálticos",
         null
        ],
        [
         "48",
         "CEM",
         "Comunidad Económica y Monetaria de Africa Central (CEMAC)",
         "Comunidad Económica y Monetaria de Africa Central (CEMAC)",
         null
        ],
        [
         "49",
         "CHE",
         "Suiza",
         "Suiza",
         "CH"
        ]
       ],
       "shape": {
        "columns": 4,
        "rows": 1024
       }
      },
      "text/html": [
       "<div>\n",
       "<style scoped>\n",
       "    .dataframe tbody tr th:only-of-type {\n",
       "        vertical-align: middle;\n",
       "    }\n",
       "\n",
       "    .dataframe tbody tr th {\n",
       "        vertical-align: top;\n",
       "    }\n",
       "\n",
       "    .dataframe thead th {\n",
       "        text-align: right;\n",
       "    }\n",
       "</style>\n",
       "<table border=\"1\" class=\"dataframe\">\n",
       "  <thead>\n",
       "    <tr style=\"text-align: right;\">\n",
       "      <th></th>\n",
       "      <th>geocodigo</th>\n",
       "      <th>name_long</th>\n",
       "      <th>name_short</th>\n",
       "      <th>iso_2</th>\n",
       "    </tr>\n",
       "  </thead>\n",
       "  <tbody>\n",
       "    <tr>\n",
       "      <th>0</th>\n",
       "      <td>ABW</td>\n",
       "      <td>Aruba</td>\n",
       "      <td>Aruba</td>\n",
       "      <td>AW</td>\n",
       "    </tr>\n",
       "    <tr>\n",
       "      <th>1</th>\n",
       "      <td>AFE</td>\n",
       "      <td>África Oriental y Meridional</td>\n",
       "      <td>África Oriental y Meridional</td>\n",
       "      <td>NaN</td>\n",
       "    </tr>\n",
       "    <tr>\n",
       "      <th>2</th>\n",
       "      <td>AFG</td>\n",
       "      <td>Afganistán</td>\n",
       "      <td>Afganistán</td>\n",
       "      <td>AF</td>\n",
       "    </tr>\n",
       "    <tr>\n",
       "      <th>3</th>\n",
       "      <td>AFW</td>\n",
       "      <td>África Occidental y Central</td>\n",
       "      <td>África Occidental y Central</td>\n",
       "      <td>NaN</td>\n",
       "    </tr>\n",
       "    <tr>\n",
       "      <th>4</th>\n",
       "      <td>AGO</td>\n",
       "      <td>Angola</td>\n",
       "      <td>Angola</td>\n",
       "      <td>AO</td>\n",
       "    </tr>\n",
       "    <tr>\n",
       "      <th>...</th>\n",
       "      <td>...</td>\n",
       "      <td>...</td>\n",
       "      <td>...</td>\n",
       "      <td>...</td>\n",
       "    </tr>\n",
       "    <tr>\n",
       "      <th>1019</th>\n",
       "      <td>DESHUM_AHDI.WOF</td>\n",
       "      <td>Ramificaciones de Occidente</td>\n",
       "      <td>Ramificaciones de Occidente</td>\n",
       "      <td>NaN</td>\n",
       "    </tr>\n",
       "    <tr>\n",
       "      <th>1020</th>\n",
       "      <td>NIR</td>\n",
       "      <td>Irlanda del Norte</td>\n",
       "      <td>Irlanda del Norte</td>\n",
       "      <td>NaN</td>\n",
       "    </tr>\n",
       "    <tr>\n",
       "      <th>1021</th>\n",
       "      <td>CAMCLI_IA</td>\n",
       "      <td>Aviación internacional</td>\n",
       "      <td>Aviación internacional</td>\n",
       "      <td>NaN</td>\n",
       "    </tr>\n",
       "    <tr>\n",
       "      <th>1022</th>\n",
       "      <td>F_ESTPRO</td>\n",
       "      <td>África</td>\n",
       "      <td>África</td>\n",
       "      <td>NaN</td>\n",
       "    </tr>\n",
       "    <tr>\n",
       "      <th>1023</th>\n",
       "      <td>NAFTA_ESTPRO</td>\n",
       "      <td>Países miembros del NAFTA</td>\n",
       "      <td>Países miembros del NAFTA</td>\n",
       "      <td>NaN</td>\n",
       "    </tr>\n",
       "  </tbody>\n",
       "</table>\n",
       "<p>1024 rows × 4 columns</p>\n",
       "</div>"
      ],
      "text/plain": [
       "            geocodigo                     name_long  \\\n",
       "0                 ABW                         Aruba   \n",
       "1                 AFE  África Oriental y Meridional   \n",
       "2                 AFG                    Afganistán   \n",
       "3                 AFW   África Occidental y Central   \n",
       "4                 AGO                        Angola   \n",
       "...               ...                           ...   \n",
       "1019  DESHUM_AHDI.WOF   Ramificaciones de Occidente   \n",
       "1020              NIR             Irlanda del Norte   \n",
       "1021        CAMCLI_IA        Aviación internacional   \n",
       "1022         F_ESTPRO                        África   \n",
       "1023     NAFTA_ESTPRO     Países miembros del NAFTA   \n",
       "\n",
       "                        name_short iso_2  \n",
       "0                            Aruba    AW  \n",
       "1     África Oriental y Meridional   NaN  \n",
       "2                       Afganistán    AF  \n",
       "3      África Occidental y Central   NaN  \n",
       "4                           Angola    AO  \n",
       "...                            ...   ...  \n",
       "1019   Ramificaciones de Occidente   NaN  \n",
       "1020             Irlanda del Norte   NaN  \n",
       "1021        Aviación internacional   NaN  \n",
       "1022                        África   NaN  \n",
       "1023     Países miembros del NAFTA   NaN  \n",
       "\n",
       "[1024 rows x 4 columns]"
      ]
     },
     "execution_count": 13,
     "metadata": {},
     "output_type": "execute_result"
    }
   ],
   "source": [
    "# path y carga del geonomenclador de interés\n",
    "geonomenclador_path = '/home/capuccino/Desktop/TrabajoFundar/Argendata_renaming/data/input/geonomenclador_export.csv'#'/home/lucia/Desktop/Fundar/Argendata_renaming/data/input/geonomenclador_export.csv'  # \n",
    "df_geonomenclador = pd.read_csv(geonomenclador_path)\n",
    "\n",
    "df_geonomenclador"
   ]
  },
  {
   "cell_type": "markdown",
   "metadata": {},
   "source": [
    "#### <font color = \"tomato\"> Extraigo la columna, elimino nulos, normalizo: ESPACIÓN, MAYUSCULAS, TILDES </font> \n",
    "#### <font color = \"tomato\"> para que casos como los siguientes no rompan el 80%:</font> \n",
    "#### <font color = \"tomato\"> esto para que \"NEA \" y \"NEA\" o \"pampeana\" y \"Pampeana\" se reconozcan como idénticos</font> \n",
    "#### <font color = \"tomato\"> \"AFGANISÁN\" y \"AFGANISTAN\" (sin tilde) coincidirán</font> "
   ]
  },
  {
   "cell_type": "code",
   "execution_count": 14,
   "metadata": {},
   "outputs": [
    {
     "data": {
      "application/vnd.microsoft.datawrangler.viewer.v0+json": {
       "columns": [
        {
         "name": "index",
         "rawType": "int64",
         "type": "integer"
        },
        {
         "name": "TOPICO",
         "rawType": "object",
         "type": "string"
        },
        {
         "name": "archivo_csv",
         "rawType": "object",
         "type": "string"
        },
        {
         "name": "columnaGeorreferencia_80percGeoNom",
         "rawType": "object",
         "type": "string"
        }
       ],
       "conversionMethod": "pd.DataFrame",
       "ref": "683be5fd-1a32-402b-903b-8d278eaafbc6",
       "rows": [
        [
         "0",
         "SALING",
         "ISA_salarios_region_i2.csv",
         "variable"
        ],
        [
         "1",
         "SALING",
         "ISA_regiones-ipcf_it1.csv",
         "region"
        ],
        [
         "2",
         "SALING",
         "salario_real_ppa2017_ceped.csv",
         "iso3"
        ],
        [
         "3",
         "SALING",
         "ISA_salarios_mundo_i1.csv",
         "pais"
        ],
        [
         "4",
         "SALING",
         "ISA_salarios_region_i1.csv",
         "region"
        ],
        [
         "5",
         "SALING",
         "ISA_regiones-ipcf_it2.csv",
         "region"
        ],
        [
         "6",
         "SALING",
         "ISA_tipo_empleo_i3.csv",
         "pais"
        ],
        [
         "7",
         "SALING",
         "ISA_ipcf-LAC_it2.csv",
         "country_code"
        ],
        [
         "8",
         "SALING",
         "ISA_ipcf-LAC_it1.csv",
         "country_code"
        ],
        [
         "9",
         "INFDES",
         "anios_educacion_genero_por_pais.csv",
         "iso3"
        ],
        [
         "10",
         "INFDES",
         "anios_educacion_genero_por_pais.csv",
         "pais"
        ],
        [
         "11",
         "INFDES",
         "tasa_informalidad_provincia_definicion_productiva_legal.csv",
         "prov_desc"
        ],
        [
         "12",
         "INFDES",
         "satisfaccion_vida_desempleo_pais.csv",
         "iso3"
        ],
        [
         "13",
         "INFDES",
         "satisfaccion_vida_desempleo_pais.csv",
         "pais_desc"
        ],
        [
         "14",
         "INFDES",
         "tasa_informalidad_legal_latam.csv",
         "iso3"
        ],
        [
         "15",
         "INFDES",
         "tasa_informalidad_legal_latam.csv",
         "pais"
        ],
        [
         "16",
         "INFDES",
         "tasa_informalidad_productive_legal_ultimo_anio_latam.csv",
         "iso3"
        ],
        [
         "17",
         "INFDES",
         "tasa_informalidad_productive_legal_ultimo_anio_latam.csv",
         "pais"
        ],
        [
         "18",
         "INFDES",
         "tasa_formalidad_productiva_pib_per_capita.csv",
         "iso3"
        ],
        [
         "19",
         "INFDES",
         "tasa_formalidad_productiva_pib_per_capita.csv",
         "pais"
        ],
        [
         "20",
         "INFDES",
         "tasa_desempleo_sexo_paises_modelada.csv",
         "iso3"
        ],
        [
         "21",
         "INFDES",
         "tasa_desempleo_sexo_paises_modelada.csv",
         "pais_desc"
        ],
        [
         "22",
         "INFDES",
         "tasa_desempleo_arg_mundial_modelada.csv",
         "iso3"
        ],
        [
         "23",
         "INFDES",
         "tasa_desempleo_arg_mundial_modelada.csv",
         "pais_desc"
        ],
        [
         "24",
         "INFDES",
         "composicion_empleo_ultimo_anio_latam.csv",
         "iso3"
        ],
        [
         "25",
         "INFDES",
         "composicion_empleo_ultimo_anio_latam.csv",
         "pais"
        ],
        [
         "26",
         "INFDES",
         "brecha_tasa_informalidad_genero_latam_2000_2021.csv",
         "iso3"
        ],
        [
         "27",
         "INFDES",
         "brecha_tasa_informalidad_genero_latam_2000_2021.csv",
         "pais"
        ],
        [
         "28",
         "PRECIO",
         "4_tasa_de_inflacion_anual_paises_promedio_2007_2022.csv",
         "iso3"
        ],
        [
         "29",
         "PRECIO",
         "5_tasa_de_inflacion_anual_paises_2000_2022.csv",
         "iso3"
        ],
        [
         "30",
         "PRECIO",
         "2_composicion_ipc_por_regiones_argentinas.csv",
         "region"
        ],
        [
         "31",
         "ESTPRO",
         "densidad_empresarial_depto.csv",
         "provincia"
        ],
        [
         "32",
         "ESTPRO",
         "va_sectorial_pais.csv",
         "iso3"
        ],
        [
         "33",
         "ESTPRO",
         "va_sectorial_pais.csv",
         "iso3_desc_fundar"
        ],
        [
         "34",
         "ESTPRO",
         "empleo_invdes_tim_ocde.csv",
         "iso3"
        ],
        [
         "35",
         "ESTPRO",
         "pib_por_ocupado.csv",
         "iso3"
        ],
        [
         "36",
         "ESTPRO",
         "pib_por_ocupado.csv",
         "pais_nombre"
        ],
        [
         "37",
         "ESTPRO",
         "particip_va_intensivos_id_bys.csv",
         "iso3"
        ],
        [
         "38",
         "ESTPRO",
         "particip_va_intensivos_id_bys.csv",
         "iso3_desc_fundar"
        ],
        [
         "39",
         "ESTPRO",
         "empn_tim_ocde.csv",
         "iso3"
        ],
        [
         "40",
         "ESTPRO",
         "productividad_internacional.csv",
         "iso3"
        ],
        [
         "41",
         "ESTPRO",
         "va_por_trabajador_pais.csv",
         "iso3"
        ],
        [
         "42",
         "ESTPRO",
         "va_por_trabajador_pais.csv",
         "iso3_desc_fundar"
        ],
        [
         "43",
         "ESTPRO",
         "densidad_nbi.csv",
         "provincia"
        ],
        [
         "44",
         "ESTPRO",
         "densidad_nbi.csv",
         "region"
        ],
        [
         "45",
         "ESTPRO",
         "va_sectorial_pais_bys.csv",
         "iso3"
        ],
        [
         "46",
         "ESTPRO",
         "va_sectorial_pais_bys.csv",
         "iso3_desc_fundar"
        ],
        [
         "47",
         "ESTPRO",
         "vab_sectorial_provincia.csv",
         "provincia"
        ],
        [
         "48",
         "ESTPRO",
         "empleo_sectores_ggdc_1950_2018.csv",
         "iso3"
        ],
        [
         "49",
         "ACECON",
         "A5_pibpc_propeeuu_ppa_usd.csv",
         "pais"
        ]
       ],
       "shape": {
        "columns": 3,
        "rows": 220
       }
      },
      "text/html": [
       "<div>\n",
       "<style scoped>\n",
       "    .dataframe tbody tr th:only-of-type {\n",
       "        vertical-align: middle;\n",
       "    }\n",
       "\n",
       "    .dataframe tbody tr th {\n",
       "        vertical-align: top;\n",
       "    }\n",
       "\n",
       "    .dataframe thead th {\n",
       "        text-align: right;\n",
       "    }\n",
       "</style>\n",
       "<table border=\"1\" class=\"dataframe\">\n",
       "  <thead>\n",
       "    <tr style=\"text-align: right;\">\n",
       "      <th></th>\n",
       "      <th>TOPICO</th>\n",
       "      <th>archivo_csv</th>\n",
       "      <th>columnaGeorreferencia_80percGeoNom</th>\n",
       "    </tr>\n",
       "  </thead>\n",
       "  <tbody>\n",
       "    <tr>\n",
       "      <th>0</th>\n",
       "      <td>SALING</td>\n",
       "      <td>ISA_salarios_region_i2.csv</td>\n",
       "      <td>variable</td>\n",
       "    </tr>\n",
       "    <tr>\n",
       "      <th>1</th>\n",
       "      <td>SALING</td>\n",
       "      <td>ISA_regiones-ipcf_it1.csv</td>\n",
       "      <td>region</td>\n",
       "    </tr>\n",
       "    <tr>\n",
       "      <th>2</th>\n",
       "      <td>SALING</td>\n",
       "      <td>salario_real_ppa2017_ceped.csv</td>\n",
       "      <td>iso3</td>\n",
       "    </tr>\n",
       "    <tr>\n",
       "      <th>3</th>\n",
       "      <td>SALING</td>\n",
       "      <td>ISA_salarios_mundo_i1.csv</td>\n",
       "      <td>pais</td>\n",
       "    </tr>\n",
       "    <tr>\n",
       "      <th>4</th>\n",
       "      <td>SALING</td>\n",
       "      <td>ISA_salarios_region_i1.csv</td>\n",
       "      <td>region</td>\n",
       "    </tr>\n",
       "    <tr>\n",
       "      <th>...</th>\n",
       "      <td>...</td>\n",
       "      <td>...</td>\n",
       "      <td>...</td>\n",
       "    </tr>\n",
       "    <tr>\n",
       "      <th>215</th>\n",
       "      <td>MERTRA</td>\n",
       "      <td>puestos_percapita_anio_pais.csv</td>\n",
       "      <td>iso3</td>\n",
       "    </tr>\n",
       "    <tr>\n",
       "      <th>216</th>\n",
       "      <td>MERTRA</td>\n",
       "      <td>tasa_empleo_provincia_nivel_educativo.csv</td>\n",
       "      <td>provincia</td>\n",
       "    </tr>\n",
       "    <tr>\n",
       "      <th>217</th>\n",
       "      <td>MERTRA</td>\n",
       "      <td>tasa_actividad_por_pais_anio.csv</td>\n",
       "      <td>iso3</td>\n",
       "    </tr>\n",
       "    <tr>\n",
       "      <th>218</th>\n",
       "      <td>MERTRA</td>\n",
       "      <td>tasa_actividad_por_pais_anio.csv</td>\n",
       "      <td>iso3_desc</td>\n",
       "    </tr>\n",
       "    <tr>\n",
       "      <th>219</th>\n",
       "      <td>MERTRA</td>\n",
       "      <td>tasa_empleo_por_franja_etaria_anio_provincia.csv</td>\n",
       "      <td>prov_desc</td>\n",
       "    </tr>\n",
       "  </tbody>\n",
       "</table>\n",
       "<p>220 rows × 3 columns</p>\n",
       "</div>"
      ],
      "text/plain": [
       "     TOPICO                                       archivo_csv  \\\n",
       "0    SALING                        ISA_salarios_region_i2.csv   \n",
       "1    SALING                         ISA_regiones-ipcf_it1.csv   \n",
       "2    SALING                    salario_real_ppa2017_ceped.csv   \n",
       "3    SALING                         ISA_salarios_mundo_i1.csv   \n",
       "4    SALING                        ISA_salarios_region_i1.csv   \n",
       "..      ...                                               ...   \n",
       "215  MERTRA                   puestos_percapita_anio_pais.csv   \n",
       "216  MERTRA         tasa_empleo_provincia_nivel_educativo.csv   \n",
       "217  MERTRA                  tasa_actividad_por_pais_anio.csv   \n",
       "218  MERTRA                  tasa_actividad_por_pais_anio.csv   \n",
       "219  MERTRA  tasa_empleo_por_franja_etaria_anio_provincia.csv   \n",
       "\n",
       "    columnaGeorreferencia_80percGeoNom  \n",
       "0                             variable  \n",
       "1                               region  \n",
       "2                                 iso3  \n",
       "3                                 pais  \n",
       "4                               region  \n",
       "..                                 ...  \n",
       "215                               iso3  \n",
       "216                          provincia  \n",
       "217                               iso3  \n",
       "218                          iso3_desc  \n",
       "219                          prov_desc  \n",
       "\n",
       "[220 rows x 3 columns]"
      ]
     },
     "execution_count": 14,
     "metadata": {},
     "output_type": "execute_result"
    }
   ],
   "source": [
    "import unicodedata\n",
    "\n",
    "# ruta de tabajo donde estan los topicos con sus csv \n",
    "base_dir = '/home/capuccino/Desktop/TrabajoFundar/Argendata_renaming/data/data_argendata' #'/home/lucia/Desktop/Fundar/Argendata_renaming/data/data_argendata' # \n",
    "\n",
    "# función para eliminar tildes\n",
    "def sin_tildes(s):\n",
    "    nkfd_form = unicodedata.normalize('NFKD', s)\n",
    "    return \"\".join([c for c in nkfd_form if not unicodedata.combining(c)])\n",
    "\n",
    "# lista para guardar los resultados\n",
    "output_data = []\n",
    "\n",
    "# ESTO ES POR CADA .csv DE LOS TOPICOS\n",
    "for i in range(len(df_codificacion)):\n",
    "    topico     = df_codificacion.loc[i, 'TOPICO']\n",
    "    archivo_csv = df_codificacion.loc[i, 'archivo_csv']\n",
    "    encoding   = df_codificacion.loc[i, 'encoding']\n",
    "    delimiter  = df_codificacion.loc[i, 'delimiter']\n",
    "    \n",
    "    # ruta completa de cada archivo .csv\n",
    "    path_csv = os.path.join(base_dir, topico, archivo_csv)\n",
    "    \n",
    "    # leer cada csv utilizando el encoding y delimiter especificados\n",
    "    try:\n",
    "        df_csv_argendata = pd.read_csv(path_csv, encoding=encoding, delimiter=delimiter)\n",
    "    except Exception as e:\n",
    "        print('Error leyendo el archivo:', path_csv, 'Error:', e)\n",
    "        continue  # si falla un csv, me dice cuál y sigue con el siguiente\n",
    "    \n",
    "    # recorrer cada columna del csv leído, esto es por csv\n",
    "    for col_csv in df_csv_argendata.columns:\n",
    "        # extraigo la columna, elimino nulos, normalizo y quito tildes\n",
    "        # para que casos como los siguientes no rompan el 80%:\n",
    "        # esto para que \"NEA \" y \"NEA\" o \"pampeana\" y \"Pampeana\" se reconozcan como idénticos\n",
    "        # \"AFGANISTAN\" y \"AFGANISTAN\" (sin tilde) coincidirán\n",
    "        serie = (\n",
    "            df_csv_argendata[col_csv]\n",
    "            .dropna()\n",
    "            .astype(str)\n",
    "            .str.strip()\n",
    "            .str.upper()\n",
    "            .apply(sin_tildes)\n",
    "        )\n",
    "        total_count = len(serie)\n",
    "        \n",
    "        # si la columna está vacía, la salto\n",
    "        if total_count == 0:\n",
    "            continue\n",
    "\n",
    "        # recorro cada columna del geonomenclador\n",
    "        for col_geo in df_geonomenclador.columns:\n",
    "            # preparo el set de comparación: sin nulos, string, strip, upper, sin tildes\n",
    "            geo_set = set(\n",
    "                df_geonomenclador[col_geo]\n",
    "                .dropna()\n",
    "                .astype(str)\n",
    "                .str.strip()\n",
    "                .str.upper()\n",
    "                .apply(sin_tildes)\n",
    "            )\n",
    "            \n",
    "            # cuento cuántos valores de serie están en geo_set\n",
    "            match_count = sum(1 for v in serie if v in geo_set)\n",
    "            \n",
    "            # calculo el porcentaje de coincidencia\n",
    "            porcentaje = match_count / total_count\n",
    "            \n",
    "            # si hay al menos 80%, registro col_csv y paso a la siguiente columna del CSV\n",
    "            if porcentaje >= 0.8:\n",
    "                output_data.append({\n",
    "                    'TOPICO': topico,\n",
    "                    'archivo_csv': archivo_csv,\n",
    "                    'columnaGeorreferencia_80percGeoNom': col_csv\n",
    "                })\n",
    "                # rompo este bucle de geonomenclador para no repetir la misma col_csv\n",
    "                break  \n",
    "\n",
    "# df final con todas las columnas de cada CSV que cumplen ≥80% de coincidencia\n",
    "df_col_80percGeoNom = pd.DataFrame(output_data)\n",
    "\n",
    "df_col_80percGeoNom\n",
    "\n",
    "# guardar el resultado en un archivo csv\n",
    "# df_col_80percGeoNom.to_csv('columnscsv_80percGeoNom.csv', index=False)\n"
   ]
  },
  {
   "cell_type": "markdown",
   "metadata": {},
   "source": [
    "---"
   ]
  },
  {
   "cell_type": "markdown",
   "metadata": {},
   "source": [
    "### <font color = \"gold\"> ¿Qué le faltaría al geonomenclador_Argendata (en principio) que sí tiene georef_keys.txt? y viceversa </font> \n",
    "\n",
    "Ahora que tengo df_col_80percGeoNom, que tiene como columnas TOPICO | archivo_csv | columnaGeorreferencia_80percGeoNom; y el dataframe df_coincidencias_geoRefKeys que tiene las columnas TOPICO | archivo_csv | columna_georeferrencia armo dos nuevos dfs. Uno que sea GeoNomYes_GeoKeysNo donde se guarde como TOPICO | archivo_csv | GeoNomYes_GeoKeysNo cuales son las filas del dataframe df_col_80percGeoNom que no aparecen en el dataframe df_coincidencias_geoRefKeys. De manera análoga, el otro dataframe que quiero generar es GeoKeysYes_GeoNomNo que guarde como TOPICO | archivo_csv | GeoKeysYes_GeoNomNo cuales son las filas del dataframe df_coincidencias_geoRefKeys que no aparecen en el dataframe df_col_80percGeoNom\n"
   ]
  },
  {
   "cell_type": "code",
   "execution_count": 15,
   "metadata": {},
   "outputs": [
    {
     "name": "stdout",
     "output_type": "stream",
     "text": [
      "geoKeys.txt: ['country_name_abbreviation', 'pais', 'partner_name_short_en', 'region', 'iso3_desc', 'partner_region_name_short_es', 'region_code', 'partner_region_id', 'pais_o_region', 'pais_o_grupo_de_paises', 'iso3', 'codigo_pais', 'country_code', 'partner_code', 'iso3c', 'countryname', 'nombre_pais', 'region_name', 'iso3_desc_fundar', 'pais_nombre']\n"
     ]
    },
    {
     "data": {
      "application/vnd.microsoft.datawrangler.viewer.v0+json": {
       "columns": [
        {
         "name": "index",
         "rawType": "int64",
         "type": "integer"
        },
        {
         "name": "TOPICO",
         "rawType": "object",
         "type": "string"
        },
        {
         "name": "archivo_csv",
         "rawType": "object",
         "type": "string"
        },
        {
         "name": "GeoNomYes_GeoKeysNo",
         "rawType": "object",
         "type": "string"
        }
       ],
       "conversionMethod": "pd.DataFrame",
       "ref": "66eda9d4-fcc7-440d-90bc-0abd4c99f532",
       "rows": [
        [
         "0",
         "SALING",
         "ISA_salarios_region_i2.csv",
         "variable"
        ],
        [
         "1",
         "INFDES",
         "tasa_informalidad_provincia_definicion_productiva_legal.csv",
         "prov_desc"
        ],
        [
         "2",
         "INFDES",
         "satisfaccion_vida_desempleo_pais.csv",
         "pais_desc"
        ],
        [
         "3",
         "INFDES",
         "tasa_desempleo_sexo_paises_modelada.csv",
         "pais_desc"
        ],
        [
         "4",
         "INFDES",
         "tasa_desempleo_arg_mundial_modelada.csv",
         "pais_desc"
        ],
        [
         "5",
         "ESTPRO",
         "densidad_empresarial_depto.csv",
         "provincia"
        ],
        [
         "6",
         "ESTPRO",
         "densidad_nbi.csv",
         "provincia"
        ],
        [
         "7",
         "ESTPRO",
         "vab_sectorial_provincia.csv",
         "provincia"
        ],
        [
         "8",
         "CRECIM",
         "provincia_part_vab.csv",
         "provincia_id"
        ],
        [
         "9",
         "CRECIM",
         "vab_por_provincia.csv",
         "provincia_id"
        ],
        [
         "10",
         "CRECIM",
         "provincia_pib_pc_scatter.csv",
         "provincia_id"
        ],
        [
         "11",
         "CRECIM",
         "provincia_pib_pc_relativo.csv",
         "provincia_id"
        ],
        [
         "12",
         "CRECIM",
         "var_part_1953_vs_ultimo_anio.csv",
         "provincia_id"
        ],
        [
         "13",
         "CRECIM",
         "provincia_pib_pc.csv",
         "provincia_id"
        ],
        [
         "14",
         "DESIGU",
         "ISA_mundo_i1.csv",
         "code"
        ],
        [
         "15",
         "DESIGU",
         "ISA_mundo_i2.csv",
         "code"
        ],
        [
         "16",
         "DESIGU",
         "ISA_regiones_i1.csv",
         "variable"
        ],
        [
         "17",
         "DESIGU",
         "ISA_movilidad_i2.csv",
         "code"
        ],
        [
         "18",
         "SEBACO",
         "06_empleo_sbc_provincia.csv",
         "provincia"
        ],
        [
         "19",
         "COMEXT",
         "exportaciones_servicios_top_20_destinos.csv",
         "descripcionpais"
        ],
        [
         "20",
         "CAMCLI",
         "emisiones_prov_2010_2018.csv",
         "provincia"
        ],
        [
         "21",
         "CAMCLI",
         "emisiones_vab_provincias.csv",
         "provincia"
        ],
        [
         "22",
         "DESHUM",
         "expectativa_educ.csv",
         "continente_fundar"
        ],
        [
         "23",
         "DESHUM",
         "indice_desarrollo_humano.csv",
         "continente_fundar"
        ],
        [
         "24",
         "DESHUM",
         "anios_prom_educ.csv",
         "continente_fundar"
        ],
        [
         "25",
         "DESHUM",
         "expectativa_vida.csv",
         "continente_fundar"
        ],
        [
         "26",
         "DESHUM",
         "idh_dif_idhp.csv",
         "continente_fundar"
        ],
        [
         "27",
         "DESHUM",
         "indice_desarrollo_humano_desigualdad.csv",
         "continente_fundar"
        ],
        [
         "28",
         "DESHUM",
         "inb_pc.csv",
         "continente_fundar"
        ],
        [
         "29",
         "AGROPE",
         "PBG_participacion_agro_provincia_evolucion.csv",
         "nom_pcia"
        ],
        [
         "30",
         "MERTRA",
         "tasa_empleo_anio_provincia_sexo.csv",
         "provincia"
        ],
        [
         "31",
         "MERTRA",
         "tasa_empleo_menores_provincia.csv",
         "provincia"
        ],
        [
         "32",
         "MERTRA",
         "tasa_empleo_anio_provincia.csv",
         "provincia"
        ],
        [
         "33",
         "MERTRA",
         "trabajo_no_remunerado_sexo_internacional.csv",
         "pais_desc"
        ],
        [
         "34",
         "MERTRA",
         "trabajo_no_remunerado_sexo_internacional.csv",
         "continente_fundar"
        ],
        [
         "35",
         "MERTRA",
         "establecimientos_tasa_empleo_provincia.csv",
         "provincia_desc"
        ],
        [
         "36",
         "MERTRA",
         "lavarropas_tasa_empleo_fem_provincia.csv",
         "prov_desc"
        ],
        [
         "37",
         "MERTRA",
         "tasa_empleo_mujer_salario_provincia_anio.csv",
         "provincia"
        ],
        [
         "38",
         "MERTRA",
         "tasa_empleo_provincia_nivel_educativo.csv",
         "provincia"
        ],
        [
         "39",
         "MERTRA",
         "tasa_empleo_por_franja_etaria_anio_provincia.csv",
         "prov_desc"
        ]
       ],
       "shape": {
        "columns": 3,
        "rows": 40
       }
      },
      "text/html": [
       "<div>\n",
       "<style scoped>\n",
       "    .dataframe tbody tr th:only-of-type {\n",
       "        vertical-align: middle;\n",
       "    }\n",
       "\n",
       "    .dataframe tbody tr th {\n",
       "        vertical-align: top;\n",
       "    }\n",
       "\n",
       "    .dataframe thead th {\n",
       "        text-align: right;\n",
       "    }\n",
       "</style>\n",
       "<table border=\"1\" class=\"dataframe\">\n",
       "  <thead>\n",
       "    <tr style=\"text-align: right;\">\n",
       "      <th></th>\n",
       "      <th>TOPICO</th>\n",
       "      <th>archivo_csv</th>\n",
       "      <th>GeoNomYes_GeoKeysNo</th>\n",
       "    </tr>\n",
       "  </thead>\n",
       "  <tbody>\n",
       "    <tr>\n",
       "      <th>0</th>\n",
       "      <td>SALING</td>\n",
       "      <td>ISA_salarios_region_i2.csv</td>\n",
       "      <td>variable</td>\n",
       "    </tr>\n",
       "    <tr>\n",
       "      <th>1</th>\n",
       "      <td>INFDES</td>\n",
       "      <td>tasa_informalidad_provincia_definicion_product...</td>\n",
       "      <td>prov_desc</td>\n",
       "    </tr>\n",
       "    <tr>\n",
       "      <th>2</th>\n",
       "      <td>INFDES</td>\n",
       "      <td>satisfaccion_vida_desempleo_pais.csv</td>\n",
       "      <td>pais_desc</td>\n",
       "    </tr>\n",
       "    <tr>\n",
       "      <th>3</th>\n",
       "      <td>INFDES</td>\n",
       "      <td>tasa_desempleo_sexo_paises_modelada.csv</td>\n",
       "      <td>pais_desc</td>\n",
       "    </tr>\n",
       "    <tr>\n",
       "      <th>4</th>\n",
       "      <td>INFDES</td>\n",
       "      <td>tasa_desempleo_arg_mundial_modelada.csv</td>\n",
       "      <td>pais_desc</td>\n",
       "    </tr>\n",
       "    <tr>\n",
       "      <th>5</th>\n",
       "      <td>ESTPRO</td>\n",
       "      <td>densidad_empresarial_depto.csv</td>\n",
       "      <td>provincia</td>\n",
       "    </tr>\n",
       "    <tr>\n",
       "      <th>6</th>\n",
       "      <td>ESTPRO</td>\n",
       "      <td>densidad_nbi.csv</td>\n",
       "      <td>provincia</td>\n",
       "    </tr>\n",
       "    <tr>\n",
       "      <th>7</th>\n",
       "      <td>ESTPRO</td>\n",
       "      <td>vab_sectorial_provincia.csv</td>\n",
       "      <td>provincia</td>\n",
       "    </tr>\n",
       "    <tr>\n",
       "      <th>8</th>\n",
       "      <td>CRECIM</td>\n",
       "      <td>provincia_part_vab.csv</td>\n",
       "      <td>provincia_id</td>\n",
       "    </tr>\n",
       "    <tr>\n",
       "      <th>9</th>\n",
       "      <td>CRECIM</td>\n",
       "      <td>vab_por_provincia.csv</td>\n",
       "      <td>provincia_id</td>\n",
       "    </tr>\n",
       "    <tr>\n",
       "      <th>10</th>\n",
       "      <td>CRECIM</td>\n",
       "      <td>provincia_pib_pc_scatter.csv</td>\n",
       "      <td>provincia_id</td>\n",
       "    </tr>\n",
       "    <tr>\n",
       "      <th>11</th>\n",
       "      <td>CRECIM</td>\n",
       "      <td>provincia_pib_pc_relativo.csv</td>\n",
       "      <td>provincia_id</td>\n",
       "    </tr>\n",
       "    <tr>\n",
       "      <th>12</th>\n",
       "      <td>CRECIM</td>\n",
       "      <td>var_part_1953_vs_ultimo_anio.csv</td>\n",
       "      <td>provincia_id</td>\n",
       "    </tr>\n",
       "    <tr>\n",
       "      <th>13</th>\n",
       "      <td>CRECIM</td>\n",
       "      <td>provincia_pib_pc.csv</td>\n",
       "      <td>provincia_id</td>\n",
       "    </tr>\n",
       "    <tr>\n",
       "      <th>14</th>\n",
       "      <td>DESIGU</td>\n",
       "      <td>ISA_mundo_i1.csv</td>\n",
       "      <td>code</td>\n",
       "    </tr>\n",
       "    <tr>\n",
       "      <th>15</th>\n",
       "      <td>DESIGU</td>\n",
       "      <td>ISA_mundo_i2.csv</td>\n",
       "      <td>code</td>\n",
       "    </tr>\n",
       "    <tr>\n",
       "      <th>16</th>\n",
       "      <td>DESIGU</td>\n",
       "      <td>ISA_regiones_i1.csv</td>\n",
       "      <td>variable</td>\n",
       "    </tr>\n",
       "    <tr>\n",
       "      <th>17</th>\n",
       "      <td>DESIGU</td>\n",
       "      <td>ISA_movilidad_i2.csv</td>\n",
       "      <td>code</td>\n",
       "    </tr>\n",
       "    <tr>\n",
       "      <th>18</th>\n",
       "      <td>SEBACO</td>\n",
       "      <td>06_empleo_sbc_provincia.csv</td>\n",
       "      <td>provincia</td>\n",
       "    </tr>\n",
       "    <tr>\n",
       "      <th>19</th>\n",
       "      <td>COMEXT</td>\n",
       "      <td>exportaciones_servicios_top_20_destinos.csv</td>\n",
       "      <td>descripcionpais</td>\n",
       "    </tr>\n",
       "    <tr>\n",
       "      <th>20</th>\n",
       "      <td>CAMCLI</td>\n",
       "      <td>emisiones_prov_2010_2018.csv</td>\n",
       "      <td>provincia</td>\n",
       "    </tr>\n",
       "    <tr>\n",
       "      <th>21</th>\n",
       "      <td>CAMCLI</td>\n",
       "      <td>emisiones_vab_provincias.csv</td>\n",
       "      <td>provincia</td>\n",
       "    </tr>\n",
       "    <tr>\n",
       "      <th>22</th>\n",
       "      <td>DESHUM</td>\n",
       "      <td>expectativa_educ.csv</td>\n",
       "      <td>continente_fundar</td>\n",
       "    </tr>\n",
       "    <tr>\n",
       "      <th>23</th>\n",
       "      <td>DESHUM</td>\n",
       "      <td>indice_desarrollo_humano.csv</td>\n",
       "      <td>continente_fundar</td>\n",
       "    </tr>\n",
       "    <tr>\n",
       "      <th>24</th>\n",
       "      <td>DESHUM</td>\n",
       "      <td>anios_prom_educ.csv</td>\n",
       "      <td>continente_fundar</td>\n",
       "    </tr>\n",
       "    <tr>\n",
       "      <th>25</th>\n",
       "      <td>DESHUM</td>\n",
       "      <td>expectativa_vida.csv</td>\n",
       "      <td>continente_fundar</td>\n",
       "    </tr>\n",
       "    <tr>\n",
       "      <th>26</th>\n",
       "      <td>DESHUM</td>\n",
       "      <td>idh_dif_idhp.csv</td>\n",
       "      <td>continente_fundar</td>\n",
       "    </tr>\n",
       "    <tr>\n",
       "      <th>27</th>\n",
       "      <td>DESHUM</td>\n",
       "      <td>indice_desarrollo_humano_desigualdad.csv</td>\n",
       "      <td>continente_fundar</td>\n",
       "    </tr>\n",
       "    <tr>\n",
       "      <th>28</th>\n",
       "      <td>DESHUM</td>\n",
       "      <td>inb_pc.csv</td>\n",
       "      <td>continente_fundar</td>\n",
       "    </tr>\n",
       "    <tr>\n",
       "      <th>29</th>\n",
       "      <td>AGROPE</td>\n",
       "      <td>PBG_participacion_agro_provincia_evolucion.csv</td>\n",
       "      <td>nom_pcia</td>\n",
       "    </tr>\n",
       "    <tr>\n",
       "      <th>30</th>\n",
       "      <td>MERTRA</td>\n",
       "      <td>tasa_empleo_anio_provincia_sexo.csv</td>\n",
       "      <td>provincia</td>\n",
       "    </tr>\n",
       "    <tr>\n",
       "      <th>31</th>\n",
       "      <td>MERTRA</td>\n",
       "      <td>tasa_empleo_menores_provincia.csv</td>\n",
       "      <td>provincia</td>\n",
       "    </tr>\n",
       "    <tr>\n",
       "      <th>32</th>\n",
       "      <td>MERTRA</td>\n",
       "      <td>tasa_empleo_anio_provincia.csv</td>\n",
       "      <td>provincia</td>\n",
       "    </tr>\n",
       "    <tr>\n",
       "      <th>33</th>\n",
       "      <td>MERTRA</td>\n",
       "      <td>trabajo_no_remunerado_sexo_internacional.csv</td>\n",
       "      <td>pais_desc</td>\n",
       "    </tr>\n",
       "    <tr>\n",
       "      <th>34</th>\n",
       "      <td>MERTRA</td>\n",
       "      <td>trabajo_no_remunerado_sexo_internacional.csv</td>\n",
       "      <td>continente_fundar</td>\n",
       "    </tr>\n",
       "    <tr>\n",
       "      <th>35</th>\n",
       "      <td>MERTRA</td>\n",
       "      <td>establecimientos_tasa_empleo_provincia.csv</td>\n",
       "      <td>provincia_desc</td>\n",
       "    </tr>\n",
       "    <tr>\n",
       "      <th>36</th>\n",
       "      <td>MERTRA</td>\n",
       "      <td>lavarropas_tasa_empleo_fem_provincia.csv</td>\n",
       "      <td>prov_desc</td>\n",
       "    </tr>\n",
       "    <tr>\n",
       "      <th>37</th>\n",
       "      <td>MERTRA</td>\n",
       "      <td>tasa_empleo_mujer_salario_provincia_anio.csv</td>\n",
       "      <td>provincia</td>\n",
       "    </tr>\n",
       "    <tr>\n",
       "      <th>38</th>\n",
       "      <td>MERTRA</td>\n",
       "      <td>tasa_empleo_provincia_nivel_educativo.csv</td>\n",
       "      <td>provincia</td>\n",
       "    </tr>\n",
       "    <tr>\n",
       "      <th>39</th>\n",
       "      <td>MERTRA</td>\n",
       "      <td>tasa_empleo_por_franja_etaria_anio_provincia.csv</td>\n",
       "      <td>prov_desc</td>\n",
       "    </tr>\n",
       "  </tbody>\n",
       "</table>\n",
       "</div>"
      ],
      "text/plain": [
       "    TOPICO                                        archivo_csv  \\\n",
       "0   SALING                         ISA_salarios_region_i2.csv   \n",
       "1   INFDES  tasa_informalidad_provincia_definicion_product...   \n",
       "2   INFDES               satisfaccion_vida_desempleo_pais.csv   \n",
       "3   INFDES            tasa_desempleo_sexo_paises_modelada.csv   \n",
       "4   INFDES            tasa_desempleo_arg_mundial_modelada.csv   \n",
       "5   ESTPRO                     densidad_empresarial_depto.csv   \n",
       "6   ESTPRO                                   densidad_nbi.csv   \n",
       "7   ESTPRO                        vab_sectorial_provincia.csv   \n",
       "8   CRECIM                             provincia_part_vab.csv   \n",
       "9   CRECIM                              vab_por_provincia.csv   \n",
       "10  CRECIM                       provincia_pib_pc_scatter.csv   \n",
       "11  CRECIM                      provincia_pib_pc_relativo.csv   \n",
       "12  CRECIM                   var_part_1953_vs_ultimo_anio.csv   \n",
       "13  CRECIM                               provincia_pib_pc.csv   \n",
       "14  DESIGU                                   ISA_mundo_i1.csv   \n",
       "15  DESIGU                                   ISA_mundo_i2.csv   \n",
       "16  DESIGU                                ISA_regiones_i1.csv   \n",
       "17  DESIGU                               ISA_movilidad_i2.csv   \n",
       "18  SEBACO                        06_empleo_sbc_provincia.csv   \n",
       "19  COMEXT        exportaciones_servicios_top_20_destinos.csv   \n",
       "20  CAMCLI                       emisiones_prov_2010_2018.csv   \n",
       "21  CAMCLI                       emisiones_vab_provincias.csv   \n",
       "22  DESHUM                               expectativa_educ.csv   \n",
       "23  DESHUM                       indice_desarrollo_humano.csv   \n",
       "24  DESHUM                                anios_prom_educ.csv   \n",
       "25  DESHUM                               expectativa_vida.csv   \n",
       "26  DESHUM                                   idh_dif_idhp.csv   \n",
       "27  DESHUM           indice_desarrollo_humano_desigualdad.csv   \n",
       "28  DESHUM                                         inb_pc.csv   \n",
       "29  AGROPE     PBG_participacion_agro_provincia_evolucion.csv   \n",
       "30  MERTRA                tasa_empleo_anio_provincia_sexo.csv   \n",
       "31  MERTRA                  tasa_empleo_menores_provincia.csv   \n",
       "32  MERTRA                     tasa_empleo_anio_provincia.csv   \n",
       "33  MERTRA       trabajo_no_remunerado_sexo_internacional.csv   \n",
       "34  MERTRA       trabajo_no_remunerado_sexo_internacional.csv   \n",
       "35  MERTRA         establecimientos_tasa_empleo_provincia.csv   \n",
       "36  MERTRA           lavarropas_tasa_empleo_fem_provincia.csv   \n",
       "37  MERTRA       tasa_empleo_mujer_salario_provincia_anio.csv   \n",
       "38  MERTRA          tasa_empleo_provincia_nivel_educativo.csv   \n",
       "39  MERTRA   tasa_empleo_por_franja_etaria_anio_provincia.csv   \n",
       "\n",
       "   GeoNomYes_GeoKeysNo  \n",
       "0             variable  \n",
       "1            prov_desc  \n",
       "2            pais_desc  \n",
       "3            pais_desc  \n",
       "4            pais_desc  \n",
       "5            provincia  \n",
       "6            provincia  \n",
       "7            provincia  \n",
       "8         provincia_id  \n",
       "9         provincia_id  \n",
       "10        provincia_id  \n",
       "11        provincia_id  \n",
       "12        provincia_id  \n",
       "13        provincia_id  \n",
       "14                code  \n",
       "15                code  \n",
       "16            variable  \n",
       "17                code  \n",
       "18           provincia  \n",
       "19     descripcionpais  \n",
       "20           provincia  \n",
       "21           provincia  \n",
       "22   continente_fundar  \n",
       "23   continente_fundar  \n",
       "24   continente_fundar  \n",
       "25   continente_fundar  \n",
       "26   continente_fundar  \n",
       "27   continente_fundar  \n",
       "28   continente_fundar  \n",
       "29            nom_pcia  \n",
       "30           provincia  \n",
       "31           provincia  \n",
       "32           provincia  \n",
       "33           pais_desc  \n",
       "34   continente_fundar  \n",
       "35      provincia_desc  \n",
       "36           prov_desc  \n",
       "37           provincia  \n",
       "38           provincia  \n",
       "39           prov_desc  "
      ]
     },
     "execution_count": 15,
     "metadata": {},
     "output_type": "execute_result"
    }
   ],
   "source": [
    "# quisiste no usar merge y te la pusiste con tuplas, no lo vuelvas a intentar\n",
    "\n",
    "# para hacerme más fácil la evaluación y comparación entre dfs, solo para este paso voy a renombrar cositas\n",
    "df_geo_nom = df_col_80percGeoNom.rename(columns={'columnaGeorreferencia_80percGeoNom': 'geo'})\n",
    "df_geo_keys = df_coincidencias_geoRefKeys.rename(columns={'columna_georeferrencia': 'geo'})\n",
    "\n",
    "# acá voy a documentar en detalle por mi propio bien:\n",
    "# vamos a usar merge para combinar df_geo_nom y df_geo_keys utilizando una 'conjunción' basada en las columnas 'TOPICO', 'archivo_csv' y 'geo'. \n",
    "\n",
    "# parámetro how = 'left' (que es el que voy a usar para mergear) asegura que se mantengan todas las filas de df_geo_nom y se traigan las filas que coincidan de df_geo_keys\n",
    "# parámetro indicator = True agrega una columna extra llamada '_merge', que nos indica el origen de cada fila resultante:\n",
    "#   - 'both': la fila existe en ambos df.\n",
    "#   - 'left_only': la fila existe únicamente en el DataFrame de la izquierda (df_geo_nom) \n",
    "#   - 'right_only': la fila existe únicamente en el DataFrame de la derecha.\n",
    "merge_nom = df_geo_nom.merge(df_geo_keys, on=['TOPICO', 'archivo_csv', 'geo'],\n",
    "                             how = 'left', indicator = True)\n",
    "#print(merge_nom)\n",
    "# vivan merge y sus parametros :>\n",
    "\n",
    "# ahora, con la super columna _merge filtro únicamente las filas que están presentes solo en df_geo_nom (la condición _merge == 'left_only')\n",
    "# con esto, logramos quedarnos con (TOPICO, archivo_csv, geo) que está presente en df_geo_nom pero NO en df_geo_keys\n",
    "df_GeoNomYes_GeoKeysNo = merge_nom[merge_nom['_merge'] == 'left_only'][['TOPICO', 'archivo_csv', 'geo']]\n",
    "\n",
    "# 'geo' a 'GeoNomYes_GeoKeysNo' para dejar claro el resultado\n",
    "df_GeoNomYes_GeoKeysNo = df_GeoNomYes_GeoKeysNo.rename(columns={'geo': 'GeoNomYes_GeoKeysNo'})\n",
    "\n",
    "df_GeoNomYes_GeoKeysNo = df_GeoNomYes_GeoKeysNo.reset_index(drop=True)\n",
    "\n",
    "print('geoKeys.txt:', input_TituloColumnas_geoRef)\n",
    "df_GeoNomYes_GeoKeysNo\n"
   ]
  },
  {
   "cell_type": "code",
   "execution_count": 16,
   "metadata": {},
   "outputs": [
    {
     "data": {
      "application/vnd.microsoft.datawrangler.viewer.v0+json": {
       "columns": [
        {
         "name": "index",
         "rawType": "int64",
         "type": "integer"
        },
        {
         "name": "TOPICO",
         "rawType": "object",
         "type": "string"
        },
        {
         "name": "archivo_csv",
         "rawType": "object",
         "type": "string"
        },
        {
         "name": "GeoKeysYes_GeoNomNo",
         "rawType": "object",
         "type": "string"
        }
       ],
       "conversionMethod": "pd.DataFrame",
       "ref": "40f0d6ba-bd4c-48f3-9c7f-6c8b556ffc77",
       "rows": [
        [
         "0",
         "PRECIO",
         "7_comparacion_inflacion_mediana_argentina_latam_1992_2022.csv",
         "pais_o_grupo_de_paises"
        ],
        [
         "1",
         "ACECON",
         "9_pibpc_ppa_log_1950.csv",
         "pais_o_region"
        ],
        [
         "2",
         "CRECIM",
         "vab_por_provincia.csv",
         "region"
        ],
        [
         "3",
         "DESIGU",
         "ISA_mundo_i1.csv",
         "pais"
        ],
        [
         "4",
         "DESIGU",
         "ISA_mundo_i2.csv",
         "pais"
        ],
        [
         "5",
         "DESIGU",
         "ISA_movilidad_i2.csv",
         "pais"
        ],
        [
         "6",
         "POBREZ",
         "ISA_pobreza_monetaria_it2.csv",
         "region"
        ],
        [
         "7",
         "POBREZ",
         "ISA_global-poverty_it3.csv",
         "region_name"
        ],
        [
         "8",
         "COMEXT",
         "composicion_importaciones_bienes_sectores_Brambilla_Porto.csv",
         "country_name_abbreviation"
        ],
        [
         "9",
         "COMEXT",
         "cambio_destinos_exportacion.csv",
         "partner_name_short_en"
        ],
        [
         "10",
         "COMEXT",
         "composicion_exportaciones_bienes_regiones_mundo.csv",
         "partner_region_id"
        ],
        [
         "11",
         "COMEXT",
         "composicion_exportaciones_bienes_regiones_mundo.csv",
         "partner_region_name_short_es"
        ],
        [
         "12",
         "COMEXT",
         "indice_volumen_exportaciones_bienes_2000.csv",
         "countryname"
        ],
        [
         "13",
         "COMEXT",
         "indice_valores_unitarios_exportacion_bienes_2000.csv",
         "countryname"
        ],
        [
         "14",
         "COMEXT",
         "composicion_exportaciones_bienes_sectores_Brambilla_Porto.csv",
         "country_name_abbreviation"
        ],
        [
         "15",
         "COMEXT",
         "composicion_importaciones_bienes_regiones_mundo.csv",
         "partner_region_id"
        ],
        [
         "16",
         "COMEXT",
         "composicion_importaciones_bienes_regiones_mundo.csv",
         "partner_region_name_short_es"
        ],
        [
         "17",
         "COMEXT",
         "exportaciones_bienes_servicios_millones_usd_constantes_2015.csv",
         "countryname"
        ],
        [
         "18",
         "COMEXT",
         "composicion_exportaciones_bienes_diferenciado_Bernini.csv",
         "country_name_abbreviation"
        ],
        [
         "19",
         "COMEXT",
         "composicion_importaciones_bienes_diferenciado_Bernini.csv",
         "country_name_abbreviation"
        ],
        [
         "20",
         "COMEXT",
         "participacion_exportaciones_servicios_porcentaje_exportaciones.csv",
         "countryname"
        ],
        [
         "21",
         "COMEXT",
         "participacion_exportaciones_bienes_servicios_porcentaje_pib.csv",
         "countryname"
        ],
        [
         "22",
         "COMEXT",
         "cambio_origenes_importacion.csv",
         "partner_name_short_en"
        ],
        [
         "23",
         "COMEXT",
         "indice_apertura_comercial.csv",
         "countryname"
        ],
        [
         "24",
         "TRANEN",
         "potencia_instalada_renov_regional.csv",
         "region"
        ],
        [
         "25",
         "MERTRA",
         "ratio_tasa_actividad_mujer_varon_por_pais_anio.csv",
         "iso3_desc"
        ]
       ],
       "shape": {
        "columns": 3,
        "rows": 26
       }
      },
      "text/html": [
       "<div>\n",
       "<style scoped>\n",
       "    .dataframe tbody tr th:only-of-type {\n",
       "        vertical-align: middle;\n",
       "    }\n",
       "\n",
       "    .dataframe tbody tr th {\n",
       "        vertical-align: top;\n",
       "    }\n",
       "\n",
       "    .dataframe thead th {\n",
       "        text-align: right;\n",
       "    }\n",
       "</style>\n",
       "<table border=\"1\" class=\"dataframe\">\n",
       "  <thead>\n",
       "    <tr style=\"text-align: right;\">\n",
       "      <th></th>\n",
       "      <th>TOPICO</th>\n",
       "      <th>archivo_csv</th>\n",
       "      <th>GeoKeysYes_GeoNomNo</th>\n",
       "    </tr>\n",
       "  </thead>\n",
       "  <tbody>\n",
       "    <tr>\n",
       "      <th>0</th>\n",
       "      <td>PRECIO</td>\n",
       "      <td>7_comparacion_inflacion_mediana_argentina_lata...</td>\n",
       "      <td>pais_o_grupo_de_paises</td>\n",
       "    </tr>\n",
       "    <tr>\n",
       "      <th>1</th>\n",
       "      <td>ACECON</td>\n",
       "      <td>9_pibpc_ppa_log_1950.csv</td>\n",
       "      <td>pais_o_region</td>\n",
       "    </tr>\n",
       "    <tr>\n",
       "      <th>2</th>\n",
       "      <td>CRECIM</td>\n",
       "      <td>vab_por_provincia.csv</td>\n",
       "      <td>region</td>\n",
       "    </tr>\n",
       "    <tr>\n",
       "      <th>3</th>\n",
       "      <td>DESIGU</td>\n",
       "      <td>ISA_mundo_i1.csv</td>\n",
       "      <td>pais</td>\n",
       "    </tr>\n",
       "    <tr>\n",
       "      <th>4</th>\n",
       "      <td>DESIGU</td>\n",
       "      <td>ISA_mundo_i2.csv</td>\n",
       "      <td>pais</td>\n",
       "    </tr>\n",
       "    <tr>\n",
       "      <th>5</th>\n",
       "      <td>DESIGU</td>\n",
       "      <td>ISA_movilidad_i2.csv</td>\n",
       "      <td>pais</td>\n",
       "    </tr>\n",
       "    <tr>\n",
       "      <th>6</th>\n",
       "      <td>POBREZ</td>\n",
       "      <td>ISA_pobreza_monetaria_it2.csv</td>\n",
       "      <td>region</td>\n",
       "    </tr>\n",
       "    <tr>\n",
       "      <th>7</th>\n",
       "      <td>POBREZ</td>\n",
       "      <td>ISA_global-poverty_it3.csv</td>\n",
       "      <td>region_name</td>\n",
       "    </tr>\n",
       "    <tr>\n",
       "      <th>8</th>\n",
       "      <td>COMEXT</td>\n",
       "      <td>composicion_importaciones_bienes_sectores_Bram...</td>\n",
       "      <td>country_name_abbreviation</td>\n",
       "    </tr>\n",
       "    <tr>\n",
       "      <th>9</th>\n",
       "      <td>COMEXT</td>\n",
       "      <td>cambio_destinos_exportacion.csv</td>\n",
       "      <td>partner_name_short_en</td>\n",
       "    </tr>\n",
       "    <tr>\n",
       "      <th>10</th>\n",
       "      <td>COMEXT</td>\n",
       "      <td>composicion_exportaciones_bienes_regiones_mund...</td>\n",
       "      <td>partner_region_id</td>\n",
       "    </tr>\n",
       "    <tr>\n",
       "      <th>11</th>\n",
       "      <td>COMEXT</td>\n",
       "      <td>composicion_exportaciones_bienes_regiones_mund...</td>\n",
       "      <td>partner_region_name_short_es</td>\n",
       "    </tr>\n",
       "    <tr>\n",
       "      <th>12</th>\n",
       "      <td>COMEXT</td>\n",
       "      <td>indice_volumen_exportaciones_bienes_2000.csv</td>\n",
       "      <td>countryname</td>\n",
       "    </tr>\n",
       "    <tr>\n",
       "      <th>13</th>\n",
       "      <td>COMEXT</td>\n",
       "      <td>indice_valores_unitarios_exportacion_bienes_20...</td>\n",
       "      <td>countryname</td>\n",
       "    </tr>\n",
       "    <tr>\n",
       "      <th>14</th>\n",
       "      <td>COMEXT</td>\n",
       "      <td>composicion_exportaciones_bienes_sectores_Bram...</td>\n",
       "      <td>country_name_abbreviation</td>\n",
       "    </tr>\n",
       "    <tr>\n",
       "      <th>15</th>\n",
       "      <td>COMEXT</td>\n",
       "      <td>composicion_importaciones_bienes_regiones_mund...</td>\n",
       "      <td>partner_region_id</td>\n",
       "    </tr>\n",
       "    <tr>\n",
       "      <th>16</th>\n",
       "      <td>COMEXT</td>\n",
       "      <td>composicion_importaciones_bienes_regiones_mund...</td>\n",
       "      <td>partner_region_name_short_es</td>\n",
       "    </tr>\n",
       "    <tr>\n",
       "      <th>17</th>\n",
       "      <td>COMEXT</td>\n",
       "      <td>exportaciones_bienes_servicios_millones_usd_co...</td>\n",
       "      <td>countryname</td>\n",
       "    </tr>\n",
       "    <tr>\n",
       "      <th>18</th>\n",
       "      <td>COMEXT</td>\n",
       "      <td>composicion_exportaciones_bienes_diferenciado_...</td>\n",
       "      <td>country_name_abbreviation</td>\n",
       "    </tr>\n",
       "    <tr>\n",
       "      <th>19</th>\n",
       "      <td>COMEXT</td>\n",
       "      <td>composicion_importaciones_bienes_diferenciado_...</td>\n",
       "      <td>country_name_abbreviation</td>\n",
       "    </tr>\n",
       "    <tr>\n",
       "      <th>20</th>\n",
       "      <td>COMEXT</td>\n",
       "      <td>participacion_exportaciones_servicios_porcenta...</td>\n",
       "      <td>countryname</td>\n",
       "    </tr>\n",
       "    <tr>\n",
       "      <th>21</th>\n",
       "      <td>COMEXT</td>\n",
       "      <td>participacion_exportaciones_bienes_servicios_p...</td>\n",
       "      <td>countryname</td>\n",
       "    </tr>\n",
       "    <tr>\n",
       "      <th>22</th>\n",
       "      <td>COMEXT</td>\n",
       "      <td>cambio_origenes_importacion.csv</td>\n",
       "      <td>partner_name_short_en</td>\n",
       "    </tr>\n",
       "    <tr>\n",
       "      <th>23</th>\n",
       "      <td>COMEXT</td>\n",
       "      <td>indice_apertura_comercial.csv</td>\n",
       "      <td>countryname</td>\n",
       "    </tr>\n",
       "    <tr>\n",
       "      <th>24</th>\n",
       "      <td>TRANEN</td>\n",
       "      <td>potencia_instalada_renov_regional.csv</td>\n",
       "      <td>region</td>\n",
       "    </tr>\n",
       "    <tr>\n",
       "      <th>25</th>\n",
       "      <td>MERTRA</td>\n",
       "      <td>ratio_tasa_actividad_mujer_varon_por_pais_anio...</td>\n",
       "      <td>iso3_desc</td>\n",
       "    </tr>\n",
       "  </tbody>\n",
       "</table>\n",
       "</div>"
      ],
      "text/plain": [
       "    TOPICO                                        archivo_csv  \\\n",
       "0   PRECIO  7_comparacion_inflacion_mediana_argentina_lata...   \n",
       "1   ACECON                           9_pibpc_ppa_log_1950.csv   \n",
       "2   CRECIM                              vab_por_provincia.csv   \n",
       "3   DESIGU                                   ISA_mundo_i1.csv   \n",
       "4   DESIGU                                   ISA_mundo_i2.csv   \n",
       "5   DESIGU                               ISA_movilidad_i2.csv   \n",
       "6   POBREZ                      ISA_pobreza_monetaria_it2.csv   \n",
       "7   POBREZ                         ISA_global-poverty_it3.csv   \n",
       "8   COMEXT  composicion_importaciones_bienes_sectores_Bram...   \n",
       "9   COMEXT                    cambio_destinos_exportacion.csv   \n",
       "10  COMEXT  composicion_exportaciones_bienes_regiones_mund...   \n",
       "11  COMEXT  composicion_exportaciones_bienes_regiones_mund...   \n",
       "12  COMEXT       indice_volumen_exportaciones_bienes_2000.csv   \n",
       "13  COMEXT  indice_valores_unitarios_exportacion_bienes_20...   \n",
       "14  COMEXT  composicion_exportaciones_bienes_sectores_Bram...   \n",
       "15  COMEXT  composicion_importaciones_bienes_regiones_mund...   \n",
       "16  COMEXT  composicion_importaciones_bienes_regiones_mund...   \n",
       "17  COMEXT  exportaciones_bienes_servicios_millones_usd_co...   \n",
       "18  COMEXT  composicion_exportaciones_bienes_diferenciado_...   \n",
       "19  COMEXT  composicion_importaciones_bienes_diferenciado_...   \n",
       "20  COMEXT  participacion_exportaciones_servicios_porcenta...   \n",
       "21  COMEXT  participacion_exportaciones_bienes_servicios_p...   \n",
       "22  COMEXT                    cambio_origenes_importacion.csv   \n",
       "23  COMEXT                      indice_apertura_comercial.csv   \n",
       "24  TRANEN              potencia_instalada_renov_regional.csv   \n",
       "25  MERTRA  ratio_tasa_actividad_mujer_varon_por_pais_anio...   \n",
       "\n",
       "             GeoKeysYes_GeoNomNo  \n",
       "0         pais_o_grupo_de_paises  \n",
       "1                  pais_o_region  \n",
       "2                         region  \n",
       "3                           pais  \n",
       "4                           pais  \n",
       "5                           pais  \n",
       "6                         region  \n",
       "7                    region_name  \n",
       "8      country_name_abbreviation  \n",
       "9          partner_name_short_en  \n",
       "10             partner_region_id  \n",
       "11  partner_region_name_short_es  \n",
       "12                   countryname  \n",
       "13                   countryname  \n",
       "14     country_name_abbreviation  \n",
       "15             partner_region_id  \n",
       "16  partner_region_name_short_es  \n",
       "17                   countryname  \n",
       "18     country_name_abbreviation  \n",
       "19     country_name_abbreviation  \n",
       "20                   countryname  \n",
       "21                   countryname  \n",
       "22         partner_name_short_en  \n",
       "23                   countryname  \n",
       "24                        region  \n",
       "25                     iso3_desc  "
      ]
     },
     "execution_count": 16,
     "metadata": {},
     "output_type": "execute_result"
    }
   ],
   "source": [
    "# pasemos ahora al otro caso, identificar las filas que están en df_geo_keys pero no en df_geo_nom -> realizamos el proceso inverso\n",
    "# ie, usamos df_geo_keys como df principal y hacemos un left merge con df_geo_nom\n",
    "# así, obtenemos filas con _merge == 'left_only' que indican que esa combinación solo aparece en df_geo_keys\n",
    "\n",
    "merge_keys = df_geo_keys.merge(df_geo_nom, on=['TOPICO', 'archivo_csv', 'geo'],\n",
    "                               how = 'left', indicator = True)\n",
    "\n",
    "# nos quedamos las filas que están solo en df_geo_keys\n",
    "df_GeoKeysYes_GeoNomNo = merge_keys[merge_keys['_merge'] == 'left_only'][['TOPICO', 'archivo_csv', 'geo']]\n",
    "\n",
    "# la columna 'geo' a 'GeoKeysYes_GeoNomNo' para diferenciar\n",
    "df_GeoKeysYes_GeoNomNo = df_GeoKeysYes_GeoNomNo.rename(columns={'geo': 'GeoKeysYes_GeoNomNo'})\n",
    "\n",
    "df_GeoKeysYes_GeoNomNo = df_GeoKeysYes_GeoNomNo.reset_index(drop=True)\n",
    "df_GeoKeysYes_GeoNomNo"
   ]
  },
  {
   "cell_type": "markdown",
   "metadata": {},
   "source": [
    "#### <font color = \"tomato\"> En el df df_GeoKeysYes_GeoNomNo me gustaría que haya, hasta el momento, solo NO detección de columnas en idiomas distintos al español pero hay otros problemas (excel) </font>\n",
    "\n",
    "#### <font color = \"tomato\"> Los registro en archivos Argendata_problemaRenaming.ods, guardado en mi repo  </font>"
   ]
  },
  {
   "cell_type": "code",
   "execution_count": 57,
   "metadata": {},
   "outputs": [
    {
     "name": "stdout",
     "output_type": "stream",
     "text": [
      "['CABA y Provincia de Buenos Aires', 'Centro', 'Comahue', 'Cuyo', 'Litoral', 'Noreste Argentino', 'Noroeste Argentino', 'Patagonia', 'Total']\n"
     ]
    }
   ],
   "source": [
    "tx = pd.read_csv('/home/capuccino/Desktop/TrabajoFundar/Argendata_renaming/data/data_argendata/TRANEN/potencia_instalada_renov_regional.csv')\n",
    "tx\n",
    "\n",
    "valores_unicos = tx['region'].dropna().unique().tolist()\n",
    "print(valores_unicos)"
   ]
  },
  {
   "cell_type": "code",
   "execution_count": 39,
   "metadata": {},
   "outputs": [
    {
     "data": {
      "application/vnd.microsoft.datawrangler.viewer.v0+json": {
       "columns": [
        {
         "name": "index",
         "rawType": "int64",
         "type": "integer"
        },
        {
         "name": "geocodigo",
         "rawType": "object",
         "type": "string"
        },
        {
         "name": "name_long",
         "rawType": "object",
         "type": "string"
        },
        {
         "name": "name_short",
         "rawType": "object",
         "type": "string"
        },
        {
         "name": "iso_2",
         "rawType": "object",
         "type": "unknown"
        }
       ],
       "conversionMethod": "pd.DataFrame",
       "ref": "3aad05ac-25fc-4157-9788-9b783f323d92",
       "rows": [
        [
         "0",
         "ABW",
         "Aruba",
         "Aruba",
         "AW"
        ],
        [
         "1",
         "AFE",
         "África Oriental y Meridional",
         "África Oriental y Meridional",
         null
        ],
        [
         "2",
         "AFG",
         "Afganistán",
         "Afganistán",
         "AF"
        ],
        [
         "3",
         "AFW",
         "África Occidental y Central",
         "África Occidental y Central",
         null
        ],
        [
         "4",
         "AGO",
         "Angola",
         "Angola",
         "AO"
        ],
        [
         "5",
         "AIA",
         "Anguila",
         "Anguila",
         "AI"
        ],
        [
         "6",
         "ALA",
         "Islas Åland",
         "Islas Åland",
         "AX"
        ],
        [
         "7",
         "ALB",
         "Albania",
         "Albania",
         "AL"
        ],
        [
         "8",
         "AND",
         "Andorra",
         "Andorra",
         "AD"
        ],
        [
         "9",
         "ANT",
         "Antillas Holandesas",
         "Antillas Holandesas",
         null
        ],
        [
         "10",
         "ARB",
         "Mundo árabe",
         "Mundo árabe",
         null
        ],
        [
         "11",
         "ARE",
         "Emiratos Árabes Unidos",
         "Emiratos Árabes Unidos",
         "AE"
        ],
        [
         "12",
         "ARG",
         "Argentina",
         "Argentina",
         "AR"
        ],
        [
         "13",
         "ARM",
         "Armenia",
         "Armenia",
         "AM"
        ],
        [
         "14",
         "ASM",
         "Samoa Americana",
         "Samoa Americana",
         "AS"
        ],
        [
         "15",
         "ATA",
         "Antártida",
         "Antártida",
         "AQ"
        ],
        [
         "16",
         "ATF",
         "Tierras Australes Francesas",
         "Tierras Australes Francesas",
         "TF"
        ],
        [
         "17",
         "ATG",
         "Antigua y Barbuda",
         "Antigua y Barbuda",
         "AG"
        ],
        [
         "18",
         "AUS",
         "Australia",
         "Australia",
         "AU"
        ],
        [
         "19",
         "AUT",
         "Austria",
         "Austria",
         "AT"
        ],
        [
         "20",
         "AZE",
         "Azerbaiyán",
         "Azerbaiyán",
         "AZ"
        ],
        [
         "21",
         "BAT",
         "Antártida Británica",
         "Antártida Británica",
         null
        ],
        [
         "22",
         "BDI",
         "Burundi",
         "Burundi",
         "BI"
        ],
        [
         "23",
         "BEL",
         "Bélgica",
         "Bélgica",
         "BE"
        ],
        [
         "24",
         "BEN",
         "Benin",
         "Benin",
         "BJ"
        ],
        [
         "25",
         "BES",
         "Bonaire",
         "Bonaire",
         "BQ"
        ],
        [
         "26",
         "BFA",
         "Burkina Faso",
         "Burkina Faso",
         "BF"
        ],
        [
         "27",
         "BGD",
         "Bangladesh",
         "Bangladesh",
         "BD"
        ],
        [
         "28",
         "BGR",
         "Bulgaria",
         "Bulgaria",
         "BG"
        ],
        [
         "29",
         "BHR",
         "Bahrein",
         "Bahrein",
         "BH"
        ],
        [
         "30",
         "BHS",
         "Bahamas",
         "Bahamas",
         "BS"
        ],
        [
         "31",
         "BIH",
         "Bosnia y Herzegovina",
         "Bosnia y Herzegovina",
         "BA"
        ],
        [
         "32",
         "BLM",
         "San Barthélemy",
         "San Barthélemy",
         "BL"
        ],
        [
         "33",
         "BLR",
         "Belarús",
         "Belarús",
         "BY"
        ],
        [
         "34",
         "BLX",
         "Bélgica-Luxemburgo",
         "Bélgica-Luxemburgo",
         null
        ],
        [
         "35",
         "BLZ",
         "Belice",
         "Belice",
         "BZ"
        ],
        [
         "36",
         "BMU",
         "Bermuda",
         "Bermuda",
         "BM"
        ],
        [
         "37",
         "BOL",
         "Bolivia",
         "Bolivia",
         "BO"
        ],
        [
         "38",
         "BRA",
         "Brasil",
         "Brasil",
         "BR"
        ],
        [
         "39",
         "BRB",
         "Barbados",
         "Barbados",
         "BB"
        ],
        [
         "40",
         "BRN",
         "Brunei",
         "Brunei",
         "BN"
        ],
        [
         "41",
         "BTN",
         "Bhután",
         "Bhután",
         "BT"
        ],
        [
         "42",
         "BVT",
         "Bouvet",
         "Bouvet",
         "BV"
        ],
        [
         "43",
         "BWA",
         "Botswana",
         "Botswana",
         "BW"
        ],
        [
         "44",
         "CAF",
         "Rep. Centroafricana",
         "Rep. Centroafricana",
         "CF"
        ],
        [
         "45",
         "CAN",
         "Canadá",
         "Canadá",
         "CA"
        ],
        [
         "46",
         "CCK",
         "Islas Cocos",
         "Islas Cocos",
         "CC"
        ],
        [
         "47",
         "CEB",
         "Europa Central y Bálticos",
         "Europa Central y Bálticos",
         null
        ],
        [
         "48",
         "CEM",
         "Comunidad Económica y Monetaria de Africa Central (CEMAC)",
         "Comunidad Económica y Monetaria de Africa Central (CEMAC)",
         null
        ],
        [
         "49",
         "CHE",
         "Suiza",
         "Suiza",
         "CH"
        ]
       ],
       "shape": {
        "columns": 4,
        "rows": 1024
       }
      },
      "text/html": [
       "<div>\n",
       "<style scoped>\n",
       "    .dataframe tbody tr th:only-of-type {\n",
       "        vertical-align: middle;\n",
       "    }\n",
       "\n",
       "    .dataframe tbody tr th {\n",
       "        vertical-align: top;\n",
       "    }\n",
       "\n",
       "    .dataframe thead th {\n",
       "        text-align: right;\n",
       "    }\n",
       "</style>\n",
       "<table border=\"1\" class=\"dataframe\">\n",
       "  <thead>\n",
       "    <tr style=\"text-align: right;\">\n",
       "      <th></th>\n",
       "      <th>geocodigo</th>\n",
       "      <th>name_long</th>\n",
       "      <th>name_short</th>\n",
       "      <th>iso_2</th>\n",
       "    </tr>\n",
       "  </thead>\n",
       "  <tbody>\n",
       "    <tr>\n",
       "      <th>0</th>\n",
       "      <td>ABW</td>\n",
       "      <td>Aruba</td>\n",
       "      <td>Aruba</td>\n",
       "      <td>AW</td>\n",
       "    </tr>\n",
       "    <tr>\n",
       "      <th>1</th>\n",
       "      <td>AFE</td>\n",
       "      <td>África Oriental y Meridional</td>\n",
       "      <td>África Oriental y Meridional</td>\n",
       "      <td>NaN</td>\n",
       "    </tr>\n",
       "    <tr>\n",
       "      <th>2</th>\n",
       "      <td>AFG</td>\n",
       "      <td>Afganistán</td>\n",
       "      <td>Afganistán</td>\n",
       "      <td>AF</td>\n",
       "    </tr>\n",
       "    <tr>\n",
       "      <th>3</th>\n",
       "      <td>AFW</td>\n",
       "      <td>África Occidental y Central</td>\n",
       "      <td>África Occidental y Central</td>\n",
       "      <td>NaN</td>\n",
       "    </tr>\n",
       "    <tr>\n",
       "      <th>4</th>\n",
       "      <td>AGO</td>\n",
       "      <td>Angola</td>\n",
       "      <td>Angola</td>\n",
       "      <td>AO</td>\n",
       "    </tr>\n",
       "    <tr>\n",
       "      <th>...</th>\n",
       "      <td>...</td>\n",
       "      <td>...</td>\n",
       "      <td>...</td>\n",
       "      <td>...</td>\n",
       "    </tr>\n",
       "    <tr>\n",
       "      <th>1019</th>\n",
       "      <td>DESHUM_AHDI.WOF</td>\n",
       "      <td>Ramificaciones de Occidente</td>\n",
       "      <td>Ramificaciones de Occidente</td>\n",
       "      <td>NaN</td>\n",
       "    </tr>\n",
       "    <tr>\n",
       "      <th>1020</th>\n",
       "      <td>NIR</td>\n",
       "      <td>Irlanda del Norte</td>\n",
       "      <td>Irlanda del Norte</td>\n",
       "      <td>NaN</td>\n",
       "    </tr>\n",
       "    <tr>\n",
       "      <th>1021</th>\n",
       "      <td>CAMCLI_IA</td>\n",
       "      <td>Aviación internacional</td>\n",
       "      <td>Aviación internacional</td>\n",
       "      <td>NaN</td>\n",
       "    </tr>\n",
       "    <tr>\n",
       "      <th>1022</th>\n",
       "      <td>F_ESTPRO</td>\n",
       "      <td>África</td>\n",
       "      <td>África</td>\n",
       "      <td>NaN</td>\n",
       "    </tr>\n",
       "    <tr>\n",
       "      <th>1023</th>\n",
       "      <td>NAFTA_ESTPRO</td>\n",
       "      <td>Países miembros del NAFTA</td>\n",
       "      <td>Países miembros del NAFTA</td>\n",
       "      <td>NaN</td>\n",
       "    </tr>\n",
       "  </tbody>\n",
       "</table>\n",
       "<p>1024 rows × 4 columns</p>\n",
       "</div>"
      ],
      "text/plain": [
       "            geocodigo                     name_long  \\\n",
       "0                 ABW                         Aruba   \n",
       "1                 AFE  África Oriental y Meridional   \n",
       "2                 AFG                    Afganistán   \n",
       "3                 AFW   África Occidental y Central   \n",
       "4                 AGO                        Angola   \n",
       "...               ...                           ...   \n",
       "1019  DESHUM_AHDI.WOF   Ramificaciones de Occidente   \n",
       "1020              NIR             Irlanda del Norte   \n",
       "1021        CAMCLI_IA        Aviación internacional   \n",
       "1022         F_ESTPRO                        África   \n",
       "1023     NAFTA_ESTPRO     Países miembros del NAFTA   \n",
       "\n",
       "                        name_short iso_2  \n",
       "0                            Aruba    AW  \n",
       "1     África Oriental y Meridional   NaN  \n",
       "2                       Afganistán    AF  \n",
       "3      África Occidental y Central   NaN  \n",
       "4                           Angola    AO  \n",
       "...                            ...   ...  \n",
       "1019   Ramificaciones de Occidente   NaN  \n",
       "1020             Irlanda del Norte   NaN  \n",
       "1021        Aviación internacional   NaN  \n",
       "1022                        África   NaN  \n",
       "1023     Países miembros del NAFTA   NaN  \n",
       "\n",
       "[1024 rows x 4 columns]"
      ]
     },
     "execution_count": 39,
     "metadata": {},
     "output_type": "execute_result"
    }
   ],
   "source": [
    "df_geonomenclador"
   ]
  },
  {
   "cell_type": "markdown",
   "metadata": {},
   "source": [
    "#### <font color = \"gold\"> ¿Por qué hice esto?: posible estrategia para refinar y enriquecer un input (un .txt) que ayude a detectar columnas con información georreferencial de un csv </font>"
   ]
  },
  {
   "cell_type": "code",
   "execution_count": 23,
   "metadata": {},
   "outputs": [
    {
     "name": "stdout",
     "output_type": "stream",
     "text": [
      "['country_name_abbreviation', 'pais', 'partner_name_short_en', 'region', 'iso3_desc', 'partner_region_name_short_es', 'region_code', 'partner_region_id', 'pais_o_region', 'pais_o_grupo_de_paises', 'iso3', 'codigo_pais', 'country_code', 'partner_code', 'iso3c', 'countryname', 'nombre_pais', 'region_name', 'iso3_desc_fundar', 'pais_nombre']\n",
      "['country_name_abbreviation', 'pais', 'partner_name_short_en', 'region', 'iso3_desc', 'partner_region_name_short_es', 'region_code', 'partner_region_id', 'pais_o_region', 'pais_o_grupo_de_paises', 'iso3', 'codigo_pais', 'country_code', 'partner_code', 'iso3c', 'countryname', 'nombre_pais', 'region_name', 'iso3_desc_fundar', 'pais_nombre', 'provincia', 'prov_desc', 'pais_desc', 'continente_fundar', 'provincia_desc', 'code', 'variable', 'provincia_id', 'descripcionpais', 'nom_pcia']\n"
     ]
    }
   ],
   "source": [
    "# valores únicos de la columna GeoNomYes_GeoKeysNo.\n",
    "nuevos_valores = df_GeoNomYes_GeoKeysNo['GeoNomYes_GeoKeysNo'].unique().tolist()\n",
    "\n",
    "new_GeoRefKeys = input_TituloColumnas_geoRef.copy()\n",
    "\n",
    "# por si hay duplicados, vamos a iterar sobre estos valores y añadirlos a input_TituloColumnas_geoRef solo si no están presentes\n",
    "for valor in nuevos_valores:\n",
    "    if valor not in new_GeoRefKeys:\n",
    "        new_GeoRefKeys.append(valor)\n",
    "\n",
    "print(input_TituloColumnas_geoRef)\n",
    "print(new_GeoRefKeys)\n"
   ]
  },
  {
   "cell_type": "markdown",
   "metadata": {},
   "source": [
    "### <font color = \"tomato\"> Se obtiene lo que muestro abajo. Un \"problemita\" de esto es que puede haber columnas que contienen información georreferencial pero que pueden llamarse de alguna manera \"poco representativa\", como por ejemplo <i> variable </i> </font>.\n",
    "Este es el caso de ISA_salarios_region_i2.csv\n",
    "\n",
    "### <font color = \"tomato\"> Entonces, el siguiente input sería útil, pero no suficiente: </i> </font>\n",
    "\n",
    "<b> new_GeoRefKeys: </b>\n",
    "['country_name_abbreviation', 'pais', 'partner_name_short_en', 'region', 'iso3_desc', 'partner_region_name_short_es', 'region_code', 'partner_region_id', 'pais_o_region', 'pais_o_grupo_de_paises', 'iso3', 'codigo_pais', 'country_code', 'partner_code', 'iso3c', 'countryname', 'nombre_pais', 'region_name', 'iso3_desc_fundar', 'pais_nombre', 'variable', 'prov_desc', 'pais_desc', 'provincia', 'provincia_id', 'code', 'descripcionpais', 'continente_fundar', 'nom_pcia', 'provincia_desc']\n",
    "\n",
    "\n",
    "### <font color = \"tomato\"> Pues no toda columna que se llame <i> variable </i> será georreferencia, sentido común. </i> </font>\n"
   ]
  },
  {
   "cell_type": "code",
   "execution_count": 24,
   "metadata": {},
   "outputs": [
    {
     "name": "stdout",
     "output_type": "stream",
     "text": [
      "      anio        pais iso3  diferencia_inb_pbi\n",
      "0     1960  Afganistan  AFG            2.066102\n",
      "1     1961  Afganistan  AFG            2.024294\n",
      "2     1962  Afganistan  AFG            2.032524\n",
      "3     1963  Afganistan  AFG            2.071000\n",
      "4     1964  Afganistan  AFG            1.944440\n",
      "...    ...         ...  ...                 ...\n",
      "8941  2018    Zimbabwe  ZWE           -2.087977\n",
      "8942  2019    Zimbabwe  ZWE           -1.577477\n",
      "8943  2020    Zimbabwe  ZWE           -2.222734\n",
      "8944  2021    Zimbabwe  ZWE           -2.463721\n",
      "8945  2022    Zimbabwe  ZWE           -2.791389\n",
      "\n",
      "[8946 rows x 4 columns]\n"
     ]
    },
    {
     "data": {
      "application/vnd.microsoft.datawrangler.viewer.v0+json": {
       "columns": [
        {
         "name": "index",
         "rawType": "int64",
         "type": "integer"
        },
        {
         "name": "TOPICO",
         "rawType": "object",
         "type": "string"
        },
        {
         "name": "archivo_csv",
         "rawType": "object",
         "type": "string"
        },
        {
         "name": "columnaGeorreferencia_80percGeoNom",
         "rawType": "object",
         "type": "string"
        }
       ],
       "conversionMethod": "pd.DataFrame",
       "ref": "eb4face9-724d-41df-ab7a-614b95fffce8",
       "rows": [
        [
         "0",
         "SEBACO",
         "22_participacion_expo_sbc.csv",
         "iso3"
        ],
        [
         "1",
         "SEBACO",
         "25_impo_x_socio_comercial_arg.csv",
         "iso3"
        ],
        [
         "2",
         "SEBACO",
         "23_participacion_expo_ssi.csv",
         "iso3"
        ],
        [
         "3",
         "SEBACO",
         "06_empleo_sbc_provincia.csv",
         "provincia"
        ],
        [
         "4",
         "SEBACO",
         "24_expo_x_socio_comercial_arg.csv",
         "iso3"
        ],
        [
         "5",
         "ESTPRO",
         "va_sectorial_pais.csv",
         "iso3"
        ],
        [
         "6",
         "ESTPRO",
         "va_sectorial_pais.csv",
         "iso3_desc_fundar"
        ],
        [
         "7",
         "ESTPRO",
         "densidad_empresarial_depto.csv",
         "provincia"
        ],
        [
         "8",
         "ESTPRO",
         "particip_va_intensivos_id_bys.csv",
         "iso3"
        ],
        [
         "9",
         "ESTPRO",
         "particip_va_intensivos_id_bys.csv",
         "iso3_desc_fundar"
        ],
        [
         "10",
         "ESTPRO",
         "va_por_trabajador_pais.csv",
         "iso3"
        ],
        [
         "11",
         "ESTPRO",
         "va_por_trabajador_pais.csv",
         "iso3_desc_fundar"
        ],
        [
         "12",
         "ESTPRO",
         "vab_sectorial_provincia.csv",
         "provincia"
        ],
        [
         "13",
         "ESTPRO",
         "productividad_internacional.csv",
         "iso3"
        ],
        [
         "14",
         "ESTPRO",
         "va_sectorial_pais_bys.csv",
         "iso3"
        ],
        [
         "15",
         "ESTPRO",
         "va_sectorial_pais_bys.csv",
         "iso3_desc_fundar"
        ],
        [
         "16",
         "ESTPRO",
         "empleo_invdes_tim_ocde.csv",
         "iso3"
        ],
        [
         "17",
         "ESTPRO",
         "pib_por_ocupado.csv",
         "iso3"
        ],
        [
         "18",
         "ESTPRO",
         "pib_por_ocupado.csv",
         "pais_nombre"
        ],
        [
         "19",
         "ESTPRO",
         "empn_tim_ocde.csv",
         "iso3"
        ],
        [
         "20",
         "ESTPRO",
         "empleo_sectores_ggdc_1950_2018.csv",
         "iso3"
        ],
        [
         "21",
         "ESTPRO",
         "densidad_nbi.csv",
         "provincia"
        ],
        [
         "22",
         "ESTPRO",
         "densidad_nbi.csv",
         "region"
        ],
        [
         "23",
         "MERTRA",
         "tasa_empleo_por_franja_etaria_anio_provincia.csv",
         "prov_desc"
        ],
        [
         "24",
         "MERTRA",
         "trabajo_no_remunerado_sexo_internacional.csv",
         "iso3"
        ],
        [
         "25",
         "MERTRA",
         "trabajo_no_remunerado_sexo_internacional.csv",
         "pais_desc"
        ],
        [
         "26",
         "MERTRA",
         "trabajo_no_remunerado_sexo_internacional.csv",
         "continente_fundar"
        ],
        [
         "27",
         "MERTRA",
         "tasa_empleo_menores_provincia.csv",
         "provincia"
        ],
        [
         "28",
         "MERTRA",
         "tasa_empleo_provincia_nivel_educativo.csv",
         "provincia"
        ],
        [
         "29",
         "MERTRA",
         "tasa_empleo_anio_provincia_sexo.csv",
         "provincia"
        ],
        [
         "30",
         "MERTRA",
         "tasa_empleo_anio_provincia.csv",
         "provincia"
        ],
        [
         "31",
         "MERTRA",
         "puestos_percapita_anio_pais.csv",
         "iso3"
        ],
        [
         "32",
         "MERTRA",
         "ratio_tasa_actividad_mujer_varon_por_pais_anio.csv",
         "iso3"
        ],
        [
         "33",
         "MERTRA",
         "tasa_actividad_por_pais_anio.csv",
         "iso3"
        ],
        [
         "34",
         "MERTRA",
         "tasa_actividad_por_pais_anio.csv",
         "iso3_desc"
        ],
        [
         "35",
         "MERTRA",
         "establecimientos_tasa_empleo_provincia.csv",
         "provincia_desc"
        ],
        [
         "36",
         "MERTRA",
         "lavarropas_tasa_empleo_fem_provincia.csv",
         "prov_desc"
        ],
        [
         "37",
         "MERTRA",
         "tasa_empleo_mujer_salario_provincia_anio.csv",
         "provincia"
        ],
        [
         "38",
         "DESIGU",
         "ISA_movilidad_i2.csv",
         "code"
        ],
        [
         "39",
         "DESIGU",
         "ISA_regiones_i1.csv",
         "variable"
        ],
        [
         "40",
         "DESIGU",
         "ISA_mundo_i1.csv",
         "code"
        ],
        [
         "41",
         "DESIGU",
         "ISA_mundo_i2.csv",
         "code"
        ],
        [
         "42",
         "CRECIM",
         "pib_per_capita_historico_relativo_arg.csv",
         "iso3"
        ],
        [
         "43",
         "CRECIM",
         "provincia_part_vab.csv",
         "provincia_id"
        ],
        [
         "44",
         "CRECIM",
         "provincia_pib_pc.csv",
         "provincia_id"
        ],
        [
         "45",
         "CRECIM",
         "pib_absoluto_per_capita.csv",
         "iso3"
        ],
        [
         "46",
         "CRECIM",
         "pib_absoluto_per_capita.csv",
         "pais_nombre"
        ],
        [
         "47",
         "CRECIM",
         "pib_per_capita_historico.csv",
         "iso3"
        ],
        [
         "48",
         "CRECIM",
         "pib_pc_ppp.csv",
         "iso3"
        ],
        [
         "49",
         "CRECIM",
         "provincia_pib_pc_relativo.csv",
         "provincia_id"
        ]
       ],
       "shape": {
        "columns": 3,
        "rows": 220
       }
      },
      "text/html": [
       "<div>\n",
       "<style scoped>\n",
       "    .dataframe tbody tr th:only-of-type {\n",
       "        vertical-align: middle;\n",
       "    }\n",
       "\n",
       "    .dataframe tbody tr th {\n",
       "        vertical-align: top;\n",
       "    }\n",
       "\n",
       "    .dataframe thead th {\n",
       "        text-align: right;\n",
       "    }\n",
       "</style>\n",
       "<table border=\"1\" class=\"dataframe\">\n",
       "  <thead>\n",
       "    <tr style=\"text-align: right;\">\n",
       "      <th></th>\n",
       "      <th>TOPICO</th>\n",
       "      <th>archivo_csv</th>\n",
       "      <th>columnaGeorreferencia_80percGeoNom</th>\n",
       "    </tr>\n",
       "  </thead>\n",
       "  <tbody>\n",
       "    <tr>\n",
       "      <th>0</th>\n",
       "      <td>SEBACO</td>\n",
       "      <td>22_participacion_expo_sbc.csv</td>\n",
       "      <td>iso3</td>\n",
       "    </tr>\n",
       "    <tr>\n",
       "      <th>1</th>\n",
       "      <td>SEBACO</td>\n",
       "      <td>25_impo_x_socio_comercial_arg.csv</td>\n",
       "      <td>iso3</td>\n",
       "    </tr>\n",
       "    <tr>\n",
       "      <th>2</th>\n",
       "      <td>SEBACO</td>\n",
       "      <td>23_participacion_expo_ssi.csv</td>\n",
       "      <td>iso3</td>\n",
       "    </tr>\n",
       "    <tr>\n",
       "      <th>3</th>\n",
       "      <td>SEBACO</td>\n",
       "      <td>06_empleo_sbc_provincia.csv</td>\n",
       "      <td>provincia</td>\n",
       "    </tr>\n",
       "    <tr>\n",
       "      <th>4</th>\n",
       "      <td>SEBACO</td>\n",
       "      <td>24_expo_x_socio_comercial_arg.csv</td>\n",
       "      <td>iso3</td>\n",
       "    </tr>\n",
       "    <tr>\n",
       "      <th>...</th>\n",
       "      <td>...</td>\n",
       "      <td>...</td>\n",
       "      <td>...</td>\n",
       "    </tr>\n",
       "    <tr>\n",
       "      <th>215</th>\n",
       "      <td>INFDES</td>\n",
       "      <td>composicion_empleo_ultimo_anio_latam.csv</td>\n",
       "      <td>pais</td>\n",
       "    </tr>\n",
       "    <tr>\n",
       "      <th>216</th>\n",
       "      <td>INFDES</td>\n",
       "      <td>anios_educacion_genero_por_pais.csv</td>\n",
       "      <td>iso3</td>\n",
       "    </tr>\n",
       "    <tr>\n",
       "      <th>217</th>\n",
       "      <td>INFDES</td>\n",
       "      <td>anios_educacion_genero_por_pais.csv</td>\n",
       "      <td>pais</td>\n",
       "    </tr>\n",
       "    <tr>\n",
       "      <th>218</th>\n",
       "      <td>MINERI</td>\n",
       "      <td>minerales_vbp_mundial.csv</td>\n",
       "      <td>codigo_pais</td>\n",
       "    </tr>\n",
       "    <tr>\n",
       "      <th>219</th>\n",
       "      <td>MINERI</td>\n",
       "      <td>minerales_vbp_mundial.csv</td>\n",
       "      <td>pais</td>\n",
       "    </tr>\n",
       "  </tbody>\n",
       "</table>\n",
       "<p>220 rows × 3 columns</p>\n",
       "</div>"
      ],
      "text/plain": [
       "     TOPICO                               archivo_csv  \\\n",
       "0    SEBACO             22_participacion_expo_sbc.csv   \n",
       "1    SEBACO         25_impo_x_socio_comercial_arg.csv   \n",
       "2    SEBACO             23_participacion_expo_ssi.csv   \n",
       "3    SEBACO               06_empleo_sbc_provincia.csv   \n",
       "4    SEBACO         24_expo_x_socio_comercial_arg.csv   \n",
       "..      ...                                       ...   \n",
       "215  INFDES  composicion_empleo_ultimo_anio_latam.csv   \n",
       "216  INFDES       anios_educacion_genero_por_pais.csv   \n",
       "217  INFDES       anios_educacion_genero_por_pais.csv   \n",
       "218  MINERI                 minerales_vbp_mundial.csv   \n",
       "219  MINERI                 minerales_vbp_mundial.csv   \n",
       "\n",
       "    columnaGeorreferencia_80percGeoNom  \n",
       "0                                 iso3  \n",
       "1                                 iso3  \n",
       "2                                 iso3  \n",
       "3                            provincia  \n",
       "4                                 iso3  \n",
       "..                                 ...  \n",
       "215                               pais  \n",
       "216                               iso3  \n",
       "217                               pais  \n",
       "218                        codigo_pais  \n",
       "219                               pais  \n",
       "\n",
       "[220 rows x 3 columns]"
      ]
     },
     "execution_count": 24,
     "metadata": {},
     "output_type": "execute_result"
    }
   ],
   "source": [
    "df_test_columnaPais =  pd.read_csv('/home/lucia/Desktop/Fundar/Argendata_renaming/data/data_argendata/ACECON/A1_inb_pib.csv') # pd.read_csv('/home/capuccino/Desktop/TrabajoFundar/Argendata_renaming/data/data_argendata/ACECON/A1_inb_pib.csv')\n",
    "print(df_test_columnaPais)\n",
    "\n",
    "df_col_80percGeoNom"
   ]
  },
  {
   "cell_type": "markdown",
   "metadata": {},
   "source": [
    "\n",
    "'/home/capuccino/Desktop/TrabajoFundar/Argendata_renaming/data/data_argendata/ACECON/A1_inb_pib.csv' contiene la columna pais pero la condición 80% no la leía pues:\n",
    "\n",
    "```\n",
    "total = len(serie)                      # 8946 filas no nulas  \n",
    "matches = 6111                          # sólo esas coincidencias exactas  \n",
    "ratio = matches / total  ≈ 0.683        # 68.3 % < 80 %\n",
    "```\n",
    "\n",
    "<font color = \"gold\"> RESUELTO METIÉNDOME CON HOMOGENEIZAR TEMAS TILDES, TEMA ESPACIOS COMO \"NEA \"/ \"NEA\", Y MAYÚSCULAS </font> "
   ]
  },
  {
   "cell_type": "code",
   "execution_count": 26,
   "metadata": {},
   "outputs": [
    {
     "name": "stdout",
     "output_type": "stream",
     "text": [
      "['iso3_desc', 'pais', 'region', 'countryname', 'country_name_abbreviation', 'partner_name_short_en', 'partner_region_id', 'partner_region_name_short_es', 'pais_o_grupo_de_paises', 'region_name', 'pais_o_region']\n"
     ]
    }
   ],
   "source": [
    "listaColumnas_GeoKeysYes_GeoNomNo = df_GeoKeysYes_GeoNomNo['GeoKeysYes_GeoNomNo'].unique().tolist()\n",
    "print(listaColumnas_GeoKeysYes_GeoNomNo)"
   ]
  },
  {
   "cell_type": "markdown",
   "metadata": {},
   "source": [
    "#  <u> <font color = \"orangered\"> En cuanto a implementar el proceso de renombre: </font> </u>"
   ]
  },
  {
   "cell_type": "code",
   "execution_count": null,
   "metadata": {},
   "outputs": [
    {
     "name": "stdout",
     "output_type": "stream",
     "text": [
      "Tópicos a procesar (prueba): ['ACECON', 'AGROPE', 'CAMCLI']\n",
      "A5_pibpc_propeeuu_ppa_usd.csv en ACECON es MODIFICADO a partir de la columna candidata iso3.\n",
      "\n",
      "Error al guardar /home/capuccino/Desktop/TrabajoFundar/Argendata_renaming/data/data_argendata_new/ACECON/A5_pibpc_propeeuu_ppa_usd.csv: 'ascii' codec can't encode character '\\xe1' in position 45: ordinal not in range(128)\n",
      "8_pib_dist.csv en ACECON NO cumple con la condición georreferencial y se copia sin cambios.\n",
      "Guardado en /home/capuccino/Desktop/TrabajoFundar/Argendata_renaming/data/data_argendata_new/ACECON/8_pib_dist.csv.\n",
      "2_pibpc_salud_edu.csv en ACECON es MODIFICADO a partir de la columna candidata iso3.\n",
      "\n",
      "Error al guardar /home/capuccino/Desktop/TrabajoFundar/Argendata_renaming/data/data_argendata_new/ACECON/2_pibpc_salud_edu.csv: 'ascii' codec can't encode character '\\xed' in position 39: ordinal not in range(128)\n",
      "A3_ipc_ipi.csv en ACECON NO cumple con la condición georreferencial y se copia sin cambios.\n",
      "Guardado en /home/capuccino/Desktop/TrabajoFundar/Argendata_renaming/data/data_argendata_new/ACECON/A3_ipc_ipi.csv.\n",
      "5_pibpc_prop_arg.csv en ACECON es MODIFICADO a partir de la columna candidata iso3.\n",
      "\n",
      "Error al guardar /home/capuccino/Desktop/TrabajoFundar/Argendata_renaming/data/data_argendata_new/ACECON/5_pibpc_prop_arg.csv: 'ascii' codec can't encode character '\\xe9' in position 34: ordinal not in range(128)\n",
      "7_pib_comp_va.csv en ACECON NO cumple con la condición georreferencial y se copia sin cambios.\n",
      "Guardado en /home/capuccino/Desktop/TrabajoFundar/Argendata_renaming/data/data_argendata_new/ACECON/7_pib_comp_va.csv.\n",
      "9_pibpc_ppa_log_1950.csv en ACECON NO cumple con la condición georreferencial y se copia sin cambios.\n",
      "Guardado en /home/capuccino/Desktop/TrabajoFundar/Argendata_renaming/data/data_argendata_new/ACECON/9_pibpc_ppa_log_1950.csv.\n",
      "A1_inb_pib.csv en ACECON es MODIFICADO a partir de la columna candidata iso3.\n",
      "\n",
      "Error al guardar /home/capuccino/Desktop/TrabajoFundar/Argendata_renaming/data/data_argendata_new/ACECON/A1_inb_pib.csv: 'ascii' codec can't encode character '\\xe1' in position 44: ordinal not in range(128)\n",
      "4_pibpc_prop_eeuu.csv en ACECON es MODIFICADO a partir de la columna candidata iso3.\n",
      "\n",
      "Error al guardar /home/capuccino/Desktop/TrabajoFundar/Argendata_renaming/data/data_argendata_new/ACECON/4_pibpc_prop_eeuu.csv: 'ascii' codec can't encode character '\\xe9' in position 33: ordinal not in range(128)\n",
      "A2_pib_prec_corr_prec_cons.csv en ACECON NO cumple con la condición georreferencial y se copia sin cambios.\n",
      "Guardado en /home/capuccino/Desktop/TrabajoFundar/Argendata_renaming/data/data_argendata_new/ACECON/A2_pib_prec_corr_prec_cons.csv.\n",
      "A7_pib_tendencia_ciclo.csv en ACECON NO cumple con la condición georreferencial y se copia sin cambios.\n",
      "Guardado en /home/capuccino/Desktop/TrabajoFundar/Argendata_renaming/data/data_argendata_new/ACECON/A7_pib_tendencia_ciclo.csv.\n",
      "A6_uci.csv en ACECON NO cumple con la condición georreferencial y se copia sin cambios.\n",
      "Guardado en /home/capuccino/Desktop/TrabajoFundar/Argendata_renaming/data/data_argendata_new/ACECON/A6_uci.csv.\n",
      "6_pib_comp_dem_ag.csv en ACECON NO cumple con la condición georreferencial y se copia sin cambios.\n",
      "Guardado en /home/capuccino/Desktop/TrabajoFundar/Argendata_renaming/data/data_argendata_new/ACECON/6_pib_comp_dem_ag.csv.\n",
      "A4_efecto_bs.csv en ACECON es MODIFICADO a partir de la columna candidata iso3.\n",
      "\n",
      "Error al guardar /home/capuccino/Desktop/TrabajoFundar/Argendata_renaming/data/data_argendata_new/ACECON/A4_efecto_bs.csv: 'ascii' codec can't encode character '\\xe1' in position 43: ordinal not in range(128)\n",
      "1_pib_pibpc_pob_arg_esp.csv en ACECON es MODIFICADO a partir de la columna candidata iso3.\n",
      "\n",
      "Error al guardar /home/capuccino/Desktop/TrabajoFundar/Argendata_renaming/data/data_argendata_new/ACECON/1_pib_pibpc_pob_arg_esp.csv: 'ascii' codec can't encode character '\\xe9' in position 40: ordinal not in range(128)\n",
      "3_pibpc_prec_cons.csv en ACECON NO cumple con la condición georreferencial y se copia sin cambios.\n",
      "Guardado en /home/capuccino/Desktop/TrabajoFundar/Argendata_renaming/data/data_argendata_new/ACECON/3_pibpc_prec_cons.csv.\n",
      "A8_pib_desestacionalizado.csv en ACECON NO cumple con la condición georreferencial y se copia sin cambios.\n",
      "Guardado en /home/capuccino/Desktop/TrabajoFundar/Argendata_renaming/data/data_argendata_new/ACECON/A8_pib_desestacionalizado.csv.\n",
      "share_cultivos.csv en AGROPE NO cumple con la condición georreferencial y se copia sin cambios.\n",
      "Guardado en /home/capuccino/Desktop/TrabajoFundar/Argendata_renaming/data/data_argendata_new/AGROPE/share_cultivos.csv.\n",
      "share_carne_expo_paises_seleccionados_1962_2021.csv en AGROPE es MODIFICADO a partir de la columna candidata iso3.\n",
      "Guardado en /home/capuccino/Desktop/TrabajoFundar/Argendata_renaming/data/data_argendata_new/AGROPE/share_carne_expo_paises_seleccionados_1962_2021.csv.\n",
      "pbi_agro.csv en AGROPE NO cumple con la condición georreferencial y se copia sin cambios.\n",
      "Guardado en /home/capuccino/Desktop/TrabajoFundar/Argendata_renaming/data/data_argendata_new/AGROPE/pbi_agro.csv.\n",
      "produccion_carne_tipos_arg_evo.csv en AGROPE NO cumple con la condición georreferencial y se copia sin cambios.\n",
      "Guardado en /home/capuccino/Desktop/TrabajoFundar/Argendata_renaming/data/data_argendata_new/AGROPE/produccion_carne_tipos_arg_evo.csv.\n",
      "insercion_internacional_CAA.csv en AGROPE NO cumple con la condición georreferencial y se copia sin cambios.\n",
      "Guardado en /home/capuccino/Desktop/TrabajoFundar/Argendata_renaming/data/data_argendata_new/AGROPE/insercion_internacional_CAA.csv.\n",
      "produccion_maiz_paises_evo.csv en AGROPE es MODIFICADO a partir de la columna candidata iso3.\n",
      "Guardado en /home/capuccino/Desktop/TrabajoFundar/Argendata_renaming/data/data_argendata_new/AGROPE/produccion_maiz_paises_evo.csv.\n",
      "exportaciones_pesca_argentina_evo.csv en AGROPE NO cumple con la condición georreferencial y se copia sin cambios.\n",
      "Guardado en /home/capuccino/Desktop/TrabajoFundar/Argendata_renaming/data/data_argendata_new/AGROPE/exportaciones_pesca_argentina_evo.csv.\n",
      "consumo_peces_percapita_global_2020.csv en AGROPE es MODIFICADO a partir de la columna candidata iso3.\n",
      "Guardado en /home/capuccino/Desktop/TrabajoFundar/Argendata_renaming/data/data_argendata_new/AGROPE/consumo_peces_percapita_global_2020.csv.\n",
      "evolucion_vab_constantes_tipo_cadenas.csv en AGROPE NO cumple con la condición georreferencial y se copia sin cambios.\n",
      "Guardado en /home/capuccino/Desktop/TrabajoFundar/Argendata_renaming/data/data_argendata_new/AGROPE/evolucion_vab_constantes_tipo_cadenas.csv.\n",
      "PBG_participacion_agro_provincia_evolucion.csv en AGROPE es MODIFICADO a partir de la columna candidata nom_pcia.\n",
      "Guardado en /home/capuccino/Desktop/TrabajoFundar/Argendata_renaming/data/data_argendata_new/AGROPE/PBG_participacion_agro_provincia_evolucion.csv.\n",
      "produccion_principales_cultivos.csv en AGROPE NO cumple con la condición georreferencial y se copia sin cambios.\n",
      "Guardado en /home/capuccino/Desktop/TrabajoFundar/Argendata_renaming/data/data_argendata_new/AGROPE/produccion_principales_cultivos.csv.\n",
      "rindes_soja_internacional.csv en AGROPE es MODIFICADO a partir de la columna candidata iso3.\n",
      "Guardado en /home/capuccino/Desktop/TrabajoFundar/Argendata_renaming/data/data_argendata_new/AGROPE/rindes_soja_internacional.csv.\n",
      "indices_precios_exportacion.csv en AGROPE NO cumple con la condición georreferencial y se copia sin cambios.\n",
      "Guardado en /home/capuccino/Desktop/TrabajoFundar/Argendata_renaming/data/data_argendata_new/AGROPE/indices_precios_exportacion.csv.\n",
      "produccion_soja_paises_evo.csv en AGROPE es MODIFICADO a partir de la columna candidata iso3.\n",
      "Guardado en /home/capuccino/Desktop/TrabajoFundar/Argendata_renaming/data/data_argendata_new/AGROPE/produccion_soja_paises_evo.csv.\n",
      "produccion_acuicultura_argentina_evo.csv en AGROPE NO cumple con la condición georreferencial y se copia sin cambios.\n",
      "Guardado en /home/capuccino/Desktop/TrabajoFundar/Argendata_renaming/data/data_argendata_new/AGROPE/produccion_acuicultura_argentina_evo.csv.\n",
      "superficie_agricultura_paises_evo.csv en AGROPE es MODIFICADO a partir de la columna candidata iso3.\n",
      "Guardado en /home/capuccino/Desktop/TrabajoFundar/Argendata_renaming/data/data_argendata_new/AGROPE/superficie_agricultura_paises_evo.csv.\n",
      "share_carne_expo_argentinas_1962_2021.csv en AGROPE es MODIFICADO a partir de la columna candidata iso3.\n",
      "Guardado en /home/capuccino/Desktop/TrabajoFundar/Argendata_renaming/data/data_argendata_new/AGROPE/share_carne_expo_argentinas_1962_2021.csv.\n",
      "superficie_sembrada_principales_cultivos.csv en AGROPE NO cumple con la condición georreferencial y se copia sin cambios.\n",
      "Guardado en /home/capuccino/Desktop/TrabajoFundar/Argendata_renaming/data/data_argendata_new/AGROPE/superficie_sembrada_principales_cultivos.csv.\n",
      "produccion_global_carne_aviar_2021.csv en AGROPE es MODIFICADO a partir de la columna candidata iso3.\n",
      "Guardado en /home/capuccino/Desktop/TrabajoFundar/Argendata_renaming/data/data_argendata_new/AGROPE/produccion_global_carne_aviar_2021.csv.\n",
      "pesca_especie_arg_evo.csv en AGROPE NO cumple con la condición georreferencial y se copia sin cambios.\n",
      "Guardado en /home/capuccino/Desktop/TrabajoFundar/Argendata_renaming/data/data_argendata_new/AGROPE/pesca_especie_arg_evo.csv.\n",
      "produccion_acuicultura_global_2021.csv en AGROPE es MODIFICADO a partir de la columna candidata iso3.\n",
      "Guardado en /home/capuccino/Desktop/TrabajoFundar/Argendata_renaming/data/data_argendata_new/AGROPE/produccion_acuicultura_global_2021.csv.\n",
      "comex_arg_agroindustria_MOA_PP_evo.csv en AGROPE NO cumple con la condición georreferencial y se copia sin cambios.\n",
      "Guardado en /home/capuccino/Desktop/TrabajoFundar/Argendata_renaming/data/data_argendata_new/AGROPE/comex_arg_agroindustria_MOA_PP_evo.csv.\n",
      "produccion_global_carne_bovina_2021.csv en AGROPE es MODIFICADO a partir de la columna candidata iso3.\n",
      "Guardado en /home/capuccino/Desktop/TrabajoFundar/Argendata_renaming/data/data_argendata_new/AGROPE/produccion_global_carne_bovina_2021.csv.\n",
      "rindes_trigo_internacional.csv en AGROPE es MODIFICADO a partir de la columna candidata iso3.\n",
      "Guardado en /home/capuccino/Desktop/TrabajoFundar/Argendata_renaming/data/data_argendata_new/AGROPE/rindes_trigo_internacional.csv.\n",
      "apertura_cuentas_actividad_agropecuaria.csv en AGROPE NO cumple con la condición georreferencial y se copia sin cambios.\n",
      "Guardado en /home/capuccino/Desktop/TrabajoFundar/Argendata_renaming/data/data_argendata_new/AGROPE/apertura_cuentas_actividad_agropecuaria.csv.\n",
      "participacion_CAA_PIB_arg_evo.csv en AGROPE NO cumple con la condición georreferencial y se copia sin cambios.\n",
      "Guardado en /home/capuccino/Desktop/TrabajoFundar/Argendata_renaming/data/data_argendata_new/AGROPE/participacion_CAA_PIB_arg_evo.csv.\n",
      "participacion_PIB_pesca_PIB_evo.csv en AGROPE NO cumple con la condición georreferencial y se copia sin cambios.\n",
      "Guardado en /home/capuccino/Desktop/TrabajoFundar/Argendata_renaming/data/data_argendata_new/AGROPE/participacion_PIB_pesca_PIB_evo.csv.\n",
      "consumo_carne_tipos_arg_evo.csv en AGROPE NO cumple con la condición georreferencial y se copia sin cambios.\n",
      "Guardado en /home/capuccino/Desktop/TrabajoFundar/Argendata_renaming/data/data_argendata_new/AGROPE/consumo_carne_tipos_arg_evo.csv.\n",
      "participacion_tipos_CAA_VAB.csv en AGROPE NO cumple con la condición georreferencial y se copia sin cambios.\n",
      "Guardado en /home/capuccino/Desktop/TrabajoFundar/Argendata_renaming/data/data_argendata_new/AGROPE/participacion_tipos_CAA_VAB.csv.\n",
      "participacion_agropecuario.csv en AGROPE NO cumple con la condición georreferencial y se copia sin cambios.\n",
      "Guardado en /home/capuccino/Desktop/TrabajoFundar/Argendata_renaming/data/data_argendata_new/AGROPE/participacion_agropecuario.csv.\n",
      "rindes_principales_cultivos.csv en AGROPE NO cumple con la condición georreferencial y se copia sin cambios.\n",
      "Guardado en /home/capuccino/Desktop/TrabajoFundar/Argendata_renaming/data/data_argendata_new/AGROPE/rindes_principales_cultivos.csv.\n",
      "produccion_global_carne_bovina_evo.csv en AGROPE es MODIFICADO a partir de la columna candidata iso3.\n",
      "Guardado en /home/capuccino/Desktop/TrabajoFundar/Argendata_renaming/data/data_argendata_new/AGROPE/produccion_global_carne_bovina_evo.csv.\n",
      "rindes_maiz_internacional.csv en AGROPE es MODIFICADO a partir de la columna candidata iso3.\n",
      "Guardado en /home/capuccino/Desktop/TrabajoFundar/Argendata_renaming/data/data_argendata_new/AGROPE/rindes_maiz_internacional.csv.\n",
      "consumo_carne_tipos_mundo_2020.csv en AGROPE es MODIFICADO a partir de la columna candidata iso3.\n",
      "Guardado en /home/capuccino/Desktop/TrabajoFundar/Argendata_renaming/data/data_argendata_new/AGROPE/consumo_carne_tipos_mundo_2020.csv.\n",
      "stock_bovina_regiones_argentina.csv en AGROPE es MODIFICADO a partir de la columna candidata region.\n",
      "Guardado en /home/capuccino/Desktop/TrabajoFundar/Argendata_renaming/data/data_argendata_new/AGROPE/stock_bovina_regiones_argentina.csv.\n",
      "agro_global_b.csv en AGROPE es MODIFICADO a partir de la columna candidata iso3c.\n",
      "Guardado en /home/capuccino/Desktop/TrabajoFundar/Argendata_renaming/data/data_argendata_new/AGROPE/agro_global_b.csv.\n",
      "agro_global.csv en AGROPE es MODIFICADO a partir de la columna candidata iso3c.\n",
      "Guardado en /home/capuccino/Desktop/TrabajoFundar/Argendata_renaming/data/data_argendata_new/AGROPE/agro_global.csv.\n",
      "emisiones_afolu_1990_2018.csv en CAMCLI NO cumple con la condición georreferencial y se copia sin cambios.\n",
      "Guardado en /home/capuccino/Desktop/TrabajoFundar/Argendata_renaming/data/data_argendata_new/CAMCLI/emisiones_afolu_1990_2018.csv.\n",
      "emisiones_prov_2010_2018.csv en CAMCLI NO cumple con la condición georreferencial y se copia sin cambios.\n",
      "Guardado en /home/capuccino/Desktop/TrabajoFundar/Argendata_renaming/data/data_argendata_new/CAMCLI/emisiones_prov_2010_2018.csv.\n",
      "emisiones_anuales_co2_region.csv en CAMCLI es MODIFICADO a partir de la columna candidata iso3.\n",
      "Guardado en /home/capuccino/Desktop/TrabajoFundar/Argendata_renaming/data/data_argendata_new/CAMCLI/emisiones_anuales_co2_region.csv.\n",
      "emisiones_per_cap.csv en CAMCLI es MODIFICADO a partir de la columna candidata iso3.\n",
      "\n",
      "Error al guardar /home/capuccino/Desktop/TrabajoFundar/Argendata_renaming/data/data_argendata_new/CAMCLI/emisiones_per_cap.csv: 'ascii' codec can't encode character '\\xe1' in position 34: ordinal not in range(128)\n",
      "emisiones_energia_1990_2018.csv en CAMCLI NO cumple con la condición georreferencial y se copia sin cambios.\n",
      "Guardado en /home/capuccino/Desktop/TrabajoFundar/Argendata_renaming/data/data_argendata_new/CAMCLI/emisiones_energia_1990_2018.csv.\n",
      "emisiones_global_sec_1850_2014.csv en CAMCLI NO cumple con la condición georreferencial y se copia sin cambios.\n",
      "Guardado en /home/capuccino/Desktop/TrabajoFundar/Argendata_renaming/data/data_argendata_new/CAMCLI/emisiones_global_sec_1850_2014.csv.\n",
      "emisiones_arg_1990_2018.csv en CAMCLI NO cumple con la condición georreferencial y se copia sin cambios.\n",
      "Guardado en /home/capuccino/Desktop/TrabajoFundar/Argendata_renaming/data/data_argendata_new/CAMCLI/emisiones_arg_1990_2018.csv.\n",
      "emisiones_piup_1990_2018.csv en CAMCLI NO cumple con la condición georreferencial y se copia sin cambios.\n",
      "Guardado en /home/capuccino/Desktop/TrabajoFundar/Argendata_renaming/data/data_argendata_new/CAMCLI/emisiones_piup_1990_2018.csv.\n",
      "emisiones_anuales_co2_region_2021.csv en CAMCLI es MODIFICADO a partir de la columna candidata iso3.\n",
      "Guardado en /home/capuccino/Desktop/TrabajoFundar/Argendata_renaming/data/data_argendata_new/CAMCLI/emisiones_anuales_co2_region_2021.csv.\n",
      "emisiones_arg_sec_1990_2018.csv en CAMCLI NO cumple con la condición georreferencial y se copia sin cambios.\n",
      "Guardado en /home/capuccino/Desktop/TrabajoFundar/Argendata_renaming/data/data_argendata_new/CAMCLI/emisiones_arg_sec_1990_2018.csv.\n",
      "evolucion_temperatura_1850_2023.csv en CAMCLI NO cumple con la condición georreferencial y se copia sin cambios.\n",
      "Guardado en /home/capuccino/Desktop/TrabajoFundar/Argendata_renaming/data/data_argendata_new/CAMCLI/evolucion_temperatura_1850_2023.csv.\n",
      "06_evolucion_nivel_del_mar_1993_2022.csv en CAMCLI NO cumple con la condición georreferencial y se copia sin cambios.\n",
      "Guardado en /home/capuccino/Desktop/TrabajoFundar/Argendata_renaming/data/data_argendata_new/CAMCLI/06_evolucion_nivel_del_mar_1993_2022.csv.\n",
      "evolucion_temperatura_aire_1850_2020.csv en CAMCLI NO cumple con la condición georreferencial y se copia sin cambios.\n",
      "Guardado en /home/capuccino/Desktop/TrabajoFundar/Argendata_renaming/data/data_argendata_new/CAMCLI/evolucion_temperatura_aire_1850_2020.csv.\n",
      "emisiones_subsec_arg_2018.csv en CAMCLI NO cumple con la condición georreferencial y se copia sin cambios.\n",
      "Guardado en /home/capuccino/Desktop/TrabajoFundar/Argendata_renaming/data/data_argendata_new/CAMCLI/emisiones_subsec_arg_2018.csv.\n",
      "emisiones_residuos_1990_2018.csv en CAMCLI NO cumple con la condición georreferencial y se copia sin cambios.\n",
      "Guardado en /home/capuccino/Desktop/TrabajoFundar/Argendata_renaming/data/data_argendata_new/CAMCLI/emisiones_residuos_1990_2018.csv.\n",
      "emisiones_arg_mundo.csv en CAMCLI es MODIFICADO a partir de la columna candidata region.\n",
      "Guardado en /home/capuccino/Desktop/TrabajoFundar/Argendata_renaming/data/data_argendata_new/CAMCLI/emisiones_arg_mundo.csv.\n",
      "emisiones_vab_provincias.csv en CAMCLI es MODIFICADO a partir de la columna candidata provincia.\n",
      "Guardado en /home/capuccino/Desktop/TrabajoFundar/Argendata_renaming/data/data_argendata_new/CAMCLI/emisiones_vab_provincias.csv.\n",
      "emisiones_anuales_co2_ch4_n20_1850_2022.csv en CAMCLI NO cumple con la condición georreferencial y se copia sin cambios.\n",
      "Guardado en /home/capuccino/Desktop/TrabajoFundar/Argendata_renaming/data/data_argendata_new/CAMCLI/emisiones_anuales_co2_ch4_n20_1850_2022.csv.\n",
      "01_evolucion_CO2_historico.csv en CAMCLI NO cumple con la condición georreferencial y se copia sin cambios.\n",
      "Guardado en /home/capuccino/Desktop/TrabajoFundar/Argendata_renaming/data/data_argendata_new/CAMCLI/01_evolucion_CO2_historico.csv.\n",
      "emisiones_sector_global_2016.csv en CAMCLI NO cumple con la condición georreferencial y se copia sin cambios.\n",
      "Guardado en /home/capuccino/Desktop/TrabajoFundar/Argendata_renaming/data/data_argendata_new/CAMCLI/emisiones_sector_global_2016.csv.\n"
     ]
    }
   ],
   "source": [
    "# ruta original de topicos argendata con sus csv\n",
    "src_dir = '/home/capuccino/Desktop/TrabajoFundar/Argendata_renaming/data/data_argendata'\n",
    "# destino se va a guardar la nueva estructura con csv modificados y/o copiados sin cambio\n",
    "dest_dir = '/home/capuccino/Desktop/TrabajoFundar/Argendata_renaming/data/data_argendata_new'\n",
    "\n",
    "#%% PREPARO LA ESTRUCTURA DEL DESTINO FINAL\n",
    "\n",
    "# copio la estructura de las carpetas (tópicos) de la ruta original\n",
    "topics_all = []\n",
    "for item in os.listdir(src_dir):\n",
    "    item_path = os.path.join(src_dir, item)\n",
    "    if os.path.isdir(item_path) and item not in ['LICENSE', 'README.md']:\n",
    "        topics_all.append(item)\n",
    "\n",
    "# primeros 3 topicos para la prueba\n",
    "topics_to_process = sorted(topics_all)[:3] #orden alfabetico para comparar \"mas facil\" mientras veo los topicos y archivos\n",
    "print('Tópicos a procesar (prueba):', topics_to_process)\n",
    "\n",
    "# voy a trabajar las partes claves, para mi, del geonomenclador como un diccionario, por facilidad\n",
    "# la columna 'geocodigo' como key y 'name_long' su valor\n",
    "geo_busqueda = {}\n",
    "for idx in range(len(df_geonomenclador)):\n",
    "    key_val = str(df_geonomenclador.loc[idx, 'geocodigo']).strip()    # evitar problemitas como: \"AFW\" y \"AFW \"\n",
    "    name_val = df_geonomenclador.loc[idx, 'name_long']\n",
    "    geo_busqueda[key_val] = (key_val, name_val)\n",
    "\n",
    "#%% PASEO POR CADA TOPICO Y SUS .csv\n",
    "\n",
    "for topic in topics_to_process:\n",
    "    src_topic_dir = os.path.join(src_dir, topic)        \n",
    "    dest_topic_dir = os.path.join(dest_dir, topic)\n",
    "\n",
    "    # crear la carpeta de destino en base a la estructura de la de origen\n",
    "    if not os.path.exists(dest_topic_dir):\n",
    "        os.makedirs(dest_topic_dir)\n",
    "\n",
    "    # listita de los archivos del tópico\n",
    "    csv_files = [] \n",
    "    for f in os.listdir(src_topic_dir):\n",
    "        if f.endswith('.csv'):\n",
    "            csv_files.append(f)\n",
    "\n",
    "    for csv_file in csv_files:\n",
    "\n",
    "        #%% BUSCAR EN df_codificacion la fila que tenga TOPICO == topic y archivo_csv == csv_file del .csv de interés\n",
    "\n",
    "        encoding = None\n",
    "        delimiter = None\n",
    "        for j in range(len(df_codificacion)):\n",
    "            if df_codificacion.loc[j, 'TOPICO'] == topic and df_codificacion.loc[j, 'archivo_csv'] == csv_file:\n",
    "                encoding = df_codificacion.loc[j, 'encoding']\n",
    "                delimiter = df_codificacion.loc[j, 'delimiter']\n",
    "                break # corto cuando encuentra el encoding y delimiter del .csv \n",
    "        if encoding is None or delimiter is None:\n",
    "            #esto por si alguien después lo corre sin actualizar el df_codificacion\n",
    "            print(f'Información de encoding-delimiter no encontrada para {csv_file} en tópico {topic}. Se omite archivo.') \n",
    "            continue\n",
    "\n",
    "        src_csv_path = os.path.join(src_topic_dir, csv_file)\n",
    "        try:\n",
    "            df_csv = pd.read_csv(src_csv_path, encoding = encoding, delimiter = delimiter)\n",
    "        except Exception as e:\n",
    "            print(f'Error al leer {src_csv_path}: {e}') #esto por si alguien después lo corre sin actualizar el df_codificacion\n",
    "            continue\n",
    "\n",
    "        #%% EXPLORAR Y VERIFICAR LA CONDICIÓN DEL 80% DE INFORMACIÓN GEORREFERENCIAL, SEGÚN EL GEONOMENCLADOR\n",
    "        candidate_col = None  # si una columna cumple la condición la guardo acá\n",
    "        for col in df_csv.columns:\n",
    "            series_csv = df_csv[col].dropna().astype(str) # columna a string y eliminar valores nulos\n",
    "            if len(series_csv) == 0:\n",
    "                continue  # si la columna queda vacía, seguimos\n",
    "            total_count = len(series_csv)\n",
    "            qualifies = False  # como hice antes, lo uso para indicar si esta columna cumple la condición\n",
    "\n",
    "            # para cada columna del geonomenclador, comprobamos si al menos el 80% de los valores aparece\n",
    "            for geo_col in df_geonomenclador.columns:\n",
    "                set_geo = set(df_geonomenclador[geo_col].dropna().astype(str)) # uso set por lo que ya conté antes\n",
    "                match_count = 0\n",
    "                for valor in series_csv:\n",
    "                    if valor in set_geo:\n",
    "                        match_count += 1\n",
    "                if match_count / total_count >= 0.8:\n",
    "                    qualifies = True\n",
    "                    break  # se encontró que esta columna del .csv cumple la condición con alguna columna del geonomenclador\n",
    "\n",
    "            if qualifies:\n",
    "                candidate_col = col\n",
    "                break  # estoy tomando la primera columna que cumple la condición, aclaro por las observaciones de antes\n",
    "\n",
    "        #%% MODIFICAMOS EL .csv O LO COPIAMOS\n",
    "        if candidate_col is not None:\n",
    "            # si encontramos columna candidata, se agregan las columnas codigo_geo y nombre_largo (era para no marearme con los del geonomenclador_export)\n",
    "            nuevo_codigo_geo = []\n",
    "            nuevo_nombre_largo = []\n",
    "            for idx in range(len(df_csv)):\n",
    "                # tomamos el valor en la columna candidata y lo convertimos a string\n",
    "                value = str(df_csv.loc[idx, candidate_col]).strip()\n",
    "                # hacemos la exploracion en el geo_busqueda -> si no se encuentra la key, queda None\n",
    "                if value in geo_busqueda:\n",
    "                    nuevo_codigo_geo.append(geo_busqueda[value][0])\n",
    "                    nuevo_nombre_largo.append(geo_busqueda[value][1])\n",
    "                else:\n",
    "                    nuevo_codigo_geo.append(None)\n",
    "                    nuevo_nombre_largo.append(None)\n",
    "            # agregamos las dos columnas nuevas al df del correspondiente .csv\n",
    "            df_csv['codigo_geo'] = nuevo_codigo_geo\n",
    "            df_csv['nombre_largo'] = nuevo_nombre_largo\n",
    "            print(f'{csv_file} en {topic} es MODIFICADO a partir de la columna candidata {candidate_col}.')\n",
    "        else:\n",
    "            print(f'{csv_file} en {topic} NO cumple con la condición georreferencial y se copia sin cambios.')\n",
    "\n",
    "        #%% GUARDAMOS EL .csv MODIFICADO (O SIN CAMBION) EN EL NUEVO ESQUEMITA\n",
    "        dest_csv_path = os.path.join(dest_topic_dir, csv_file)\n",
    "        try: # así tomo nota de con que .csv tal vez tengo problema\n",
    "            df_csv.to_csv(dest_csv_path, index = False, encoding = encoding) \n",
    "            # index = False para no escribirle al .csv la columna de índices \n",
    "            #  encoding = encoding utiliza la misma codificación que especificamos para leer el archivo originalmente, mantener consistencia\n",
    "            print(f'Guardado en {dest_csv_path}.')\n",
    "        except Exception as e:\n",
    "            print(f'\\nError al guardar {dest_csv_path}: {e}')"
   ]
  },
  {
   "cell_type": "markdown",
   "metadata": {},
   "source": [
    "### <font color = \"tomato\"> Renaming para los 3 primeros tópicos en orden ACECON, AGROPE, CAMCLI: </font>\n",
    "\n",
    "- v1 del renaming: estoy usando solo la información del geonomenclador\n",
    "\n",
    "- la estructura de la nueva carpetam sale joya\n",
    "\n",
    "- mucho caso de éxito (?). Por ejemplo: \n",
    "\n",
    "produccion_global_carne_aviar_2021.csv en AGROPE es MODIFICADO a partir de la columna candidata iso3.\n",
    "Guardado en /home/lucia/Desktop/Fundar/Argendata_renaming/data/data_argendata_new/AGROPE/produccion_global_carne_aviar_2021.csv.\n",
    "\n",
    "- Hay casos que parecen de éxito pero no lo son, como es el siguiente caso. Se detecta bien que hay (por lo menos una) columna de georreferencia, pero como me enfoqué en un diccionario de busqueda con 'geocodigo' como key 'name_long' su valor, me quede corta en casos como provincias. Ya sé (creo?) como arreglarlo. El ejemplo:  \n",
    "\n",
    "PBG_participacion_agro_provincia_evolucion.csv en AGROPE es MODIFICADO a partir de la columna candidata nom_pcia.\n",
    "Guardado en /home/lucia/Desktop/Fundar/Argendata_renaming/data/data_argendata_new/AGROPE/PBG_participacion_agro_provincia_evolucion.csv.\n",
    "\n",
    "- en algunos casos tengo un tema de encoding al guardar. Se evalúa para v2. Por ejemplo: \n",
    "\n",
    "A4_efecto_bs.csv en ACECON es MODIFICADO a partir de la columna candidata iso3.\n",
    "Error al guardar /home/lucia/Desktop/Fundar/Argendata_renaming/data/data_argendata_new/ACECON/A4_efecto_bs.csv: 'ascii' codec can't encode character '\\xe1' in position 43: ordinal not in range(128)  \n",
    "\n",
    "- tengo varios casos puntuales que quiero ver con detalle + incorporar idioma + input extra\n"
   ]
  },
  {
   "cell_type": "markdown",
   "metadata": {},
   "source": [
    "### <font color = \"tomato\">  Volver a ver tema ESPACIOS (por si están en el medio)</font>\n",
    "\n",
    "### <font color = \"tomato\">  Quiero ver lo de idioma </font>"
   ]
  },
  {
   "cell_type": "markdown",
   "metadata": {},
   "source": []
  }
 ],
 "metadata": {
  "kernelspec": {
   "display_name": "Python 3",
   "language": "python",
   "name": "python3"
  },
  "language_info": {
   "codemirror_mode": {
    "name": "ipython",
    "version": 3
   },
   "file_extension": ".py",
   "mimetype": "text/x-python",
   "name": "python",
   "nbconvert_exporter": "python",
   "pygments_lexer": "ipython3",
   "version": "3.10.12"
  }
 },
 "nbformat": 4,
 "nbformat_minor": 2
}
